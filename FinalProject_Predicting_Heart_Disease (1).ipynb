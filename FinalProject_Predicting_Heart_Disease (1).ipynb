{
  "nbformat": 4,
  "nbformat_minor": 0,
  "metadata": {
    "colab": {
      "name": "FinalProject_Predicting_Heart_Disease.ipynb",
      "provenance": [],
      "collapsed_sections": []
    },
    "kernelspec": {
      "name": "python3",
      "display_name": "Python 3"
    }
  },
  "cells": [
    {
      "cell_type": "markdown",
      "metadata": {
        "id": "huwEtI-gn7-X",
        "colab_type": "text"
      },
      "source": [
        "Final Project - Heart Disease Prediction using UCI heart disease dataset"
      ]
    },
    {
      "cell_type": "markdown",
      "metadata": {
        "id": "08trSxiTpAvF",
        "colab_type": "text"
      },
      "source": [
        "**A)   Data Analysis**"
      ]
    },
    {
      "cell_type": "code",
      "metadata": {
        "id": "N6BRkVT5n21d",
        "colab_type": "code",
        "colab": {}
      },
      "source": [
        "import pandas as pd\n",
        "\n",
        "data = pd.read_csv(\"/content/heart.csv\")"
      ],
      "execution_count": 0,
      "outputs": []
    },
    {
      "cell_type": "code",
      "metadata": {
        "id": "e0mTJVh8nuDh",
        "colab_type": "code",
        "outputId": "729ef69f-5fc1-4440-c211-6c9e6595126f",
        "colab": {
          "base_uri": "https://localhost:8080/",
          "height": 35
        }
      },
      "source": [
        "data.shape"
      ],
      "execution_count": 0,
      "outputs": [
        {
          "output_type": "execute_result",
          "data": {
            "text/plain": [
              "(303, 14)"
            ]
          },
          "metadata": {
            "tags": []
          },
          "execution_count": 4
        }
      ]
    },
    {
      "cell_type": "code",
      "metadata": {
        "id": "H7hf9Jfhnzl2",
        "colab_type": "code",
        "outputId": "9f580a5f-d1d8-4b22-f9e4-b92f9be07111",
        "colab": {
          "base_uri": "https://localhost:8080/",
          "height": 314
        }
      },
      "source": [
        "data.describe()"
      ],
      "execution_count": 0,
      "outputs": [
        {
          "output_type": "execute_result",
          "data": {
            "text/html": [
              "<div>\n",
              "<style scoped>\n",
              "    .dataframe tbody tr th:only-of-type {\n",
              "        vertical-align: middle;\n",
              "    }\n",
              "\n",
              "    .dataframe tbody tr th {\n",
              "        vertical-align: top;\n",
              "    }\n",
              "\n",
              "    .dataframe thead th {\n",
              "        text-align: right;\n",
              "    }\n",
              "</style>\n",
              "<table border=\"1\" class=\"dataframe\">\n",
              "  <thead>\n",
              "    <tr style=\"text-align: right;\">\n",
              "      <th></th>\n",
              "      <th>age</th>\n",
              "      <th>sex</th>\n",
              "      <th>cp</th>\n",
              "      <th>trestbps</th>\n",
              "      <th>chol</th>\n",
              "      <th>fbs</th>\n",
              "      <th>restecg</th>\n",
              "      <th>thalach</th>\n",
              "      <th>exang</th>\n",
              "      <th>oldpeak</th>\n",
              "      <th>slope</th>\n",
              "      <th>ca</th>\n",
              "      <th>thal</th>\n",
              "      <th>target</th>\n",
              "    </tr>\n",
              "  </thead>\n",
              "  <tbody>\n",
              "    <tr>\n",
              "      <th>count</th>\n",
              "      <td>303.000000</td>\n",
              "      <td>303.000000</td>\n",
              "      <td>303.000000</td>\n",
              "      <td>303.000000</td>\n",
              "      <td>303.000000</td>\n",
              "      <td>303.000000</td>\n",
              "      <td>303.000000</td>\n",
              "      <td>303.000000</td>\n",
              "      <td>303.000000</td>\n",
              "      <td>303.000000</td>\n",
              "      <td>303.000000</td>\n",
              "      <td>303.000000</td>\n",
              "      <td>303.000000</td>\n",
              "      <td>303.000000</td>\n",
              "    </tr>\n",
              "    <tr>\n",
              "      <th>mean</th>\n",
              "      <td>54.366337</td>\n",
              "      <td>0.683168</td>\n",
              "      <td>0.966997</td>\n",
              "      <td>131.623762</td>\n",
              "      <td>246.264026</td>\n",
              "      <td>0.148515</td>\n",
              "      <td>0.528053</td>\n",
              "      <td>149.646865</td>\n",
              "      <td>0.326733</td>\n",
              "      <td>1.039604</td>\n",
              "      <td>1.399340</td>\n",
              "      <td>0.729373</td>\n",
              "      <td>2.313531</td>\n",
              "      <td>0.544554</td>\n",
              "    </tr>\n",
              "    <tr>\n",
              "      <th>std</th>\n",
              "      <td>9.082101</td>\n",
              "      <td>0.466011</td>\n",
              "      <td>1.032052</td>\n",
              "      <td>17.538143</td>\n",
              "      <td>51.830751</td>\n",
              "      <td>0.356198</td>\n",
              "      <td>0.525860</td>\n",
              "      <td>22.905161</td>\n",
              "      <td>0.469794</td>\n",
              "      <td>1.161075</td>\n",
              "      <td>0.616226</td>\n",
              "      <td>1.022606</td>\n",
              "      <td>0.612277</td>\n",
              "      <td>0.498835</td>\n",
              "    </tr>\n",
              "    <tr>\n",
              "      <th>min</th>\n",
              "      <td>29.000000</td>\n",
              "      <td>0.000000</td>\n",
              "      <td>0.000000</td>\n",
              "      <td>94.000000</td>\n",
              "      <td>126.000000</td>\n",
              "      <td>0.000000</td>\n",
              "      <td>0.000000</td>\n",
              "      <td>71.000000</td>\n",
              "      <td>0.000000</td>\n",
              "      <td>0.000000</td>\n",
              "      <td>0.000000</td>\n",
              "      <td>0.000000</td>\n",
              "      <td>0.000000</td>\n",
              "      <td>0.000000</td>\n",
              "    </tr>\n",
              "    <tr>\n",
              "      <th>25%</th>\n",
              "      <td>47.500000</td>\n",
              "      <td>0.000000</td>\n",
              "      <td>0.000000</td>\n",
              "      <td>120.000000</td>\n",
              "      <td>211.000000</td>\n",
              "      <td>0.000000</td>\n",
              "      <td>0.000000</td>\n",
              "      <td>133.500000</td>\n",
              "      <td>0.000000</td>\n",
              "      <td>0.000000</td>\n",
              "      <td>1.000000</td>\n",
              "      <td>0.000000</td>\n",
              "      <td>2.000000</td>\n",
              "      <td>0.000000</td>\n",
              "    </tr>\n",
              "    <tr>\n",
              "      <th>50%</th>\n",
              "      <td>55.000000</td>\n",
              "      <td>1.000000</td>\n",
              "      <td>1.000000</td>\n",
              "      <td>130.000000</td>\n",
              "      <td>240.000000</td>\n",
              "      <td>0.000000</td>\n",
              "      <td>1.000000</td>\n",
              "      <td>153.000000</td>\n",
              "      <td>0.000000</td>\n",
              "      <td>0.800000</td>\n",
              "      <td>1.000000</td>\n",
              "      <td>0.000000</td>\n",
              "      <td>2.000000</td>\n",
              "      <td>1.000000</td>\n",
              "    </tr>\n",
              "    <tr>\n",
              "      <th>75%</th>\n",
              "      <td>61.000000</td>\n",
              "      <td>1.000000</td>\n",
              "      <td>2.000000</td>\n",
              "      <td>140.000000</td>\n",
              "      <td>274.500000</td>\n",
              "      <td>0.000000</td>\n",
              "      <td>1.000000</td>\n",
              "      <td>166.000000</td>\n",
              "      <td>1.000000</td>\n",
              "      <td>1.600000</td>\n",
              "      <td>2.000000</td>\n",
              "      <td>1.000000</td>\n",
              "      <td>3.000000</td>\n",
              "      <td>1.000000</td>\n",
              "    </tr>\n",
              "    <tr>\n",
              "      <th>max</th>\n",
              "      <td>77.000000</td>\n",
              "      <td>1.000000</td>\n",
              "      <td>3.000000</td>\n",
              "      <td>200.000000</td>\n",
              "      <td>564.000000</td>\n",
              "      <td>1.000000</td>\n",
              "      <td>2.000000</td>\n",
              "      <td>202.000000</td>\n",
              "      <td>1.000000</td>\n",
              "      <td>6.200000</td>\n",
              "      <td>2.000000</td>\n",
              "      <td>4.000000</td>\n",
              "      <td>3.000000</td>\n",
              "      <td>1.000000</td>\n",
              "    </tr>\n",
              "  </tbody>\n",
              "</table>\n",
              "</div>"
            ],
            "text/plain": [
              "              age         sex          cp  ...          ca        thal      target\n",
              "count  303.000000  303.000000  303.000000  ...  303.000000  303.000000  303.000000\n",
              "mean    54.366337    0.683168    0.966997  ...    0.729373    2.313531    0.544554\n",
              "std      9.082101    0.466011    1.032052  ...    1.022606    0.612277    0.498835\n",
              "min     29.000000    0.000000    0.000000  ...    0.000000    0.000000    0.000000\n",
              "25%     47.500000    0.000000    0.000000  ...    0.000000    2.000000    0.000000\n",
              "50%     55.000000    1.000000    1.000000  ...    0.000000    2.000000    1.000000\n",
              "75%     61.000000    1.000000    2.000000  ...    1.000000    3.000000    1.000000\n",
              "max     77.000000    1.000000    3.000000  ...    4.000000    3.000000    1.000000\n",
              "\n",
              "[8 rows x 14 columns]"
            ]
          },
          "metadata": {
            "tags": []
          },
          "execution_count": 5
        }
      ]
    },
    {
      "cell_type": "code",
      "metadata": {
        "id": "au-rb2FYooCY",
        "colab_type": "code",
        "outputId": "93879a88-6351-4f40-eed8-fcac5b07d4e1",
        "colab": {
          "base_uri": "https://localhost:8080/",
          "height": 478
        }
      },
      "source": [
        "data.corr()"
      ],
      "execution_count": 0,
      "outputs": [
        {
          "output_type": "execute_result",
          "data": {
            "text/html": [
              "<div>\n",
              "<style scoped>\n",
              "    .dataframe tbody tr th:only-of-type {\n",
              "        vertical-align: middle;\n",
              "    }\n",
              "\n",
              "    .dataframe tbody tr th {\n",
              "        vertical-align: top;\n",
              "    }\n",
              "\n",
              "    .dataframe thead th {\n",
              "        text-align: right;\n",
              "    }\n",
              "</style>\n",
              "<table border=\"1\" class=\"dataframe\">\n",
              "  <thead>\n",
              "    <tr style=\"text-align: right;\">\n",
              "      <th></th>\n",
              "      <th>age</th>\n",
              "      <th>sex</th>\n",
              "      <th>cp</th>\n",
              "      <th>trestbps</th>\n",
              "      <th>chol</th>\n",
              "      <th>fbs</th>\n",
              "      <th>restecg</th>\n",
              "      <th>thalach</th>\n",
              "      <th>exang</th>\n",
              "      <th>oldpeak</th>\n",
              "      <th>slope</th>\n",
              "      <th>ca</th>\n",
              "      <th>thal</th>\n",
              "      <th>target</th>\n",
              "    </tr>\n",
              "  </thead>\n",
              "  <tbody>\n",
              "    <tr>\n",
              "      <th>age</th>\n",
              "      <td>1.000000</td>\n",
              "      <td>-0.098447</td>\n",
              "      <td>-0.068653</td>\n",
              "      <td>0.279351</td>\n",
              "      <td>0.213678</td>\n",
              "      <td>0.121308</td>\n",
              "      <td>-0.116211</td>\n",
              "      <td>-0.398522</td>\n",
              "      <td>0.096801</td>\n",
              "      <td>0.210013</td>\n",
              "      <td>-0.168814</td>\n",
              "      <td>0.276326</td>\n",
              "      <td>0.068001</td>\n",
              "      <td>-0.225439</td>\n",
              "    </tr>\n",
              "    <tr>\n",
              "      <th>sex</th>\n",
              "      <td>-0.098447</td>\n",
              "      <td>1.000000</td>\n",
              "      <td>-0.049353</td>\n",
              "      <td>-0.056769</td>\n",
              "      <td>-0.197912</td>\n",
              "      <td>0.045032</td>\n",
              "      <td>-0.058196</td>\n",
              "      <td>-0.044020</td>\n",
              "      <td>0.141664</td>\n",
              "      <td>0.096093</td>\n",
              "      <td>-0.030711</td>\n",
              "      <td>0.118261</td>\n",
              "      <td>0.210041</td>\n",
              "      <td>-0.280937</td>\n",
              "    </tr>\n",
              "    <tr>\n",
              "      <th>cp</th>\n",
              "      <td>-0.068653</td>\n",
              "      <td>-0.049353</td>\n",
              "      <td>1.000000</td>\n",
              "      <td>0.047608</td>\n",
              "      <td>-0.076904</td>\n",
              "      <td>0.094444</td>\n",
              "      <td>0.044421</td>\n",
              "      <td>0.295762</td>\n",
              "      <td>-0.394280</td>\n",
              "      <td>-0.149230</td>\n",
              "      <td>0.119717</td>\n",
              "      <td>-0.181053</td>\n",
              "      <td>-0.161736</td>\n",
              "      <td>0.433798</td>\n",
              "    </tr>\n",
              "    <tr>\n",
              "      <th>trestbps</th>\n",
              "      <td>0.279351</td>\n",
              "      <td>-0.056769</td>\n",
              "      <td>0.047608</td>\n",
              "      <td>1.000000</td>\n",
              "      <td>0.123174</td>\n",
              "      <td>0.177531</td>\n",
              "      <td>-0.114103</td>\n",
              "      <td>-0.046698</td>\n",
              "      <td>0.067616</td>\n",
              "      <td>0.193216</td>\n",
              "      <td>-0.121475</td>\n",
              "      <td>0.101389</td>\n",
              "      <td>0.062210</td>\n",
              "      <td>-0.144931</td>\n",
              "    </tr>\n",
              "    <tr>\n",
              "      <th>chol</th>\n",
              "      <td>0.213678</td>\n",
              "      <td>-0.197912</td>\n",
              "      <td>-0.076904</td>\n",
              "      <td>0.123174</td>\n",
              "      <td>1.000000</td>\n",
              "      <td>0.013294</td>\n",
              "      <td>-0.151040</td>\n",
              "      <td>-0.009940</td>\n",
              "      <td>0.067023</td>\n",
              "      <td>0.053952</td>\n",
              "      <td>-0.004038</td>\n",
              "      <td>0.070511</td>\n",
              "      <td>0.098803</td>\n",
              "      <td>-0.085239</td>\n",
              "    </tr>\n",
              "    <tr>\n",
              "      <th>fbs</th>\n",
              "      <td>0.121308</td>\n",
              "      <td>0.045032</td>\n",
              "      <td>0.094444</td>\n",
              "      <td>0.177531</td>\n",
              "      <td>0.013294</td>\n",
              "      <td>1.000000</td>\n",
              "      <td>-0.084189</td>\n",
              "      <td>-0.008567</td>\n",
              "      <td>0.025665</td>\n",
              "      <td>0.005747</td>\n",
              "      <td>-0.059894</td>\n",
              "      <td>0.137979</td>\n",
              "      <td>-0.032019</td>\n",
              "      <td>-0.028046</td>\n",
              "    </tr>\n",
              "    <tr>\n",
              "      <th>restecg</th>\n",
              "      <td>-0.116211</td>\n",
              "      <td>-0.058196</td>\n",
              "      <td>0.044421</td>\n",
              "      <td>-0.114103</td>\n",
              "      <td>-0.151040</td>\n",
              "      <td>-0.084189</td>\n",
              "      <td>1.000000</td>\n",
              "      <td>0.044123</td>\n",
              "      <td>-0.070733</td>\n",
              "      <td>-0.058770</td>\n",
              "      <td>0.093045</td>\n",
              "      <td>-0.072042</td>\n",
              "      <td>-0.011981</td>\n",
              "      <td>0.137230</td>\n",
              "    </tr>\n",
              "    <tr>\n",
              "      <th>thalach</th>\n",
              "      <td>-0.398522</td>\n",
              "      <td>-0.044020</td>\n",
              "      <td>0.295762</td>\n",
              "      <td>-0.046698</td>\n",
              "      <td>-0.009940</td>\n",
              "      <td>-0.008567</td>\n",
              "      <td>0.044123</td>\n",
              "      <td>1.000000</td>\n",
              "      <td>-0.378812</td>\n",
              "      <td>-0.344187</td>\n",
              "      <td>0.386784</td>\n",
              "      <td>-0.213177</td>\n",
              "      <td>-0.096439</td>\n",
              "      <td>0.421741</td>\n",
              "    </tr>\n",
              "    <tr>\n",
              "      <th>exang</th>\n",
              "      <td>0.096801</td>\n",
              "      <td>0.141664</td>\n",
              "      <td>-0.394280</td>\n",
              "      <td>0.067616</td>\n",
              "      <td>0.067023</td>\n",
              "      <td>0.025665</td>\n",
              "      <td>-0.070733</td>\n",
              "      <td>-0.378812</td>\n",
              "      <td>1.000000</td>\n",
              "      <td>0.288223</td>\n",
              "      <td>-0.257748</td>\n",
              "      <td>0.115739</td>\n",
              "      <td>0.206754</td>\n",
              "      <td>-0.436757</td>\n",
              "    </tr>\n",
              "    <tr>\n",
              "      <th>oldpeak</th>\n",
              "      <td>0.210013</td>\n",
              "      <td>0.096093</td>\n",
              "      <td>-0.149230</td>\n",
              "      <td>0.193216</td>\n",
              "      <td>0.053952</td>\n",
              "      <td>0.005747</td>\n",
              "      <td>-0.058770</td>\n",
              "      <td>-0.344187</td>\n",
              "      <td>0.288223</td>\n",
              "      <td>1.000000</td>\n",
              "      <td>-0.577537</td>\n",
              "      <td>0.222682</td>\n",
              "      <td>0.210244</td>\n",
              "      <td>-0.430696</td>\n",
              "    </tr>\n",
              "    <tr>\n",
              "      <th>slope</th>\n",
              "      <td>-0.168814</td>\n",
              "      <td>-0.030711</td>\n",
              "      <td>0.119717</td>\n",
              "      <td>-0.121475</td>\n",
              "      <td>-0.004038</td>\n",
              "      <td>-0.059894</td>\n",
              "      <td>0.093045</td>\n",
              "      <td>0.386784</td>\n",
              "      <td>-0.257748</td>\n",
              "      <td>-0.577537</td>\n",
              "      <td>1.000000</td>\n",
              "      <td>-0.080155</td>\n",
              "      <td>-0.104764</td>\n",
              "      <td>0.345877</td>\n",
              "    </tr>\n",
              "    <tr>\n",
              "      <th>ca</th>\n",
              "      <td>0.276326</td>\n",
              "      <td>0.118261</td>\n",
              "      <td>-0.181053</td>\n",
              "      <td>0.101389</td>\n",
              "      <td>0.070511</td>\n",
              "      <td>0.137979</td>\n",
              "      <td>-0.072042</td>\n",
              "      <td>-0.213177</td>\n",
              "      <td>0.115739</td>\n",
              "      <td>0.222682</td>\n",
              "      <td>-0.080155</td>\n",
              "      <td>1.000000</td>\n",
              "      <td>0.151832</td>\n",
              "      <td>-0.391724</td>\n",
              "    </tr>\n",
              "    <tr>\n",
              "      <th>thal</th>\n",
              "      <td>0.068001</td>\n",
              "      <td>0.210041</td>\n",
              "      <td>-0.161736</td>\n",
              "      <td>0.062210</td>\n",
              "      <td>0.098803</td>\n",
              "      <td>-0.032019</td>\n",
              "      <td>-0.011981</td>\n",
              "      <td>-0.096439</td>\n",
              "      <td>0.206754</td>\n",
              "      <td>0.210244</td>\n",
              "      <td>-0.104764</td>\n",
              "      <td>0.151832</td>\n",
              "      <td>1.000000</td>\n",
              "      <td>-0.344029</td>\n",
              "    </tr>\n",
              "    <tr>\n",
              "      <th>target</th>\n",
              "      <td>-0.225439</td>\n",
              "      <td>-0.280937</td>\n",
              "      <td>0.433798</td>\n",
              "      <td>-0.144931</td>\n",
              "      <td>-0.085239</td>\n",
              "      <td>-0.028046</td>\n",
              "      <td>0.137230</td>\n",
              "      <td>0.421741</td>\n",
              "      <td>-0.436757</td>\n",
              "      <td>-0.430696</td>\n",
              "      <td>0.345877</td>\n",
              "      <td>-0.391724</td>\n",
              "      <td>-0.344029</td>\n",
              "      <td>1.000000</td>\n",
              "    </tr>\n",
              "  </tbody>\n",
              "</table>\n",
              "</div>"
            ],
            "text/plain": [
              "               age       sex        cp  ...        ca      thal    target\n",
              "age       1.000000 -0.098447 -0.068653  ...  0.276326  0.068001 -0.225439\n",
              "sex      -0.098447  1.000000 -0.049353  ...  0.118261  0.210041 -0.280937\n",
              "cp       -0.068653 -0.049353  1.000000  ... -0.181053 -0.161736  0.433798\n",
              "trestbps  0.279351 -0.056769  0.047608  ...  0.101389  0.062210 -0.144931\n",
              "chol      0.213678 -0.197912 -0.076904  ...  0.070511  0.098803 -0.085239\n",
              "fbs       0.121308  0.045032  0.094444  ...  0.137979 -0.032019 -0.028046\n",
              "restecg  -0.116211 -0.058196  0.044421  ... -0.072042 -0.011981  0.137230\n",
              "thalach  -0.398522 -0.044020  0.295762  ... -0.213177 -0.096439  0.421741\n",
              "exang     0.096801  0.141664 -0.394280  ...  0.115739  0.206754 -0.436757\n",
              "oldpeak   0.210013  0.096093 -0.149230  ...  0.222682  0.210244 -0.430696\n",
              "slope    -0.168814 -0.030711  0.119717  ... -0.080155 -0.104764  0.345877\n",
              "ca        0.276326  0.118261 -0.181053  ...  1.000000  0.151832 -0.391724\n",
              "thal      0.068001  0.210041 -0.161736  ...  0.151832  1.000000 -0.344029\n",
              "target   -0.225439 -0.280937  0.433798  ... -0.391724 -0.344029  1.000000\n",
              "\n",
              "[14 rows x 14 columns]"
            ]
          },
          "metadata": {
            "tags": []
          },
          "execution_count": 6
        }
      ]
    },
    {
      "cell_type": "markdown",
      "metadata": {
        "id": "iZhoig6ApanS",
        "colab_type": "text"
      },
      "source": [
        "**B)  Data Visualization**"
      ]
    },
    {
      "cell_type": "code",
      "metadata": {
        "id": "aGMkb0JcpjZh",
        "colab_type": "code",
        "outputId": "f46169d7-2bf9-410e-be68-b8e365b87e79",
        "colab": {
          "base_uri": "https://localhost:8080/",
          "height": 415
        }
      },
      "source": [
        "data"
      ],
      "execution_count": 0,
      "outputs": [
        {
          "output_type": "execute_result",
          "data": {
            "text/html": [
              "<div>\n",
              "<style scoped>\n",
              "    .dataframe tbody tr th:only-of-type {\n",
              "        vertical-align: middle;\n",
              "    }\n",
              "\n",
              "    .dataframe tbody tr th {\n",
              "        vertical-align: top;\n",
              "    }\n",
              "\n",
              "    .dataframe thead th {\n",
              "        text-align: right;\n",
              "    }\n",
              "</style>\n",
              "<table border=\"1\" class=\"dataframe\">\n",
              "  <thead>\n",
              "    <tr style=\"text-align: right;\">\n",
              "      <th></th>\n",
              "      <th>age</th>\n",
              "      <th>sex</th>\n",
              "      <th>cp</th>\n",
              "      <th>trestbps</th>\n",
              "      <th>chol</th>\n",
              "      <th>fbs</th>\n",
              "      <th>restecg</th>\n",
              "      <th>thalach</th>\n",
              "      <th>exang</th>\n",
              "      <th>oldpeak</th>\n",
              "      <th>slope</th>\n",
              "      <th>ca</th>\n",
              "      <th>thal</th>\n",
              "      <th>target</th>\n",
              "    </tr>\n",
              "  </thead>\n",
              "  <tbody>\n",
              "    <tr>\n",
              "      <th>0</th>\n",
              "      <td>63</td>\n",
              "      <td>1</td>\n",
              "      <td>3</td>\n",
              "      <td>145</td>\n",
              "      <td>233</td>\n",
              "      <td>1</td>\n",
              "      <td>0</td>\n",
              "      <td>150</td>\n",
              "      <td>0</td>\n",
              "      <td>2.3</td>\n",
              "      <td>0</td>\n",
              "      <td>0</td>\n",
              "      <td>1</td>\n",
              "      <td>1</td>\n",
              "    </tr>\n",
              "    <tr>\n",
              "      <th>1</th>\n",
              "      <td>37</td>\n",
              "      <td>1</td>\n",
              "      <td>2</td>\n",
              "      <td>130</td>\n",
              "      <td>250</td>\n",
              "      <td>0</td>\n",
              "      <td>1</td>\n",
              "      <td>187</td>\n",
              "      <td>0</td>\n",
              "      <td>3.5</td>\n",
              "      <td>0</td>\n",
              "      <td>0</td>\n",
              "      <td>2</td>\n",
              "      <td>1</td>\n",
              "    </tr>\n",
              "    <tr>\n",
              "      <th>2</th>\n",
              "      <td>41</td>\n",
              "      <td>0</td>\n",
              "      <td>1</td>\n",
              "      <td>130</td>\n",
              "      <td>204</td>\n",
              "      <td>0</td>\n",
              "      <td>0</td>\n",
              "      <td>172</td>\n",
              "      <td>0</td>\n",
              "      <td>1.4</td>\n",
              "      <td>2</td>\n",
              "      <td>0</td>\n",
              "      <td>2</td>\n",
              "      <td>1</td>\n",
              "    </tr>\n",
              "    <tr>\n",
              "      <th>3</th>\n",
              "      <td>56</td>\n",
              "      <td>1</td>\n",
              "      <td>1</td>\n",
              "      <td>120</td>\n",
              "      <td>236</td>\n",
              "      <td>0</td>\n",
              "      <td>1</td>\n",
              "      <td>178</td>\n",
              "      <td>0</td>\n",
              "      <td>0.8</td>\n",
              "      <td>2</td>\n",
              "      <td>0</td>\n",
              "      <td>2</td>\n",
              "      <td>1</td>\n",
              "    </tr>\n",
              "    <tr>\n",
              "      <th>4</th>\n",
              "      <td>57</td>\n",
              "      <td>0</td>\n",
              "      <td>0</td>\n",
              "      <td>120</td>\n",
              "      <td>354</td>\n",
              "      <td>0</td>\n",
              "      <td>1</td>\n",
              "      <td>163</td>\n",
              "      <td>1</td>\n",
              "      <td>0.6</td>\n",
              "      <td>2</td>\n",
              "      <td>0</td>\n",
              "      <td>2</td>\n",
              "      <td>1</td>\n",
              "    </tr>\n",
              "    <tr>\n",
              "      <th>...</th>\n",
              "      <td>...</td>\n",
              "      <td>...</td>\n",
              "      <td>...</td>\n",
              "      <td>...</td>\n",
              "      <td>...</td>\n",
              "      <td>...</td>\n",
              "      <td>...</td>\n",
              "      <td>...</td>\n",
              "      <td>...</td>\n",
              "      <td>...</td>\n",
              "      <td>...</td>\n",
              "      <td>...</td>\n",
              "      <td>...</td>\n",
              "      <td>...</td>\n",
              "    </tr>\n",
              "    <tr>\n",
              "      <th>298</th>\n",
              "      <td>57</td>\n",
              "      <td>0</td>\n",
              "      <td>0</td>\n",
              "      <td>140</td>\n",
              "      <td>241</td>\n",
              "      <td>0</td>\n",
              "      <td>1</td>\n",
              "      <td>123</td>\n",
              "      <td>1</td>\n",
              "      <td>0.2</td>\n",
              "      <td>1</td>\n",
              "      <td>0</td>\n",
              "      <td>3</td>\n",
              "      <td>0</td>\n",
              "    </tr>\n",
              "    <tr>\n",
              "      <th>299</th>\n",
              "      <td>45</td>\n",
              "      <td>1</td>\n",
              "      <td>3</td>\n",
              "      <td>110</td>\n",
              "      <td>264</td>\n",
              "      <td>0</td>\n",
              "      <td>1</td>\n",
              "      <td>132</td>\n",
              "      <td>0</td>\n",
              "      <td>1.2</td>\n",
              "      <td>1</td>\n",
              "      <td>0</td>\n",
              "      <td>3</td>\n",
              "      <td>0</td>\n",
              "    </tr>\n",
              "    <tr>\n",
              "      <th>300</th>\n",
              "      <td>68</td>\n",
              "      <td>1</td>\n",
              "      <td>0</td>\n",
              "      <td>144</td>\n",
              "      <td>193</td>\n",
              "      <td>1</td>\n",
              "      <td>1</td>\n",
              "      <td>141</td>\n",
              "      <td>0</td>\n",
              "      <td>3.4</td>\n",
              "      <td>1</td>\n",
              "      <td>2</td>\n",
              "      <td>3</td>\n",
              "      <td>0</td>\n",
              "    </tr>\n",
              "    <tr>\n",
              "      <th>301</th>\n",
              "      <td>57</td>\n",
              "      <td>1</td>\n",
              "      <td>0</td>\n",
              "      <td>130</td>\n",
              "      <td>131</td>\n",
              "      <td>0</td>\n",
              "      <td>1</td>\n",
              "      <td>115</td>\n",
              "      <td>1</td>\n",
              "      <td>1.2</td>\n",
              "      <td>1</td>\n",
              "      <td>1</td>\n",
              "      <td>3</td>\n",
              "      <td>0</td>\n",
              "    </tr>\n",
              "    <tr>\n",
              "      <th>302</th>\n",
              "      <td>57</td>\n",
              "      <td>0</td>\n",
              "      <td>1</td>\n",
              "      <td>130</td>\n",
              "      <td>236</td>\n",
              "      <td>0</td>\n",
              "      <td>0</td>\n",
              "      <td>174</td>\n",
              "      <td>0</td>\n",
              "      <td>0.0</td>\n",
              "      <td>1</td>\n",
              "      <td>1</td>\n",
              "      <td>2</td>\n",
              "      <td>0</td>\n",
              "    </tr>\n",
              "  </tbody>\n",
              "</table>\n",
              "<p>303 rows × 14 columns</p>\n",
              "</div>"
            ],
            "text/plain": [
              "     age  sex  cp  trestbps  chol  fbs  ...  exang  oldpeak  slope  ca  thal  target\n",
              "0     63    1   3       145   233    1  ...      0      2.3      0   0     1       1\n",
              "1     37    1   2       130   250    0  ...      0      3.5      0   0     2       1\n",
              "2     41    0   1       130   204    0  ...      0      1.4      2   0     2       1\n",
              "3     56    1   1       120   236    0  ...      0      0.8      2   0     2       1\n",
              "4     57    0   0       120   354    0  ...      1      0.6      2   0     2       1\n",
              "..   ...  ...  ..       ...   ...  ...  ...    ...      ...    ...  ..   ...     ...\n",
              "298   57    0   0       140   241    0  ...      1      0.2      1   0     3       0\n",
              "299   45    1   3       110   264    0  ...      0      1.2      1   0     3       0\n",
              "300   68    1   0       144   193    1  ...      0      3.4      1   2     3       0\n",
              "301   57    1   0       130   131    0  ...      1      1.2      1   1     3       0\n",
              "302   57    0   1       130   236    0  ...      0      0.0      1   1     2       0\n",
              "\n",
              "[303 rows x 14 columns]"
            ]
          },
          "metadata": {
            "tags": []
          },
          "execution_count": 7
        }
      ]
    },
    {
      "cell_type": "code",
      "metadata": {
        "id": "uH0sjPpZqKEh",
        "colab_type": "code",
        "colab": {}
      },
      "source": [
        "target = list(data['target'].values)\n",
        "age = list(data['age'].values)\n"
      ],
      "execution_count": 0,
      "outputs": []
    },
    {
      "cell_type": "code",
      "metadata": {
        "id": "TkUCWh98qVnC",
        "colab_type": "code",
        "colab": {}
      },
      "source": [
        "not_having_heart_disease,having_heart_disease,age_not_have,age_have = 0,0,0,0\n",
        "for i in range(len(target)):\n",
        "  if target[i] == 0:\n",
        "    not_having_heart_disease+=1\n",
        "  else :\n",
        "    having_heart_disease+=1\n",
        "\n"
      ],
      "execution_count": 0,
      "outputs": []
    },
    {
      "cell_type": "code",
      "metadata": {
        "id": "QU_70t0YrJHi",
        "colab_type": "code",
        "outputId": "48db901a-f407-4202-a8a8-b3840a0d419a",
        "colab": {
          "base_uri": "https://localhost:8080/",
          "height": 52
        }
      },
      "source": [
        "l = []\n",
        "labelx = ['Not_having_heart_disease','having_heart_disease']\n",
        "print(having_heart_disease)\n",
        "print(not_having_heart_disease)\n",
        "l.append(not_having_heart_disease)\n",
        "l.append(having_heart_disease)\n"
      ],
      "execution_count": 0,
      "outputs": [
        {
          "output_type": "stream",
          "text": [
            "165\n",
            "138\n"
          ],
          "name": "stdout"
        }
      ]
    },
    {
      "cell_type": "code",
      "metadata": {
        "id": "rvDx59yXrXkB",
        "colab_type": "code",
        "outputId": "a6c64297-e276-47df-c926-d450083bffac",
        "colab": {
          "base_uri": "https://localhost:8080/",
          "height": 357
        }
      },
      "source": [
        "import matplotlib.pyplot as plt\n",
        "plt.figure(figsize=(10,6))\n",
        "colors = [ 'lightgreen','red',]\n",
        "explode = [0,0.08]\n",
        "plt.pie(l,labels=labelx,explode=explode,colors = colors,startangle=0,autopct='%.2f%%')\n",
        "plt.show()"
      ],
      "execution_count": 0,
      "outputs": [
        {
          "output_type": "display_data",
          "data": {
            "image/png": "[encoded data removed]",
            "text/plain": [
              "<Figure size 720x432 with 1 Axes>"
            ]
          },
          "metadata": {
            "tags": []
          }
        }
      ]
    },
    {
      "cell_type": "code",
      "metadata": {
        "id": "wdeGBZWsy6EV",
        "colab_type": "code",
        "outputId": "9f7a0ff1-ffda-4077-d54e-4ca087a2a988",
        "colab": {
          "base_uri": "https://localhost:8080/",
          "height": 350
        }
      },
      "source": [
        "plt.figure(figsize=(15,5))\n",
        "\n",
        "plt.scatter(age,target)\n",
        "plt.yticks([0,1])\n",
        "plt.xticks(age)\n",
        "plt.title(\"Age vs Heart disease status\")\n",
        "plt.xlabel(\"Age\")\n",
        "plt.ylabel('Heart Disease Status (0 : Not Having , 1: Having)')\n",
        "plt.show()\n"
      ],
      "execution_count": 0,
      "outputs": [
        {
          "output_type": "display_data",
          "data": {
            "image/png": "[encoded data removed]",
            "text/plain": [
              "<Figure size 1080x360 with 1 Axes>"
            ]
          },
          "metadata": {
            "tags": [],
            "needs_background": "light"
          }
        }
      ]
    },
    {
      "cell_type": "code",
      "metadata": {
        "id": "dzQrEOxTEj19",
        "colab_type": "code",
        "colab": {}
      },
      "source": [
        "\n",
        "correlation_matrix = data.corr()"
      ],
      "execution_count": 0,
      "outputs": []
    },
    {
      "cell_type": "code",
      "metadata": {
        "id": "t36FkOju0Ddx",
        "colab_type": "code",
        "outputId": "c508cf2d-f4b2-4472-fdab-7de3d8213b9d",
        "colab": {
          "base_uri": "https://localhost:8080/",
          "height": 595
        }
      },
      "source": [
        "import seaborn as sns\n",
        "\n",
        "f, ax = plt.subplots(figsize=(15, 10)) \n",
        "heatmap = sns.heatmap(correlation_matrix,linewidths = .5,cmap=\"coolwarm\",annot=True)"
      ],
      "execution_count": 0,
      "outputs": [
        {
          "output_type": "display_data",
          "data": {
            "image/png": "[encoded data removed]",
            "text/plain": [
              "<Figure size 1080x720 with 2 Axes>"
            ]
          },
          "metadata": {
            "tags": [],
            "needs_background": "light"
          }
        }
      ]
    },
    {
      "cell_type": "markdown",
      "metadata": {
        "id": "du5R60cmG5i4",
        "colab_type": "text"
      },
      "source": [
        "**C) Logistic Regression**"
      ]
    },
    {
      "cell_type": "code",
      "metadata": {
        "id": "aXvqnC6xLC6Y",
        "colab_type": "code",
        "colab": {}
      },
      "source": [
        "x = data.iloc[:,:-1]\n",
        "\n",
        "y = data.iloc[:,-1:]"
      ],
      "execution_count": 0,
      "outputs": []
    },
    {
      "cell_type": "code",
      "metadata": {
        "id": "IpvKQhkxHDmJ",
        "colab_type": "code",
        "colab": {}
      },
      "source": [
        "from sklearn.model_selection import train_test_split\n",
        "from sklearn.linear_model import LogisticRegression\n",
        "from sklearn.metrics import confusion_matrix,accuracy_score"
      ],
      "execution_count": 0,
      "outputs": []
    },
    {
      "cell_type": "code",
      "metadata": {
        "id": "nnsMVurLJdpL",
        "colab_type": "code",
        "colab": {}
      },
      "source": [
        "x_train,x_test,y_train,y_test = train_test_split(x,y,test_size = .30,random_state = 0)"
      ],
      "execution_count": 0,
      "outputs": []
    },
    {
      "cell_type": "code",
      "metadata": {
        "id": "GlhmindxKlpK",
        "colab_type": "code",
        "outputId": "ef275566-9c82-4c06-da51-dc9af379477f",
        "colab": {
          "base_uri": "https://localhost:8080/",
          "height": 87
        }
      },
      "source": [
        "print(x_train.shape)\n",
        "print(x_test.shape)\n",
        "print(y_train.shape)\n",
        "print(y_test.shape)"
      ],
      "execution_count": 0,
      "outputs": [
        {
          "output_type": "stream",
          "text": [
            "(212, 13)\n",
            "(91, 13)\n",
            "(212, 1)\n",
            "(91, 1)\n"
          ],
          "name": "stdout"
        }
      ]
    },
    {
      "cell_type": "code",
      "metadata": {
        "id": "JeZHnDQwN2Rb",
        "colab_type": "code",
        "colab": {}
      },
      "source": [
        "lor = LogisticRegression(max_iter=900)\n"
      ],
      "execution_count": 0,
      "outputs": []
    },
    {
      "cell_type": "code",
      "metadata": {
        "id": "6qIuHJH7ODIP",
        "colab_type": "code",
        "outputId": "9fa1ccf4-a265-42a4-b369-5ac10afa16b6",
        "colab": {
          "base_uri": "https://localhost:8080/",
          "height": 159
        }
      },
      "source": [
        "lor.fit(x_train,y_train)"
      ],
      "execution_count": 0,
      "outputs": [
        {
          "output_type": "stream",
          "text": [
            "/usr/local/lib/python3.6/dist-packages/sklearn/utils/validation.py:760: DataConversionWarning: A column-vector y was passed when a 1d array was expected. Please change the shape of y to (n_samples, ), for example using ravel().\n",
            "  y = column_or_1d(y, warn=True)\n"
          ],
          "name": "stderr"
        },
        {
          "output_type": "execute_result",
          "data": {
            "text/plain": [
              "LogisticRegression(C=1.0, class_weight=None, dual=False, fit_intercept=True,\n",
              "                   intercept_scaling=1, l1_ratio=None, max_iter=900,\n",
              "                   multi_class='auto', n_jobs=None, penalty='l2',\n",
              "                   random_state=None, solver='lbfgs', tol=0.0001, verbose=0,\n",
              "                   warm_start=False)"
            ]
          },
          "metadata": {
            "tags": []
          },
          "execution_count": 101
        }
      ]
    },
    {
      "cell_type": "code",
      "metadata": {
        "id": "fkDM6zsfPR2R",
        "colab_type": "code",
        "colab": {}
      },
      "source": [
        "y_pred = lor.predict(x_test)\n"
      ],
      "execution_count": 0,
      "outputs": []
    },
    {
      "cell_type": "code",
      "metadata": {
        "id": "E38KPaj3Pp3X",
        "colab_type": "code",
        "outputId": "7c076652-9d09-42c5-a5ed-a74d0e918ce8",
        "colab": {
          "base_uri": "https://localhost:8080/",
          "height": 35
        }
      },
      "source": [
        "score = accuracy_score(y_pred,y_test)\n",
        "print(score)"
      ],
      "execution_count": 0,
      "outputs": [
        {
          "output_type": "stream",
          "text": [
            "0.8131868131868132\n"
          ],
          "name": "stdout"
        }
      ]
    },
    {
      "cell_type": "code",
      "metadata": {
        "id": "Ep1HieobQbyK",
        "colab_type": "code",
        "colab": {}
      },
      "source": [
        "def print_heatmap(matrix, score, figsize=(9, 9)):\n",
        "    plt.figure(figsize=figsize)\n",
        "    sns.heatmap(matrix, annot=True,cmap='Blues_r')\n",
        "    plt.xlabel('Prediction')\n",
        "    plt.ylabel('Actual')\n",
        "    plt.title(\"Accuracy Score: {0}\".format(score), size=15)"
      ],
      "execution_count": 0,
      "outputs": []
    },
    {
      "cell_type": "code",
      "metadata": {
        "id": "rqw1vFGQQou7",
        "colab_type": "code",
        "outputId": "02789aeb-e8ea-415f-a317-0342dfd4e0fa",
        "colab": {
          "base_uri": "https://localhost:8080/",
          "height": 52
        }
      },
      "source": [
        "cm = confusion_matrix(y_test,y_pred)\n",
        "cm"
      ],
      "execution_count": 0,
      "outputs": [
        {
          "output_type": "execute_result",
          "data": {
            "text/plain": [
              "array([[32, 12],\n",
              "       [ 5, 42]])"
            ]
          },
          "metadata": {
            "tags": []
          },
          "execution_count": 108
        }
      ]
    },
    {
      "cell_type": "code",
      "metadata": {
        "id": "Yg0s5vPaQwzK",
        "colab_type": "code",
        "outputId": "0499dd5f-b4d9-40e9-fbf7-931df3463463",
        "colab": {
          "base_uri": "https://localhost:8080/",
          "height": 569
        }
      },
      "source": [
        "print_heatmap(cm, score)"
      ],
      "execution_count": 0,
      "outputs": [
        {
          "output_type": "display_data",
          "data": {
            "image/png": "[encoded data removed]",
            "text/plain": [
              "<Figure size 648x648 with 2 Axes>"
            ]
          },
          "metadata": {
            "tags": [],
            "needs_background": "light"
          }
        }
      ]
    },
    {
      "cell_type": "markdown",
      "metadata": {
        "id": "zHTSd01MRZGR",
        "colab_type": "text"
      },
      "source": [
        "**D)                     Decision Tree**"
      ]
    },
    {
      "cell_type": "code",
      "metadata": {
        "id": "z3Th__jdRxEh",
        "colab_type": "code",
        "colab": {}
      },
      "source": [
        "from sklearn.tree import DecisionTreeClassifier"
      ],
      "execution_count": 0,
      "outputs": []
    },
    {
      "cell_type": "code",
      "metadata": {
        "id": "Bm03U4IUe_QW",
        "colab_type": "code",
        "outputId": "bf6cce6b-1c0f-4d85-d074-2a078a8369d9",
        "colab": {
          "base_uri": "https://localhost:8080/",
          "height": 121
        }
      },
      "source": [
        "dtree = DecisionTreeClassifier(max_depth=10)\n",
        "dtree"
      ],
      "execution_count": 0,
      "outputs": [
        {
          "output_type": "execute_result",
          "data": {
            "text/plain": [
              "DecisionTreeClassifier(ccp_alpha=0.0, class_weight=None, criterion='gini',\n",
              "                       max_depth=10, max_features=None, max_leaf_nodes=None,\n",
              "                       min_impurity_decrease=0.0, min_impurity_split=None,\n",
              "                       min_samples_leaf=1, min_samples_split=2,\n",
              "                       min_weight_fraction_leaf=0.0, presort='deprecated',\n",
              "                       random_state=None, splitter='best')"
            ]
          },
          "metadata": {
            "tags": []
          },
          "execution_count": 131
        }
      ]
    },
    {
      "cell_type": "code",
      "metadata": {
        "id": "nGD7vAQagG0M",
        "colab_type": "code",
        "outputId": "7540edf8-7d8d-483e-deb2-32c885be3d4e",
        "colab": {
          "base_uri": "https://localhost:8080/",
          "height": 121
        }
      },
      "source": [
        "dtree.fit(x_train,y_train)"
      ],
      "execution_count": 0,
      "outputs": [
        {
          "output_type": "execute_result",
          "data": {
            "text/plain": [
              "DecisionTreeClassifier(ccp_alpha=0.0, class_weight=None, criterion='gini',\n",
              "                       max_depth=10, max_features=None, max_leaf_nodes=None,\n",
              "                       min_impurity_decrease=0.0, min_impurity_split=None,\n",
              "                       min_samples_leaf=1, min_samples_split=2,\n",
              "                       min_weight_fraction_leaf=0.0, presort='deprecated',\n",
              "                       random_state=None, splitter='best')"
            ]
          },
          "metadata": {
            "tags": []
          },
          "execution_count": 132
        }
      ]
    },
    {
      "cell_type": "code",
      "metadata": {
        "id": "My1Y3M8FgSBO",
        "colab_type": "code",
        "colab": {}
      },
      "source": [
        "dtree_y_pred = dtree.predict(x_test)\n"
      ],
      "execution_count": 0,
      "outputs": []
    },
    {
      "cell_type": "code",
      "metadata": {
        "id": "hhjqQhSKgjQH",
        "colab_type": "code",
        "outputId": "bbd21a30-6fde-4b3a-8f92-45bfcd64a379",
        "colab": {
          "base_uri": "https://localhost:8080/",
          "height": 35
        }
      },
      "source": [
        "dtree_accuracy_score = accuracy_score(y_test,dtree_y_pred)\n",
        "\n",
        "dtree_accuracy_score"
      ],
      "execution_count": 0,
      "outputs": [
        {
          "output_type": "execute_result",
          "data": {
            "text/plain": [
              "0.7252747252747253"
            ]
          },
          "metadata": {
            "tags": []
          },
          "execution_count": 134
        }
      ]
    },
    {
      "cell_type": "code",
      "metadata": {
        "id": "w5c2WaFthin9",
        "colab_type": "code",
        "outputId": "32b88b80-f6d9-4993-a082-57da45bb448a",
        "colab": {
          "base_uri": "https://localhost:8080/",
          "height": 52
        }
      },
      "source": [
        "cf_dtree = confusion_matrix(y_test, dtree_y_pred)\n",
        "cf_dtree"
      ],
      "execution_count": 0,
      "outputs": [
        {
          "output_type": "execute_result",
          "data": {
            "text/plain": [
              "array([[32, 12],\n",
              "       [13, 34]])"
            ]
          },
          "metadata": {
            "tags": []
          },
          "execution_count": 137
        }
      ]
    },
    {
      "cell_type": "code",
      "metadata": {
        "id": "tSFigrMKiSWW",
        "colab_type": "code",
        "outputId": "d61bef89-8587-4fc4-9cd6-31ffa33e6ce1",
        "colab": {
          "base_uri": "https://localhost:8080/",
          "height": 569
        }
      },
      "source": [
        "print_heatmap(cf_dtree,dtree_accuracy_score)"
      ],
      "execution_count": 0,
      "outputs": [
        {
          "output_type": "display_data",
          "data": {
            "image/png": "[encoded data removed]",
            "text/plain": [
              "<Figure size 648x648 with 2 Axes>"
            ]
          },
          "metadata": {
            "tags": [],
            "needs_background": "light"
          }
        }
      ]
    },
    {
      "cell_type": "code",
      "metadata": {
        "id": "hEfqZELVi06L",
        "colab_type": "code",
        "colab": {}
      },
      "source": [
        "\n",
        "import graphviz \n",
        "dot_data = tree.export_graphviz(dtree, out_file=None,filled=True, rounded=True,special_characters=True) \n"
      ],
      "execution_count": 0,
      "outputs": []
    },
    {
      "cell_type": "code",
      "metadata": {
        "id": "wmD10vA5ksA9",
        "colab_type": "code",
        "outputId": "d2c38835-2336-4dab-aef8-317d1609582a",
        "colab": {
          "base_uri": "https://localhost:8080/",
          "height": 1000
        }
      },
      "source": [
        "graph = graphviz.Source(dot_data) \n",
        "\n",
        "graph\n"
      ],
      "execution_count": 0,
      "outputs": [
        {
          "output_type": "execute_result",
          "data": {
            "text/plain": [
              "<graphviz.files.Source at 0x7fc0966bdf60>"
            ],
            "image/svg+xml": "<?xml version=\"1.0\" encoding=\"UTF-8\" standalone=\"no\"?>\n<!DOCTYPE svg PUBLIC \"-//W3C//DTD SVG 1.1//EN\"\n \"http://www.w3.org/Graphics/SVG/1.1/DTD/svg11.dtd\">\n<!-- Generated by graphviz version 2.40.1 (20161225.0304)\n -->\n<!-- Title: Tree Pages: 1 -->\n<svg width=\"1985pt\" height=\"961pt\"\n viewBox=\"0.00 0.00 1985.00 961.00\" xmlns=\"http://www.w3.org/2000/svg\" xmlns:xlink=\"http://www.w3.org/1999/xlink\">\n<g id=\"graph0\" class=\"graph\" transform=\"scale(1 1) rotate(0) translate(4 957)\">\n<title>Tree</title>\n<polygon fill=\"#ffffff\" stroke=\"transparent\" points=\"-4,4 -4,-957 1981,-957 1981,4 -4,4\"/>\n<!-- 0 -->\n<g id=\"node1\" class=\"node\">\n<title>0</title>\n<path fill=\"#d7ebfa\" stroke=\"#000000\" d=\"M1110.5,-953C1110.5,-953 1010.5,-953 1010.5,-953 1004.5,-953 998.5,-947 998.5,-941 998.5,-941 998.5,-901 998.5,-901 998.5,-895 1004.5,-889 1010.5,-889 1010.5,-889 1110.5,-889 1110.5,-889 1116.5,-889 1122.5,-895 1122.5,-901 1122.5,-901 1122.5,-941 1122.5,-941 1122.5,-947 1116.5,-953 1110.5,-953\"/>\n<text text-anchor=\"start\" x=\"1034\" y=\"-938.8\" font-family=\"Helvetica,sans-Serif\" font-size=\"14.00\" fill=\"#000000\">X</text>\n<text text-anchor=\"start\" x=\"1044\" y=\"-938.8\" font-family=\"Helvetica,sans-Serif\" baseline-shift=\"sub\" font-size=\"14.00\" fill=\"#000000\">2</text>\n<text text-anchor=\"start\" x=\"1051\" y=\"-938.8\" font-family=\"Helvetica,sans-Serif\" font-size=\"14.00\" fill=\"#000000\"> ≤ 0.5</text>\n<text text-anchor=\"start\" x=\"1022.5\" y=\"-924.8\" font-family=\"Helvetica,sans-Serif\" font-size=\"14.00\" fill=\"#000000\">gini = 0.494</text>\n<text text-anchor=\"start\" x=\"1012.5\" y=\"-910.8\" font-family=\"Helvetica,sans-Serif\" font-size=\"14.00\" fill=\"#000000\">samples = 212</text>\n<text text-anchor=\"start\" x=\"1006.5\" y=\"-896.8\" font-family=\"Helvetica,sans-Serif\" font-size=\"14.00\" fill=\"#000000\">value = [94, 118]</text>\n</g>\n<!-- 1 -->\n<g id=\"node2\" class=\"node\">\n<title>1</title>\n<path fill=\"#f0b58b\" stroke=\"#000000\" d=\"M799.5,-853C799.5,-853 707.5,-853 707.5,-853 701.5,-853 695.5,-847 695.5,-841 695.5,-841 695.5,-801 695.5,-801 695.5,-795 701.5,-789 707.5,-789 707.5,-789 799.5,-789 799.5,-789 805.5,-789 811.5,-795 811.5,-801 811.5,-801 811.5,-841 811.5,-841 811.5,-847 805.5,-853 799.5,-853\"/>\n<text text-anchor=\"start\" x=\"723.5\" y=\"-838.8\" font-family=\"Helvetica,sans-Serif\" font-size=\"14.00\" fill=\"#000000\">X</text>\n<text text-anchor=\"start\" x=\"733.5\" y=\"-838.8\" font-family=\"Helvetica,sans-Serif\" baseline-shift=\"sub\" font-size=\"14.00\" fill=\"#000000\">11</text>\n<text text-anchor=\"start\" x=\"747.5\" y=\"-838.8\" font-family=\"Helvetica,sans-Serif\" font-size=\"14.00\" fill=\"#000000\"> ≤ 0.5</text>\n<text text-anchor=\"start\" x=\"715.5\" y=\"-824.8\" font-family=\"Helvetica,sans-Serif\" font-size=\"14.00\" fill=\"#000000\">gini = 0.415</text>\n<text text-anchor=\"start\" x=\"705.5\" y=\"-810.8\" font-family=\"Helvetica,sans-Serif\" font-size=\"14.00\" fill=\"#000000\">samples = 102</text>\n<text text-anchor=\"start\" x=\"703.5\" y=\"-796.8\" font-family=\"Helvetica,sans-Serif\" font-size=\"14.00\" fill=\"#000000\">value = [72, 30]</text>\n</g>\n<!-- 0&#45;&gt;1 -->\n<g id=\"edge1\" class=\"edge\">\n<title>0&#45;&gt;1</title>\n<path fill=\"none\" stroke=\"#000000\" d=\"M998.374,-900.7635C946.9947,-884.0276 874.1413,-860.2968 821.2669,-843.0739\"/>\n<polygon fill=\"#000000\" stroke=\"#000000\" points=\"822.2286,-839.7062 811.6363,-839.9369 820.0606,-846.362 822.2286,-839.7062\"/>\n<text text-anchor=\"middle\" x=\"822.9697\" y=\"-858.5204\" font-family=\"Helvetica,sans-Serif\" font-size=\"14.00\" fill=\"#000000\">True</text>\n</g>\n<!-- 28 -->\n<g id=\"node29\" class=\"node\">\n<title>28</title>\n<path fill=\"#6ab6ec\" stroke=\"#000000\" d=\"M1436.5,-853C1436.5,-853 1344.5,-853 1344.5,-853 1338.5,-853 1332.5,-847 1332.5,-841 1332.5,-841 1332.5,-801 1332.5,-801 1332.5,-795 1338.5,-789 1344.5,-789 1344.5,-789 1436.5,-789 1436.5,-789 1442.5,-789 1448.5,-795 1448.5,-801 1448.5,-801 1448.5,-841 1448.5,-841 1448.5,-847 1442.5,-853 1436.5,-853\"/>\n<text text-anchor=\"start\" x=\"1360\" y=\"-838.8\" font-family=\"Helvetica,sans-Serif\" font-size=\"14.00\" fill=\"#000000\">X</text>\n<text text-anchor=\"start\" x=\"1370\" y=\"-838.8\" font-family=\"Helvetica,sans-Serif\" baseline-shift=\"sub\" font-size=\"14.00\" fill=\"#000000\">9</text>\n<text text-anchor=\"start\" x=\"1377\" y=\"-838.8\" font-family=\"Helvetica,sans-Serif\" font-size=\"14.00\" fill=\"#000000\"> ≤ 1.95</text>\n<text text-anchor=\"start\" x=\"1357\" y=\"-824.8\" font-family=\"Helvetica,sans-Serif\" font-size=\"14.00\" fill=\"#000000\">gini = 0.32</text>\n<text text-anchor=\"start\" x=\"1342.5\" y=\"-810.8\" font-family=\"Helvetica,sans-Serif\" font-size=\"14.00\" fill=\"#000000\">samples = 110</text>\n<text text-anchor=\"start\" x=\"1340.5\" y=\"-796.8\" font-family=\"Helvetica,sans-Serif\" font-size=\"14.00\" fill=\"#000000\">value = [22, 88]</text>\n</g>\n<!-- 0&#45;&gt;28 -->\n<g id=\"edge28\" class=\"edge\">\n<title>0&#45;&gt;28</title>\n<path fill=\"none\" stroke=\"#000000\" d=\"M1122.5705,-902.1908C1179.49,-884.9424 1263.6185,-859.449 1322.373,-841.6445\"/>\n<polygon fill=\"#000000\" stroke=\"#000000\" points=\"1323.75,-844.8845 1332.3052,-838.6348 1321.7199,-838.1854 1323.75,-844.8845\"/>\n<text text-anchor=\"middle\" x=\"1320.5139\" y=\"-856.9794\" font-family=\"Helvetica,sans-Serif\" font-size=\"14.00\" fill=\"#000000\">False</text>\n</g>\n<!-- 2 -->\n<g id=\"node3\" class=\"node\">\n<title>2</title>\n<path fill=\"#d3e9f9\" stroke=\"#000000\" d=\"M610.5,-753C610.5,-753 518.5,-753 518.5,-753 512.5,-753 506.5,-747 506.5,-741 506.5,-741 506.5,-701 506.5,-701 506.5,-695 512.5,-689 518.5,-689 518.5,-689 610.5,-689 610.5,-689 616.5,-689 622.5,-695 622.5,-701 622.5,-701 622.5,-741 622.5,-741 622.5,-747 616.5,-753 610.5,-753\"/>\n<text text-anchor=\"start\" x=\"534.5\" y=\"-738.8\" font-family=\"Helvetica,sans-Serif\" font-size=\"14.00\" fill=\"#000000\">X</text>\n<text text-anchor=\"start\" x=\"544.5\" y=\"-738.8\" font-family=\"Helvetica,sans-Serif\" baseline-shift=\"sub\" font-size=\"14.00\" fill=\"#000000\">12</text>\n<text text-anchor=\"start\" x=\"558.5\" y=\"-738.8\" font-family=\"Helvetica,sans-Serif\" font-size=\"14.00\" fill=\"#000000\"> ≤ 2.5</text>\n<text text-anchor=\"start\" x=\"526.5\" y=\"-724.8\" font-family=\"Helvetica,sans-Serif\" font-size=\"14.00\" fill=\"#000000\">gini = 0.492</text>\n<text text-anchor=\"start\" x=\"520.5\" y=\"-710.8\" font-family=\"Helvetica,sans-Serif\" font-size=\"14.00\" fill=\"#000000\">samples = 48</text>\n<text text-anchor=\"start\" x=\"514.5\" y=\"-696.8\" font-family=\"Helvetica,sans-Serif\" font-size=\"14.00\" fill=\"#000000\">value = [21, 27]</text>\n</g>\n<!-- 1&#45;&gt;2 -->\n<g id=\"edge2\" class=\"edge\">\n<title>1&#45;&gt;2</title>\n<path fill=\"none\" stroke=\"#000000\" d=\"M695.2516,-790.1807C675.1272,-779.5329 652.4175,-767.5172 631.6391,-756.5233\"/>\n<polygon fill=\"#000000\" stroke=\"#000000\" points=\"633.032,-753.3006 622.5561,-751.7175 629.7582,-759.4879 633.032,-753.3006\"/>\n</g>\n<!-- 21 -->\n<g id=\"node22\" class=\"node\">\n<title>21</title>\n<path fill=\"#e78845\" stroke=\"#000000\" d=\"M795,-753C795,-753 712,-753 712,-753 706,-753 700,-747 700,-741 700,-741 700,-701 700,-701 700,-695 706,-689 712,-689 712,-689 795,-689 795,-689 801,-689 807,-695 807,-701 807,-701 807,-741 807,-741 807,-747 801,-753 795,-753\"/>\n<text text-anchor=\"start\" x=\"723\" y=\"-738.8\" font-family=\"Helvetica,sans-Serif\" font-size=\"14.00\" fill=\"#000000\">X</text>\n<text text-anchor=\"start\" x=\"733\" y=\"-738.8\" font-family=\"Helvetica,sans-Serif\" baseline-shift=\"sub\" font-size=\"14.00\" fill=\"#000000\">0</text>\n<text text-anchor=\"start\" x=\"740\" y=\"-738.8\" font-family=\"Helvetica,sans-Serif\" font-size=\"14.00\" fill=\"#000000\"> ≤ 63.5</text>\n<text text-anchor=\"start\" x=\"715.5\" y=\"-724.8\" font-family=\"Helvetica,sans-Serif\" font-size=\"14.00\" fill=\"#000000\">gini = 0.105</text>\n<text text-anchor=\"start\" x=\"709.5\" y=\"-710.8\" font-family=\"Helvetica,sans-Serif\" font-size=\"14.00\" fill=\"#000000\">samples = 54</text>\n<text text-anchor=\"start\" x=\"708\" y=\"-696.8\" font-family=\"Helvetica,sans-Serif\" font-size=\"14.00\" fill=\"#000000\">value = [51, 3]</text>\n</g>\n<!-- 1&#45;&gt;21 -->\n<g id=\"edge21\" class=\"edge\">\n<title>1&#45;&gt;21</title>\n<path fill=\"none\" stroke=\"#000000\" d=\"M753.5,-788.8089C753.5,-780.6906 753.5,-771.8517 753.5,-763.3186\"/>\n<polygon fill=\"#000000\" stroke=\"#000000\" points=\"757.0001,-763.1307 753.5,-753.1308 750.0001,-763.1308 757.0001,-763.1307\"/>\n</g>\n<!-- 3 -->\n<g id=\"node4\" class=\"node\">\n<title>3</title>\n<path fill=\"#6db7ec\" stroke=\"#000000\" d=\"M394,-653C394,-653 311,-653 311,-653 305,-653 299,-647 299,-641 299,-641 299,-601 299,-601 299,-595 305,-589 311,-589 311,-589 394,-589 394,-589 400,-589 406,-595 406,-601 406,-601 406,-641 406,-641 406,-647 400,-653 394,-653\"/>\n<text text-anchor=\"start\" x=\"326\" y=\"-638.8\" font-family=\"Helvetica,sans-Serif\" font-size=\"14.00\" fill=\"#000000\">X</text>\n<text text-anchor=\"start\" x=\"336\" y=\"-638.8\" font-family=\"Helvetica,sans-Serif\" baseline-shift=\"sub\" font-size=\"14.00\" fill=\"#000000\">8</text>\n<text text-anchor=\"start\" x=\"343\" y=\"-638.8\" font-family=\"Helvetica,sans-Serif\" font-size=\"14.00\" fill=\"#000000\"> ≤ 0.5</text>\n<text text-anchor=\"start\" x=\"314.5\" y=\"-624.8\" font-family=\"Helvetica,sans-Serif\" font-size=\"14.00\" fill=\"#000000\">gini = 0.328</text>\n<text text-anchor=\"start\" x=\"308.5\" y=\"-610.8\" font-family=\"Helvetica,sans-Serif\" font-size=\"14.00\" fill=\"#000000\">samples = 29</text>\n<text text-anchor=\"start\" x=\"307\" y=\"-596.8\" font-family=\"Helvetica,sans-Serif\" font-size=\"14.00\" fill=\"#000000\">value = [6, 23]</text>\n</g>\n<!-- 2&#45;&gt;3 -->\n<g id=\"edge3\" class=\"edge\">\n<title>2&#45;&gt;3</title>\n<path fill=\"none\" stroke=\"#000000\" d=\"M506.2897,-693.5423C478.0845,-680.238 444.17,-664.2406 415.3743,-650.6577\"/>\n<polygon fill=\"#000000\" stroke=\"#000000\" points=\"416.7562,-647.4397 406.2187,-646.339 413.7698,-653.7707 416.7562,-647.4397\"/>\n</g>\n<!-- 14 -->\n<g id=\"node15\" class=\"node\">\n<title>14</title>\n<path fill=\"#eca36e\" stroke=\"#000000\" d=\"M606,-653C606,-653 523,-653 523,-653 517,-653 511,-647 511,-641 511,-641 511,-601 511,-601 511,-595 517,-589 523,-589 523,-589 606,-589 606,-589 612,-589 618,-595 618,-601 618,-601 618,-641 618,-641 618,-647 612,-653 606,-653\"/>\n<text text-anchor=\"start\" x=\"538\" y=\"-638.8\" font-family=\"Helvetica,sans-Serif\" font-size=\"14.00\" fill=\"#000000\">X</text>\n<text text-anchor=\"start\" x=\"548\" y=\"-638.8\" font-family=\"Helvetica,sans-Serif\" baseline-shift=\"sub\" font-size=\"14.00\" fill=\"#000000\">9</text>\n<text text-anchor=\"start\" x=\"555\" y=\"-638.8\" font-family=\"Helvetica,sans-Serif\" font-size=\"14.00\" fill=\"#000000\"> ≤ 0.6</text>\n<text text-anchor=\"start\" x=\"526.5\" y=\"-624.8\" font-family=\"Helvetica,sans-Serif\" font-size=\"14.00\" fill=\"#000000\">gini = 0.332</text>\n<text text-anchor=\"start\" x=\"520.5\" y=\"-610.8\" font-family=\"Helvetica,sans-Serif\" font-size=\"14.00\" fill=\"#000000\">samples = 19</text>\n<text text-anchor=\"start\" x=\"519\" y=\"-596.8\" font-family=\"Helvetica,sans-Serif\" font-size=\"14.00\" fill=\"#000000\">value = [15, 4]</text>\n</g>\n<!-- 2&#45;&gt;14 -->\n<g id=\"edge14\" class=\"edge\">\n<title>2&#45;&gt;14</title>\n<path fill=\"none\" stroke=\"#000000\" d=\"M564.5,-688.8089C564.5,-680.6906 564.5,-671.8517 564.5,-663.3186\"/>\n<polygon fill=\"#000000\" stroke=\"#000000\" points=\"568.0001,-663.1307 564.5,-653.1308 561.0001,-663.1308 568.0001,-663.1307\"/>\n</g>\n<!-- 4 -->\n<g id=\"node5\" class=\"node\">\n<title>4</title>\n<path fill=\"#45a3e7\" stroke=\"#000000\" d=\"M216,-553C216,-553 133,-553 133,-553 127,-553 121,-547 121,-541 121,-541 121,-501 121,-501 121,-495 127,-489 133,-489 133,-489 216,-489 216,-489 222,-489 228,-495 228,-501 228,-501 228,-541 228,-541 228,-547 222,-553 216,-553\"/>\n<text text-anchor=\"start\" x=\"140\" y=\"-538.8\" font-family=\"Helvetica,sans-Serif\" font-size=\"14.00\" fill=\"#000000\">X</text>\n<text text-anchor=\"start\" x=\"150\" y=\"-538.8\" font-family=\"Helvetica,sans-Serif\" baseline-shift=\"sub\" font-size=\"14.00\" fill=\"#000000\">4</text>\n<text text-anchor=\"start\" x=\"157\" y=\"-538.8\" font-family=\"Helvetica,sans-Serif\" font-size=\"14.00\" fill=\"#000000\"> ≤ 316.5</text>\n<text text-anchor=\"start\" x=\"136.5\" y=\"-524.8\" font-family=\"Helvetica,sans-Serif\" font-size=\"14.00\" fill=\"#000000\">gini = 0.105</text>\n<text text-anchor=\"start\" x=\"130.5\" y=\"-510.8\" font-family=\"Helvetica,sans-Serif\" font-size=\"14.00\" fill=\"#000000\">samples = 18</text>\n<text text-anchor=\"start\" x=\"129\" y=\"-496.8\" font-family=\"Helvetica,sans-Serif\" font-size=\"14.00\" fill=\"#000000\">value = [1, 17]</text>\n</g>\n<!-- 3&#45;&gt;4 -->\n<g id=\"edge4\" class=\"edge\">\n<title>3&#45;&gt;4</title>\n<path fill=\"none\" stroke=\"#000000\" d=\"M298.6111,-590.7253C279.1799,-579.8089 257.0894,-567.3985 236.9853,-556.1041\"/>\n<polygon fill=\"#000000\" stroke=\"#000000\" points=\"238.6384,-553.0184 228.2058,-551.1718 235.2098,-559.1212 238.6384,-553.0184\"/>\n</g>\n<!-- 9 -->\n<g id=\"node10\" class=\"node\">\n<title>9</title>\n<path fill=\"#deeffb\" stroke=\"#000000\" d=\"M392.5,-553C392.5,-553 312.5,-553 312.5,-553 306.5,-553 300.5,-547 300.5,-541 300.5,-541 300.5,-501 300.5,-501 300.5,-495 306.5,-489 312.5,-489 312.5,-489 392.5,-489 392.5,-489 398.5,-489 404.5,-495 404.5,-501 404.5,-501 404.5,-541 404.5,-541 404.5,-547 398.5,-553 392.5,-553\"/>\n<text text-anchor=\"start\" x=\"326\" y=\"-538.8\" font-family=\"Helvetica,sans-Serif\" font-size=\"14.00\" fill=\"#000000\">X</text>\n<text text-anchor=\"start\" x=\"336\" y=\"-538.8\" font-family=\"Helvetica,sans-Serif\" baseline-shift=\"sub\" font-size=\"14.00\" fill=\"#000000\">9</text>\n<text text-anchor=\"start\" x=\"343\" y=\"-538.8\" font-family=\"Helvetica,sans-Serif\" font-size=\"14.00\" fill=\"#000000\"> ≤ 0.8</text>\n<text text-anchor=\"start\" x=\"314.5\" y=\"-524.8\" font-family=\"Helvetica,sans-Serif\" font-size=\"14.00\" fill=\"#000000\">gini = 0.496</text>\n<text text-anchor=\"start\" x=\"308.5\" y=\"-510.8\" font-family=\"Helvetica,sans-Serif\" font-size=\"14.00\" fill=\"#000000\">samples = 11</text>\n<text text-anchor=\"start\" x=\"311\" y=\"-496.8\" font-family=\"Helvetica,sans-Serif\" font-size=\"14.00\" fill=\"#000000\">value = [5, 6]</text>\n</g>\n<!-- 3&#45;&gt;9 -->\n<g id=\"edge9\" class=\"edge\">\n<title>3&#45;&gt;9</title>\n<path fill=\"none\" stroke=\"#000000\" d=\"M352.5,-588.8089C352.5,-580.6906 352.5,-571.8517 352.5,-563.3186\"/>\n<polygon fill=\"#000000\" stroke=\"#000000\" points=\"356.0001,-563.1307 352.5,-553.1308 349.0001,-563.1308 356.0001,-563.1307\"/>\n</g>\n<!-- 5 -->\n<g id=\"node6\" class=\"node\">\n<title>5</title>\n<path fill=\"#399de5\" stroke=\"#000000\" d=\"M95,-447.5C95,-447.5 12,-447.5 12,-447.5 6,-447.5 0,-441.5 0,-435.5 0,-435.5 0,-406.5 0,-406.5 0,-400.5 6,-394.5 12,-394.5 12,-394.5 95,-394.5 95,-394.5 101,-394.5 107,-400.5 107,-406.5 107,-406.5 107,-435.5 107,-435.5 107,-441.5 101,-447.5 95,-447.5\"/>\n<text text-anchor=\"start\" x=\"24\" y=\"-432.3\" font-family=\"Helvetica,sans-Serif\" font-size=\"14.00\" fill=\"#000000\">gini = 0.0</text>\n<text text-anchor=\"start\" x=\"9.5\" y=\"-417.3\" font-family=\"Helvetica,sans-Serif\" font-size=\"14.00\" fill=\"#000000\">samples = 16</text>\n<text text-anchor=\"start\" x=\"8\" y=\"-402.3\" font-family=\"Helvetica,sans-Serif\" font-size=\"14.00\" fill=\"#000000\">value = [0, 16]</text>\n</g>\n<!-- 4&#45;&gt;5 -->\n<g id=\"edge5\" class=\"edge\">\n<title>4&#45;&gt;5</title>\n<path fill=\"none\" stroke=\"#000000\" d=\"M135.5488,-488.8089C122.1504,-477.7359 107.13,-465.3223 93.6388,-454.1726\"/>\n<polygon fill=\"#000000\" stroke=\"#000000\" points=\"95.8339,-451.4461 85.896,-447.7735 91.3746,-456.8419 95.8339,-451.4461\"/>\n</g>\n<!-- 6 -->\n<g id=\"node7\" class=\"node\">\n<title>6</title>\n<path fill=\"#ffffff\" stroke=\"#000000\" d=\"M212,-453C212,-453 137,-453 137,-453 131,-453 125,-447 125,-441 125,-441 125,-401 125,-401 125,-395 131,-389 137,-389 137,-389 212,-389 212,-389 218,-389 224,-395 224,-401 224,-401 224,-441 224,-441 224,-447 218,-453 212,-453\"/>\n<text text-anchor=\"start\" x=\"144\" y=\"-438.8\" font-family=\"Helvetica,sans-Serif\" font-size=\"14.00\" fill=\"#000000\">X</text>\n<text text-anchor=\"start\" x=\"154\" y=\"-438.8\" font-family=\"Helvetica,sans-Serif\" baseline-shift=\"sub\" font-size=\"14.00\" fill=\"#000000\">0</text>\n<text text-anchor=\"start\" x=\"161\" y=\"-438.8\" font-family=\"Helvetica,sans-Serif\" font-size=\"14.00\" fill=\"#000000\"> ≤ 61.5</text>\n<text text-anchor=\"start\" x=\"145\" y=\"-424.8\" font-family=\"Helvetica,sans-Serif\" font-size=\"14.00\" fill=\"#000000\">gini = 0.5</text>\n<text text-anchor=\"start\" x=\"135\" y=\"-410.8\" font-family=\"Helvetica,sans-Serif\" font-size=\"14.00\" fill=\"#000000\">samples = 2</text>\n<text text-anchor=\"start\" x=\"133\" y=\"-396.8\" font-family=\"Helvetica,sans-Serif\" font-size=\"14.00\" fill=\"#000000\">value = [1, 1]</text>\n</g>\n<!-- 4&#45;&gt;6 -->\n<g id=\"edge6\" class=\"edge\">\n<title>4&#45;&gt;6</title>\n<path fill=\"none\" stroke=\"#000000\" d=\"M174.5,-488.8089C174.5,-480.6906 174.5,-471.8517 174.5,-463.3186\"/>\n<polygon fill=\"#000000\" stroke=\"#000000\" points=\"178.0001,-463.1307 174.5,-453.1308 171.0001,-463.1308 178.0001,-463.1307\"/>\n</g>\n<!-- 7 -->\n<g id=\"node8\" class=\"node\">\n<title>7</title>\n<path fill=\"#e58139\" stroke=\"#000000\" d=\"M110,-347.5C110,-347.5 35,-347.5 35,-347.5 29,-347.5 23,-341.5 23,-335.5 23,-335.5 23,-306.5 23,-306.5 23,-300.5 29,-294.5 35,-294.5 35,-294.5 110,-294.5 110,-294.5 116,-294.5 122,-300.5 122,-306.5 122,-306.5 122,-335.5 122,-335.5 122,-341.5 116,-347.5 110,-347.5\"/>\n<text text-anchor=\"start\" x=\"43\" y=\"-332.3\" font-family=\"Helvetica,sans-Serif\" font-size=\"14.00\" fill=\"#000000\">gini = 0.0</text>\n<text text-anchor=\"start\" x=\"33\" y=\"-317.3\" font-family=\"Helvetica,sans-Serif\" font-size=\"14.00\" fill=\"#000000\">samples = 1</text>\n<text text-anchor=\"start\" x=\"31\" y=\"-302.3\" font-family=\"Helvetica,sans-Serif\" font-size=\"14.00\" fill=\"#000000\">value = [1, 0]</text>\n</g>\n<!-- 6&#45;&gt;7 -->\n<g id=\"edge7\" class=\"edge\">\n<title>6&#45;&gt;7</title>\n<path fill=\"none\" stroke=\"#000000\" d=\"M141.6651,-388.8089C130.5817,-377.9428 118.1817,-365.7859 106.9751,-354.7991\"/>\n<polygon fill=\"#000000\" stroke=\"#000000\" points=\"109.4,-352.275 99.809,-347.7735 104.4995,-357.2735 109.4,-352.275\"/>\n</g>\n<!-- 8 -->\n<g id=\"node9\" class=\"node\">\n<title>8</title>\n<path fill=\"#399de5\" stroke=\"#000000\" d=\"M227,-347.5C227,-347.5 152,-347.5 152,-347.5 146,-347.5 140,-341.5 140,-335.5 140,-335.5 140,-306.5 140,-306.5 140,-300.5 146,-294.5 152,-294.5 152,-294.5 227,-294.5 227,-294.5 233,-294.5 239,-300.5 239,-306.5 239,-306.5 239,-335.5 239,-335.5 239,-341.5 233,-347.5 227,-347.5\"/>\n<text text-anchor=\"start\" x=\"160\" y=\"-332.3\" font-family=\"Helvetica,sans-Serif\" font-size=\"14.00\" fill=\"#000000\">gini = 0.0</text>\n<text text-anchor=\"start\" x=\"150\" y=\"-317.3\" font-family=\"Helvetica,sans-Serif\" font-size=\"14.00\" fill=\"#000000\">samples = 1</text>\n<text text-anchor=\"start\" x=\"148\" y=\"-302.3\" font-family=\"Helvetica,sans-Serif\" font-size=\"14.00\" fill=\"#000000\">value = [0, 1]</text>\n</g>\n<!-- 6&#45;&gt;8 -->\n<g id=\"edge8\" class=\"edge\">\n<title>6&#45;&gt;8</title>\n<path fill=\"none\" stroke=\"#000000\" d=\"M179.3287,-388.8089C180.8033,-378.9777 182.4365,-368.0898 183.9548,-357.9679\"/>\n<polygon fill=\"#000000\" stroke=\"#000000\" points=\"187.4618,-358.1821 185.484,-347.7735 180.5392,-357.1437 187.4618,-358.1821\"/>\n</g>\n<!-- 10 -->\n<g id=\"node11\" class=\"node\">\n<title>10</title>\n<path fill=\"#399de5\" stroke=\"#000000\" d=\"M329,-447.5C329,-447.5 254,-447.5 254,-447.5 248,-447.5 242,-441.5 242,-435.5 242,-435.5 242,-406.5 242,-406.5 242,-400.5 248,-394.5 254,-394.5 254,-394.5 329,-394.5 329,-394.5 335,-394.5 341,-400.5 341,-406.5 341,-406.5 341,-435.5 341,-435.5 341,-441.5 335,-447.5 329,-447.5\"/>\n<text text-anchor=\"start\" x=\"262\" y=\"-432.3\" font-family=\"Helvetica,sans-Serif\" font-size=\"14.00\" fill=\"#000000\">gini = 0.0</text>\n<text text-anchor=\"start\" x=\"252\" y=\"-417.3\" font-family=\"Helvetica,sans-Serif\" font-size=\"14.00\" fill=\"#000000\">samples = 4</text>\n<text text-anchor=\"start\" x=\"250\" y=\"-402.3\" font-family=\"Helvetica,sans-Serif\" font-size=\"14.00\" fill=\"#000000\">value = [0, 4]</text>\n</g>\n<!-- 9&#45;&gt;10 -->\n<g id=\"edge10\" class=\"edge\">\n<title>9&#45;&gt;10</title>\n<path fill=\"none\" stroke=\"#000000\" d=\"M332.8634,-488.8089C326.5508,-478.4603 319.5239,-466.9408 313.0796,-456.3764\"/>\n<polygon fill=\"#000000\" stroke=\"#000000\" points=\"316.0275,-454.4879 307.8318,-447.7735 310.0515,-458.1332 316.0275,-454.4879\"/>\n</g>\n<!-- 11 -->\n<g id=\"node12\" class=\"node\">\n<title>11</title>\n<path fill=\"#efb388\" stroke=\"#000000\" d=\"M446,-453C446,-453 371,-453 371,-453 365,-453 359,-447 359,-441 359,-441 359,-401 359,-401 359,-395 365,-389 371,-389 371,-389 446,-389 446,-389 452,-389 458,-395 458,-401 458,-401 458,-441 458,-441 458,-447 452,-453 446,-453\"/>\n<text text-anchor=\"start\" x=\"374\" y=\"-438.8\" font-family=\"Helvetica,sans-Serif\" font-size=\"14.00\" fill=\"#000000\">X</text>\n<text text-anchor=\"start\" x=\"384\" y=\"-438.8\" font-family=\"Helvetica,sans-Serif\" baseline-shift=\"sub\" font-size=\"14.00\" fill=\"#000000\">3</text>\n<text text-anchor=\"start\" x=\"391\" y=\"-438.8\" font-family=\"Helvetica,sans-Serif\" font-size=\"14.00\" fill=\"#000000\"> ≤ 115.0</text>\n<text text-anchor=\"start\" x=\"370.5\" y=\"-424.8\" font-family=\"Helvetica,sans-Serif\" font-size=\"14.00\" fill=\"#000000\">gini = 0.408</text>\n<text text-anchor=\"start\" x=\"369\" y=\"-410.8\" font-family=\"Helvetica,sans-Serif\" font-size=\"14.00\" fill=\"#000000\">samples = 7</text>\n<text text-anchor=\"start\" x=\"367\" y=\"-396.8\" font-family=\"Helvetica,sans-Serif\" font-size=\"14.00\" fill=\"#000000\">value = [5, 2]</text>\n</g>\n<!-- 9&#45;&gt;11 -->\n<g id=\"edge11\" class=\"edge\">\n<title>9&#45;&gt;11</title>\n<path fill=\"none\" stroke=\"#000000\" d=\"M370.527,-488.8089C375.3231,-480.2445 380.5682,-470.8782 385.5876,-461.915\"/>\n<polygon fill=\"#000000\" stroke=\"#000000\" points=\"388.6745,-463.566 390.5068,-453.1308 382.5669,-460.1457 388.6745,-463.566\"/>\n</g>\n<!-- 12 -->\n<g id=\"node13\" class=\"node\">\n<title>12</title>\n<path fill=\"#399de5\" stroke=\"#000000\" d=\"M402,-347.5C402,-347.5 327,-347.5 327,-347.5 321,-347.5 315,-341.5 315,-335.5 315,-335.5 315,-306.5 315,-306.5 315,-300.5 321,-294.5 327,-294.5 327,-294.5 402,-294.5 402,-294.5 408,-294.5 414,-300.5 414,-306.5 414,-306.5 414,-335.5 414,-335.5 414,-341.5 408,-347.5 402,-347.5\"/>\n<text text-anchor=\"start\" x=\"335\" y=\"-332.3\" font-family=\"Helvetica,sans-Serif\" font-size=\"14.00\" fill=\"#000000\">gini = 0.0</text>\n<text text-anchor=\"start\" x=\"325\" y=\"-317.3\" font-family=\"Helvetica,sans-Serif\" font-size=\"14.00\" fill=\"#000000\">samples = 2</text>\n<text text-anchor=\"start\" x=\"323\" y=\"-302.3\" font-family=\"Helvetica,sans-Serif\" font-size=\"14.00\" fill=\"#000000\">value = [0, 2]</text>\n</g>\n<!-- 11&#45;&gt;12 -->\n<g id=\"edge12\" class=\"edge\">\n<title>11&#45;&gt;12</title>\n<path fill=\"none\" stroke=\"#000000\" d=\"M394.3359,-388.8089C389.8736,-378.6672 384.9165,-367.4011 380.345,-357.0114\"/>\n<polygon fill=\"#000000\" stroke=\"#000000\" points=\"383.5114,-355.5171 376.2803,-347.7735 377.1042,-358.3363 383.5114,-355.5171\"/>\n</g>\n<!-- 13 -->\n<g id=\"node14\" class=\"node\">\n<title>13</title>\n<path fill=\"#e58139\" stroke=\"#000000\" d=\"M519,-347.5C519,-347.5 444,-347.5 444,-347.5 438,-347.5 432,-341.5 432,-335.5 432,-335.5 432,-306.5 432,-306.5 432,-300.5 438,-294.5 444,-294.5 444,-294.5 519,-294.5 519,-294.5 525,-294.5 531,-300.5 531,-306.5 531,-306.5 531,-335.5 531,-335.5 531,-341.5 525,-347.5 519,-347.5\"/>\n<text text-anchor=\"start\" x=\"452\" y=\"-332.3\" font-family=\"Helvetica,sans-Serif\" font-size=\"14.00\" fill=\"#000000\">gini = 0.0</text>\n<text text-anchor=\"start\" x=\"442\" y=\"-317.3\" font-family=\"Helvetica,sans-Serif\" font-size=\"14.00\" fill=\"#000000\">samples = 5</text>\n<text text-anchor=\"start\" x=\"440\" y=\"-302.3\" font-family=\"Helvetica,sans-Serif\" font-size=\"14.00\" fill=\"#000000\">value = [5, 0]</text>\n</g>\n<!-- 11&#45;&gt;13 -->\n<g id=\"edge13\" class=\"edge\">\n<title>11&#45;&gt;13</title>\n<path fill=\"none\" stroke=\"#000000\" d=\"M431.9995,-388.8089C439.6296,-378.3568 448.1315,-366.7103 455.9064,-356.0597\"/>\n<polygon fill=\"#000000\" stroke=\"#000000\" points=\"458.8861,-357.9141 461.9553,-347.7735 453.2323,-353.7868 458.8861,-357.9141\"/>\n</g>\n<!-- 15 -->\n<g id=\"node16\" class=\"node\">\n<title>15</title>\n<path fill=\"#ffffff\" stroke=\"#000000\" d=\"M563,-553C563,-553 488,-553 488,-553 482,-553 476,-547 476,-541 476,-541 476,-501 476,-501 476,-495 482,-489 488,-489 488,-489 563,-489 563,-489 569,-489 575,-495 575,-501 575,-501 575,-541 575,-541 575,-547 569,-553 563,-553\"/>\n<text text-anchor=\"start\" x=\"495\" y=\"-538.8\" font-family=\"Helvetica,sans-Serif\" font-size=\"14.00\" fill=\"#000000\">X</text>\n<text text-anchor=\"start\" x=\"505\" y=\"-538.8\" font-family=\"Helvetica,sans-Serif\" baseline-shift=\"sub\" font-size=\"14.00\" fill=\"#000000\">0</text>\n<text text-anchor=\"start\" x=\"512\" y=\"-538.8\" font-family=\"Helvetica,sans-Serif\" font-size=\"14.00\" fill=\"#000000\"> ≤ 42.0</text>\n<text text-anchor=\"start\" x=\"496\" y=\"-524.8\" font-family=\"Helvetica,sans-Serif\" font-size=\"14.00\" fill=\"#000000\">gini = 0.5</text>\n<text text-anchor=\"start\" x=\"486\" y=\"-510.8\" font-family=\"Helvetica,sans-Serif\" font-size=\"14.00\" fill=\"#000000\">samples = 8</text>\n<text text-anchor=\"start\" x=\"484\" y=\"-496.8\" font-family=\"Helvetica,sans-Serif\" font-size=\"14.00\" fill=\"#000000\">value = [4, 4]</text>\n</g>\n<!-- 14&#45;&gt;15 -->\n<g id=\"edge15\" class=\"edge\">\n<title>14&#45;&gt;15</title>\n<path fill=\"none\" stroke=\"#000000\" d=\"M551.9455,-588.8089C548.6749,-580.4229 545.1046,-571.2681 541.6755,-562.4757\"/>\n<polygon fill=\"#000000\" stroke=\"#000000\" points=\"544.9253,-561.1756 538.031,-553.1308 538.4037,-563.719 544.9253,-561.1756\"/>\n</g>\n<!-- 20 -->\n<g id=\"node21\" class=\"node\">\n<title>20</title>\n<path fill=\"#e58139\" stroke=\"#000000\" d=\"M688,-547.5C688,-547.5 605,-547.5 605,-547.5 599,-547.5 593,-541.5 593,-535.5 593,-535.5 593,-506.5 593,-506.5 593,-500.5 599,-494.5 605,-494.5 605,-494.5 688,-494.5 688,-494.5 694,-494.5 700,-500.5 700,-506.5 700,-506.5 700,-535.5 700,-535.5 700,-541.5 694,-547.5 688,-547.5\"/>\n<text text-anchor=\"start\" x=\"617\" y=\"-532.3\" font-family=\"Helvetica,sans-Serif\" font-size=\"14.00\" fill=\"#000000\">gini = 0.0</text>\n<text text-anchor=\"start\" x=\"602.5\" y=\"-517.3\" font-family=\"Helvetica,sans-Serif\" font-size=\"14.00\" fill=\"#000000\">samples = 11</text>\n<text text-anchor=\"start\" x=\"601\" y=\"-502.3\" font-family=\"Helvetica,sans-Serif\" font-size=\"14.00\" fill=\"#000000\">value = [11, 0]</text>\n</g>\n<!-- 14&#45;&gt;20 -->\n<g id=\"edge20\" class=\"edge\">\n<title>14&#45;&gt;20</title>\n<path fill=\"none\" stroke=\"#000000\" d=\"M590.8967,-588.8089C599.5523,-578.2533 609.2068,-566.4796 618.0102,-555.7437\"/>\n<polygon fill=\"#000000\" stroke=\"#000000\" points=\"620.9113,-557.7255 624.5457,-547.7735 615.4984,-553.2869 620.9113,-557.7255\"/>\n</g>\n<!-- 16 -->\n<g id=\"node17\" class=\"node\">\n<title>16</title>\n<path fill=\"#e58139\" stroke=\"#000000\" d=\"M563,-447.5C563,-447.5 488,-447.5 488,-447.5 482,-447.5 476,-441.5 476,-435.5 476,-435.5 476,-406.5 476,-406.5 476,-400.5 482,-394.5 488,-394.5 488,-394.5 563,-394.5 563,-394.5 569,-394.5 575,-400.5 575,-406.5 575,-406.5 575,-435.5 575,-435.5 575,-441.5 569,-447.5 563,-447.5\"/>\n<text text-anchor=\"start\" x=\"496\" y=\"-432.3\" font-family=\"Helvetica,sans-Serif\" font-size=\"14.00\" fill=\"#000000\">gini = 0.0</text>\n<text text-anchor=\"start\" x=\"486\" y=\"-417.3\" font-family=\"Helvetica,sans-Serif\" font-size=\"14.00\" fill=\"#000000\">samples = 3</text>\n<text text-anchor=\"start\" x=\"484\" y=\"-402.3\" font-family=\"Helvetica,sans-Serif\" font-size=\"14.00\" fill=\"#000000\">value = [3, 0]</text>\n</g>\n<!-- 15&#45;&gt;16 -->\n<g id=\"edge16\" class=\"edge\">\n<title>15&#45;&gt;16</title>\n<path fill=\"none\" stroke=\"#000000\" d=\"M525.5,-488.8089C525.5,-478.9777 525.5,-468.0898 525.5,-457.9679\"/>\n<polygon fill=\"#000000\" stroke=\"#000000\" points=\"529.0001,-457.7735 525.5,-447.7735 522.0001,-457.7736 529.0001,-457.7735\"/>\n</g>\n<!-- 17 -->\n<g id=\"node18\" class=\"node\">\n<title>17</title>\n<path fill=\"#6ab6ec\" stroke=\"#000000\" d=\"M680,-453C680,-453 605,-453 605,-453 599,-453 593,-447 593,-441 593,-441 593,-401 593,-401 593,-395 599,-389 605,-389 605,-389 680,-389 680,-389 686,-389 692,-395 692,-401 692,-401 692,-441 692,-441 692,-447 686,-453 680,-453\"/>\n<text text-anchor=\"start\" x=\"616\" y=\"-438.8\" font-family=\"Helvetica,sans-Serif\" font-size=\"14.00\" fill=\"#000000\">X</text>\n<text text-anchor=\"start\" x=\"626\" y=\"-438.8\" font-family=\"Helvetica,sans-Serif\" baseline-shift=\"sub\" font-size=\"14.00\" fill=\"#000000\">1</text>\n<text text-anchor=\"start\" x=\"633\" y=\"-438.8\" font-family=\"Helvetica,sans-Serif\" font-size=\"14.00\" fill=\"#000000\"> ≤ 0.5</text>\n<text text-anchor=\"start\" x=\"609\" y=\"-424.8\" font-family=\"Helvetica,sans-Serif\" font-size=\"14.00\" fill=\"#000000\">gini = 0.32</text>\n<text text-anchor=\"start\" x=\"603\" y=\"-410.8\" font-family=\"Helvetica,sans-Serif\" font-size=\"14.00\" fill=\"#000000\">samples = 5</text>\n<text text-anchor=\"start\" x=\"601\" y=\"-396.8\" font-family=\"Helvetica,sans-Serif\" font-size=\"14.00\" fill=\"#000000\">value = [1, 4]</text>\n</g>\n<!-- 15&#45;&gt;17 -->\n<g id=\"edge17\" class=\"edge\">\n<title>15&#45;&gt;17</title>\n<path fill=\"none\" stroke=\"#000000\" d=\"M563.1636,-488.8089C574.0189,-479.5308 585.9754,-469.3116 597.2405,-459.6833\"/>\n<polygon fill=\"#000000\" stroke=\"#000000\" points=\"599.5793,-462.2886 604.907,-453.1308 595.0312,-456.9674 599.5793,-462.2886\"/>\n</g>\n<!-- 18 -->\n<g id=\"node19\" class=\"node\">\n<title>18</title>\n<path fill=\"#e58139\" stroke=\"#000000\" d=\"M665,-347.5C665,-347.5 590,-347.5 590,-347.5 584,-347.5 578,-341.5 578,-335.5 578,-335.5 578,-306.5 578,-306.5 578,-300.5 584,-294.5 590,-294.5 590,-294.5 665,-294.5 665,-294.5 671,-294.5 677,-300.5 677,-306.5 677,-306.5 677,-335.5 677,-335.5 677,-341.5 671,-347.5 665,-347.5\"/>\n<text text-anchor=\"start\" x=\"598\" y=\"-332.3\" font-family=\"Helvetica,sans-Serif\" font-size=\"14.00\" fill=\"#000000\">gini = 0.0</text>\n<text text-anchor=\"start\" x=\"588\" y=\"-317.3\" font-family=\"Helvetica,sans-Serif\" font-size=\"14.00\" fill=\"#000000\">samples = 1</text>\n<text text-anchor=\"start\" x=\"586\" y=\"-302.3\" font-family=\"Helvetica,sans-Serif\" font-size=\"14.00\" fill=\"#000000\">value = [1, 0]</text>\n</g>\n<!-- 17&#45;&gt;18 -->\n<g id=\"edge18\" class=\"edge\">\n<title>17&#45;&gt;18</title>\n<path fill=\"none\" stroke=\"#000000\" d=\"M637.6713,-388.8089C636.1967,-378.9777 634.5635,-368.0898 633.0452,-357.9679\"/>\n<polygon fill=\"#000000\" stroke=\"#000000\" points=\"636.4608,-357.1437 631.516,-347.7735 629.5382,-358.1821 636.4608,-357.1437\"/>\n</g>\n<!-- 19 -->\n<g id=\"node20\" class=\"node\">\n<title>19</title>\n<path fill=\"#399de5\" stroke=\"#000000\" d=\"M782,-347.5C782,-347.5 707,-347.5 707,-347.5 701,-347.5 695,-341.5 695,-335.5 695,-335.5 695,-306.5 695,-306.5 695,-300.5 701,-294.5 707,-294.5 707,-294.5 782,-294.5 782,-294.5 788,-294.5 794,-300.5 794,-306.5 794,-306.5 794,-335.5 794,-335.5 794,-341.5 788,-347.5 782,-347.5\"/>\n<text text-anchor=\"start\" x=\"715\" y=\"-332.3\" font-family=\"Helvetica,sans-Serif\" font-size=\"14.00\" fill=\"#000000\">gini = 0.0</text>\n<text text-anchor=\"start\" x=\"705\" y=\"-317.3\" font-family=\"Helvetica,sans-Serif\" font-size=\"14.00\" fill=\"#000000\">samples = 4</text>\n<text text-anchor=\"start\" x=\"703\" y=\"-302.3\" font-family=\"Helvetica,sans-Serif\" font-size=\"14.00\" fill=\"#000000\">value = [0, 4]</text>\n</g>\n<!-- 17&#45;&gt;19 -->\n<g id=\"edge19\" class=\"edge\">\n<title>17&#45;&gt;19</title>\n<path fill=\"none\" stroke=\"#000000\" d=\"M675.3349,-388.8089C686.4183,-377.9428 698.8183,-365.7859 710.0249,-354.7991\"/>\n<polygon fill=\"#000000\" stroke=\"#000000\" points=\"712.5005,-357.2735 717.191,-347.7735 707.6,-352.275 712.5005,-357.2735\"/>\n</g>\n<!-- 22 -->\n<g id=\"node23\" class=\"node\">\n<title>22</title>\n<path fill=\"#e58139\" stroke=\"#000000\" d=\"M763,-647.5C763,-647.5 680,-647.5 680,-647.5 674,-647.5 668,-641.5 668,-635.5 668,-635.5 668,-606.5 668,-606.5 668,-600.5 674,-594.5 680,-594.5 680,-594.5 763,-594.5 763,-594.5 769,-594.5 775,-600.5 775,-606.5 775,-606.5 775,-635.5 775,-635.5 775,-641.5 769,-647.5 763,-647.5\"/>\n<text text-anchor=\"start\" x=\"692\" y=\"-632.3\" font-family=\"Helvetica,sans-Serif\" font-size=\"14.00\" fill=\"#000000\">gini = 0.0</text>\n<text text-anchor=\"start\" x=\"677.5\" y=\"-617.3\" font-family=\"Helvetica,sans-Serif\" font-size=\"14.00\" fill=\"#000000\">samples = 43</text>\n<text text-anchor=\"start\" x=\"676\" y=\"-602.3\" font-family=\"Helvetica,sans-Serif\" font-size=\"14.00\" fill=\"#000000\">value = [43, 0]</text>\n</g>\n<!-- 21&#45;&gt;22 -->\n<g id=\"edge22\" class=\"edge\">\n<title>21&#45;&gt;22</title>\n<path fill=\"none\" stroke=\"#000000\" d=\"M743.1989,-688.8089C739.9866,-678.7707 736.4219,-667.6309 733.1255,-657.3297\"/>\n<polygon fill=\"#000000\" stroke=\"#000000\" points=\"736.4488,-656.231 730.0675,-647.7735 729.7819,-658.3645 736.4488,-656.231\"/>\n</g>\n<!-- 23 -->\n<g id=\"node24\" class=\"node\">\n<title>23</title>\n<path fill=\"#efb083\" stroke=\"#000000\" d=\"M885.5,-653C885.5,-653 805.5,-653 805.5,-653 799.5,-653 793.5,-647 793.5,-641 793.5,-641 793.5,-601 793.5,-601 793.5,-595 799.5,-589 805.5,-589 805.5,-589 885.5,-589 885.5,-589 891.5,-589 897.5,-595 897.5,-601 897.5,-601 897.5,-641 897.5,-641 897.5,-647 891.5,-653 885.5,-653\"/>\n<text text-anchor=\"start\" x=\"819\" y=\"-638.8\" font-family=\"Helvetica,sans-Serif\" font-size=\"14.00\" fill=\"#000000\">X</text>\n<text text-anchor=\"start\" x=\"829\" y=\"-638.8\" font-family=\"Helvetica,sans-Serif\" baseline-shift=\"sub\" font-size=\"14.00\" fill=\"#000000\">6</text>\n<text text-anchor=\"start\" x=\"836\" y=\"-638.8\" font-family=\"Helvetica,sans-Serif\" font-size=\"14.00\" fill=\"#000000\"> ≤ 0.5</text>\n<text text-anchor=\"start\" x=\"807.5\" y=\"-624.8\" font-family=\"Helvetica,sans-Serif\" font-size=\"14.00\" fill=\"#000000\">gini = 0.397</text>\n<text text-anchor=\"start\" x=\"801.5\" y=\"-610.8\" font-family=\"Helvetica,sans-Serif\" font-size=\"14.00\" fill=\"#000000\">samples = 11</text>\n<text text-anchor=\"start\" x=\"804\" y=\"-596.8\" font-family=\"Helvetica,sans-Serif\" font-size=\"14.00\" fill=\"#000000\">value = [8, 3]</text>\n</g>\n<!-- 21&#45;&gt;23 -->\n<g id=\"edge23\" class=\"edge\">\n<title>21&#45;&gt;23</title>\n<path fill=\"none\" stroke=\"#000000\" d=\"M783.1158,-688.8089C791.4054,-679.7985 800.5116,-669.9004 809.1435,-660.518\"/>\n<polygon fill=\"#000000\" stroke=\"#000000\" points=\"811.7449,-662.8598 815.9397,-653.1308 806.5933,-658.1204 811.7449,-662.8598\"/>\n</g>\n<!-- 24 -->\n<g id=\"node25\" class=\"node\">\n<title>24</title>\n<path fill=\"#e58139\" stroke=\"#000000\" d=\"M805,-547.5C805,-547.5 730,-547.5 730,-547.5 724,-547.5 718,-541.5 718,-535.5 718,-535.5 718,-506.5 718,-506.5 718,-500.5 724,-494.5 730,-494.5 730,-494.5 805,-494.5 805,-494.5 811,-494.5 817,-500.5 817,-506.5 817,-506.5 817,-535.5 817,-535.5 817,-541.5 811,-547.5 805,-547.5\"/>\n<text text-anchor=\"start\" x=\"738\" y=\"-532.3\" font-family=\"Helvetica,sans-Serif\" font-size=\"14.00\" fill=\"#000000\">gini = 0.0</text>\n<text text-anchor=\"start\" x=\"728\" y=\"-517.3\" font-family=\"Helvetica,sans-Serif\" font-size=\"14.00\" fill=\"#000000\">samples = 5</text>\n<text text-anchor=\"start\" x=\"726\" y=\"-502.3\" font-family=\"Helvetica,sans-Serif\" font-size=\"14.00\" fill=\"#000000\">value = [5, 0]</text>\n</g>\n<!-- 23&#45;&gt;24 -->\n<g id=\"edge24\" class=\"edge\">\n<title>23&#45;&gt;24</title>\n<path fill=\"none\" stroke=\"#000000\" d=\"M820.391,-588.8089C812.1576,-578.2533 802.9741,-566.4796 794.6001,-555.7437\"/>\n<polygon fill=\"#000000\" stroke=\"#000000\" points=\"797.2935,-553.5059 788.3833,-547.7735 791.7739,-557.8112 797.2935,-553.5059\"/>\n</g>\n<!-- 25 -->\n<g id=\"node26\" class=\"node\">\n<title>25</title>\n<path fill=\"#ffffff\" stroke=\"#000000\" d=\"M922,-553C922,-553 847,-553 847,-553 841,-553 835,-547 835,-541 835,-541 835,-501 835,-501 835,-495 841,-489 847,-489 847,-489 922,-489 922,-489 928,-489 934,-495 934,-501 934,-501 934,-541 934,-541 934,-547 928,-553 922,-553\"/>\n<text text-anchor=\"start\" x=\"858\" y=\"-538.8\" font-family=\"Helvetica,sans-Serif\" font-size=\"14.00\" fill=\"#000000\">X</text>\n<text text-anchor=\"start\" x=\"868\" y=\"-538.8\" font-family=\"Helvetica,sans-Serif\" baseline-shift=\"sub\" font-size=\"14.00\" fill=\"#000000\">5</text>\n<text text-anchor=\"start\" x=\"875\" y=\"-538.8\" font-family=\"Helvetica,sans-Serif\" font-size=\"14.00\" fill=\"#000000\"> ≤ 0.5</text>\n<text text-anchor=\"start\" x=\"855\" y=\"-524.8\" font-family=\"Helvetica,sans-Serif\" font-size=\"14.00\" fill=\"#000000\">gini = 0.5</text>\n<text text-anchor=\"start\" x=\"845\" y=\"-510.8\" font-family=\"Helvetica,sans-Serif\" font-size=\"14.00\" fill=\"#000000\">samples = 6</text>\n<text text-anchor=\"start\" x=\"843\" y=\"-496.8\" font-family=\"Helvetica,sans-Serif\" font-size=\"14.00\" fill=\"#000000\">value = [3, 3]</text>\n</g>\n<!-- 23&#45;&gt;25 -->\n<g id=\"edge25\" class=\"edge\">\n<title>23&#45;&gt;25</title>\n<path fill=\"none\" stroke=\"#000000\" d=\"M858.0545,-588.8089C861.3251,-580.4229 864.8954,-571.2681 868.3245,-562.4757\"/>\n<polygon fill=\"#000000\" stroke=\"#000000\" points=\"871.5963,-563.719 871.969,-553.1308 865.0747,-561.1756 871.5963,-563.719\"/>\n</g>\n<!-- 26 -->\n<g id=\"node27\" class=\"node\">\n<title>26</title>\n<path fill=\"#399de5\" stroke=\"#000000\" d=\"M805,-447.5C805,-447.5 730,-447.5 730,-447.5 724,-447.5 718,-441.5 718,-435.5 718,-435.5 718,-406.5 718,-406.5 718,-400.5 724,-394.5 730,-394.5 730,-394.5 805,-394.5 805,-394.5 811,-394.5 817,-400.5 817,-406.5 817,-406.5 817,-435.5 817,-435.5 817,-441.5 811,-447.5 805,-447.5\"/>\n<text text-anchor=\"start\" x=\"738\" y=\"-432.3\" font-family=\"Helvetica,sans-Serif\" font-size=\"14.00\" fill=\"#000000\">gini = 0.0</text>\n<text text-anchor=\"start\" x=\"728\" y=\"-417.3\" font-family=\"Helvetica,sans-Serif\" font-size=\"14.00\" fill=\"#000000\">samples = 3</text>\n<text text-anchor=\"start\" x=\"726\" y=\"-402.3\" font-family=\"Helvetica,sans-Serif\" font-size=\"14.00\" fill=\"#000000\">value = [0, 3]</text>\n</g>\n<!-- 25&#45;&gt;26 -->\n<g id=\"edge26\" class=\"edge\">\n<title>25&#45;&gt;26</title>\n<path fill=\"none\" stroke=\"#000000\" d=\"M846.8364,-488.8089C834.002,-477.8393 819.6285,-465.5543 806.6781,-454.4855\"/>\n<polygon fill=\"#000000\" stroke=\"#000000\" points=\"808.7008,-451.6101 798.825,-447.7735 804.1527,-456.9314 808.7008,-451.6101\"/>\n</g>\n<!-- 27 -->\n<g id=\"node28\" class=\"node\">\n<title>27</title>\n<path fill=\"#e58139\" stroke=\"#000000\" d=\"M922,-447.5C922,-447.5 847,-447.5 847,-447.5 841,-447.5 835,-441.5 835,-435.5 835,-435.5 835,-406.5 835,-406.5 835,-400.5 841,-394.5 847,-394.5 847,-394.5 922,-394.5 922,-394.5 928,-394.5 934,-400.5 934,-406.5 934,-406.5 934,-435.5 934,-435.5 934,-441.5 928,-447.5 922,-447.5\"/>\n<text text-anchor=\"start\" x=\"855\" y=\"-432.3\" font-family=\"Helvetica,sans-Serif\" font-size=\"14.00\" fill=\"#000000\">gini = 0.0</text>\n<text text-anchor=\"start\" x=\"845\" y=\"-417.3\" font-family=\"Helvetica,sans-Serif\" font-size=\"14.00\" fill=\"#000000\">samples = 3</text>\n<text text-anchor=\"start\" x=\"843\" y=\"-402.3\" font-family=\"Helvetica,sans-Serif\" font-size=\"14.00\" fill=\"#000000\">value = [3, 0]</text>\n</g>\n<!-- 25&#45;&gt;27 -->\n<g id=\"edge27\" class=\"edge\">\n<title>25&#45;&gt;27</title>\n<path fill=\"none\" stroke=\"#000000\" d=\"M884.5,-488.8089C884.5,-478.9777 884.5,-468.0898 884.5,-457.9679\"/>\n<polygon fill=\"#000000\" stroke=\"#000000\" points=\"888.0001,-457.7735 884.5,-447.7735 881.0001,-457.7736 888.0001,-457.7735\"/>\n</g>\n<!-- 29 -->\n<g id=\"node30\" class=\"node\">\n<title>29</title>\n<path fill=\"#5caeea\" stroke=\"#000000\" d=\"M1436.5,-753C1436.5,-753 1344.5,-753 1344.5,-753 1338.5,-753 1332.5,-747 1332.5,-741 1332.5,-741 1332.5,-701 1332.5,-701 1332.5,-695 1338.5,-689 1344.5,-689 1344.5,-689 1436.5,-689 1436.5,-689 1442.5,-689 1448.5,-695 1448.5,-701 1448.5,-701 1448.5,-741 1448.5,-741 1448.5,-747 1442.5,-753 1436.5,-753\"/>\n<text text-anchor=\"start\" x=\"1356\" y=\"-738.8\" font-family=\"Helvetica,sans-Serif\" font-size=\"14.00\" fill=\"#000000\">X</text>\n<text text-anchor=\"start\" x=\"1366\" y=\"-738.8\" font-family=\"Helvetica,sans-Serif\" baseline-shift=\"sub\" font-size=\"14.00\" fill=\"#000000\">7</text>\n<text text-anchor=\"start\" x=\"1373\" y=\"-738.8\" font-family=\"Helvetica,sans-Serif\" font-size=\"14.00\" fill=\"#000000\"> ≤ 152.5</text>\n<text text-anchor=\"start\" x=\"1352.5\" y=\"-724.8\" font-family=\"Helvetica,sans-Serif\" font-size=\"14.00\" fill=\"#000000\">gini = 0.255</text>\n<text text-anchor=\"start\" x=\"1342.5\" y=\"-710.8\" font-family=\"Helvetica,sans-Serif\" font-size=\"14.00\" fill=\"#000000\">samples = 100</text>\n<text text-anchor=\"start\" x=\"1340.5\" y=\"-696.8\" font-family=\"Helvetica,sans-Serif\" font-size=\"14.00\" fill=\"#000000\">value = [15, 85]</text>\n</g>\n<!-- 28&#45;&gt;29 -->\n<g id=\"edge29\" class=\"edge\">\n<title>28&#45;&gt;29</title>\n<path fill=\"none\" stroke=\"#000000\" d=\"M1390.5,-788.8089C1390.5,-780.6906 1390.5,-771.8517 1390.5,-763.3186\"/>\n<polygon fill=\"#000000\" stroke=\"#000000\" points=\"1394.0001,-763.1307 1390.5,-753.1308 1387.0001,-763.1308 1394.0001,-763.1307\"/>\n</g>\n<!-- 60 -->\n<g id=\"node61\" class=\"node\">\n<title>60</title>\n<path fill=\"#f0b78e\" stroke=\"#000000\" d=\"M1619.5,-753C1619.5,-753 1539.5,-753 1539.5,-753 1533.5,-753 1527.5,-747 1527.5,-741 1527.5,-741 1527.5,-701 1527.5,-701 1527.5,-695 1533.5,-689 1539.5,-689 1539.5,-689 1619.5,-689 1619.5,-689 1625.5,-689 1631.5,-695 1631.5,-701 1631.5,-701 1631.5,-741 1631.5,-741 1631.5,-747 1625.5,-753 1619.5,-753\"/>\n<text text-anchor=\"start\" x=\"1549.5\" y=\"-738.8\" font-family=\"Helvetica,sans-Serif\" font-size=\"14.00\" fill=\"#000000\">X</text>\n<text text-anchor=\"start\" x=\"1559.5\" y=\"-738.8\" font-family=\"Helvetica,sans-Serif\" baseline-shift=\"sub\" font-size=\"14.00\" fill=\"#000000\">10</text>\n<text text-anchor=\"start\" x=\"1573.5\" y=\"-738.8\" font-family=\"Helvetica,sans-Serif\" font-size=\"14.00\" fill=\"#000000\"> ≤ 0.5</text>\n<text text-anchor=\"start\" x=\"1546\" y=\"-724.8\" font-family=\"Helvetica,sans-Serif\" font-size=\"14.00\" fill=\"#000000\">gini = 0.42</text>\n<text text-anchor=\"start\" x=\"1535.5\" y=\"-710.8\" font-family=\"Helvetica,sans-Serif\" font-size=\"14.00\" fill=\"#000000\">samples = 10</text>\n<text text-anchor=\"start\" x=\"1538\" y=\"-696.8\" font-family=\"Helvetica,sans-Serif\" font-size=\"14.00\" fill=\"#000000\">value = [7, 3]</text>\n</g>\n<!-- 28&#45;&gt;60 -->\n<g id=\"edge60\" class=\"edge\">\n<title>28&#45;&gt;60</title>\n<path fill=\"none\" stroke=\"#000000\" d=\"M1448.7484,-790.1807C1470.7692,-778.5295 1495.8855,-765.2405 1518.1798,-753.4446\"/>\n<polygon fill=\"#000000\" stroke=\"#000000\" points=\"1520.0164,-756.4326 1527.2186,-748.6621 1516.7427,-750.2453 1520.0164,-756.4326\"/>\n</g>\n<!-- 30 -->\n<g id=\"node31\" class=\"node\">\n<title>30</title>\n<path fill=\"#98ccf1\" stroke=\"#000000\" d=\"M1350.5,-653C1350.5,-653 1258.5,-653 1258.5,-653 1252.5,-653 1246.5,-647 1246.5,-641 1246.5,-641 1246.5,-601 1246.5,-601 1246.5,-595 1252.5,-589 1258.5,-589 1258.5,-589 1350.5,-589 1350.5,-589 1356.5,-589 1362.5,-595 1362.5,-601 1362.5,-601 1362.5,-641 1362.5,-641 1362.5,-647 1356.5,-653 1350.5,-653\"/>\n<text text-anchor=\"start\" x=\"1278\" y=\"-638.8\" font-family=\"Helvetica,sans-Serif\" font-size=\"14.00\" fill=\"#000000\">X</text>\n<text text-anchor=\"start\" x=\"1288\" y=\"-638.8\" font-family=\"Helvetica,sans-Serif\" baseline-shift=\"sub\" font-size=\"14.00\" fill=\"#000000\">1</text>\n<text text-anchor=\"start\" x=\"1295\" y=\"-638.8\" font-family=\"Helvetica,sans-Serif\" font-size=\"14.00\" fill=\"#000000\"> ≤ 0.5</text>\n<text text-anchor=\"start\" x=\"1266.5\" y=\"-624.8\" font-family=\"Helvetica,sans-Serif\" font-size=\"14.00\" fill=\"#000000\">gini = 0.438</text>\n<text text-anchor=\"start\" x=\"1260.5\" y=\"-610.8\" font-family=\"Helvetica,sans-Serif\" font-size=\"14.00\" fill=\"#000000\">samples = 34</text>\n<text text-anchor=\"start\" x=\"1254.5\" y=\"-596.8\" font-family=\"Helvetica,sans-Serif\" font-size=\"14.00\" fill=\"#000000\">value = [11, 23]</text>\n</g>\n<!-- 29&#45;&gt;30 -->\n<g id=\"edge30\" class=\"edge\">\n<title>29&#45;&gt;30</title>\n<path fill=\"none\" stroke=\"#000000\" d=\"M1362.8157,-688.8089C1355.1434,-679.8877 1346.7228,-670.0963 1338.7252,-660.7968\"/>\n<polygon fill=\"#000000\" stroke=\"#000000\" points=\"1341.3065,-658.4305 1332.1325,-653.1308 1335.9992,-662.9948 1341.3065,-658.4305\"/>\n</g>\n<!-- 47 -->\n<g id=\"node48\" class=\"node\">\n<title>47</title>\n<path fill=\"#46a3e7\" stroke=\"#000000\" d=\"M1500,-653C1500,-653 1417,-653 1417,-653 1411,-653 1405,-647 1405,-641 1405,-641 1405,-601 1405,-601 1405,-595 1411,-589 1417,-589 1417,-589 1500,-589 1500,-589 1506,-589 1512,-595 1512,-601 1512,-601 1512,-641 1512,-641 1512,-647 1506,-653 1500,-653\"/>\n<text text-anchor=\"start\" x=\"1428\" y=\"-638.8\" font-family=\"Helvetica,sans-Serif\" font-size=\"14.00\" fill=\"#000000\">X</text>\n<text text-anchor=\"start\" x=\"1438\" y=\"-638.8\" font-family=\"Helvetica,sans-Serif\" baseline-shift=\"sub\" font-size=\"14.00\" fill=\"#000000\">0</text>\n<text text-anchor=\"start\" x=\"1445\" y=\"-638.8\" font-family=\"Helvetica,sans-Serif\" font-size=\"14.00\" fill=\"#000000\"> ≤ 63.5</text>\n<text text-anchor=\"start\" x=\"1420.5\" y=\"-624.8\" font-family=\"Helvetica,sans-Serif\" font-size=\"14.00\" fill=\"#000000\">gini = 0.114</text>\n<text text-anchor=\"start\" x=\"1414.5\" y=\"-610.8\" font-family=\"Helvetica,sans-Serif\" font-size=\"14.00\" fill=\"#000000\">samples = 66</text>\n<text text-anchor=\"start\" x=\"1413\" y=\"-596.8\" font-family=\"Helvetica,sans-Serif\" font-size=\"14.00\" fill=\"#000000\">value = [4, 62]</text>\n</g>\n<!-- 29&#45;&gt;47 -->\n<g id=\"edge47\" class=\"edge\">\n<title>29&#45;&gt;47</title>\n<path fill=\"none\" stroke=\"#000000\" d=\"M1412.3899,-688.8089C1418.2744,-680.1553 1424.7156,-670.683 1430.8682,-661.635\"/>\n<polygon fill=\"#000000\" stroke=\"#000000\" points=\"1433.9222,-663.3681 1436.6511,-653.1308 1428.1337,-659.4319 1433.9222,-663.3681\"/>\n</g>\n<!-- 31 -->\n<g id=\"node32\" class=\"node\">\n<title>31</title>\n<path fill=\"#48a5e7\" stroke=\"#000000\" d=\"M1168,-553C1168,-553 1085,-553 1085,-553 1079,-553 1073,-547 1073,-541 1073,-541 1073,-501 1073,-501 1073,-495 1079,-489 1085,-489 1085,-489 1168,-489 1168,-489 1174,-489 1180,-495 1180,-501 1180,-501 1180,-541 1180,-541 1180,-547 1174,-553 1168,-553\"/>\n<text text-anchor=\"start\" x=\"1092\" y=\"-538.8\" font-family=\"Helvetica,sans-Serif\" font-size=\"14.00\" fill=\"#000000\">X</text>\n<text text-anchor=\"start\" x=\"1102\" y=\"-538.8\" font-family=\"Helvetica,sans-Serif\" baseline-shift=\"sub\" font-size=\"14.00\" fill=\"#000000\">7</text>\n<text text-anchor=\"start\" x=\"1109\" y=\"-538.8\" font-family=\"Helvetica,sans-Serif\" font-size=\"14.00\" fill=\"#000000\"> ≤ 151.5</text>\n<text text-anchor=\"start\" x=\"1088.5\" y=\"-524.8\" font-family=\"Helvetica,sans-Serif\" font-size=\"14.00\" fill=\"#000000\">gini = 0.133</text>\n<text text-anchor=\"start\" x=\"1082.5\" y=\"-510.8\" font-family=\"Helvetica,sans-Serif\" font-size=\"14.00\" fill=\"#000000\">samples = 14</text>\n<text text-anchor=\"start\" x=\"1081\" y=\"-496.8\" font-family=\"Helvetica,sans-Serif\" font-size=\"14.00\" fill=\"#000000\">value = [1, 13]</text>\n</g>\n<!-- 30&#45;&gt;31 -->\n<g id=\"edge31\" class=\"edge\">\n<title>30&#45;&gt;31</title>\n<path fill=\"none\" stroke=\"#000000\" d=\"M1247.1999,-588.8089C1228.5998,-578.3595 1207.875,-566.7163 1188.9209,-556.0679\"/>\n<polygon fill=\"#000000\" stroke=\"#000000\" points=\"1190.4969,-552.9389 1180.0642,-551.0923 1187.0683,-559.0417 1190.4969,-552.9389\"/>\n</g>\n<!-- 34 -->\n<g id=\"node35\" class=\"node\">\n<title>34</title>\n<path fill=\"#ffffff\" stroke=\"#000000\" d=\"M1350.5,-553C1350.5,-553 1258.5,-553 1258.5,-553 1252.5,-553 1246.5,-547 1246.5,-541 1246.5,-541 1246.5,-501 1246.5,-501 1246.5,-495 1252.5,-489 1258.5,-489 1258.5,-489 1350.5,-489 1350.5,-489 1356.5,-489 1362.5,-495 1362.5,-501 1362.5,-501 1362.5,-541 1362.5,-541 1362.5,-547 1356.5,-553 1350.5,-553\"/>\n<text text-anchor=\"start\" x=\"1270\" y=\"-538.8\" font-family=\"Helvetica,sans-Serif\" font-size=\"14.00\" fill=\"#000000\">X</text>\n<text text-anchor=\"start\" x=\"1280\" y=\"-538.8\" font-family=\"Helvetica,sans-Serif\" baseline-shift=\"sub\" font-size=\"14.00\" fill=\"#000000\">7</text>\n<text text-anchor=\"start\" x=\"1287\" y=\"-538.8\" font-family=\"Helvetica,sans-Serif\" font-size=\"14.00\" fill=\"#000000\"> ≤ 134.5</text>\n<text text-anchor=\"start\" x=\"1275\" y=\"-524.8\" font-family=\"Helvetica,sans-Serif\" font-size=\"14.00\" fill=\"#000000\">gini = 0.5</text>\n<text text-anchor=\"start\" x=\"1260.5\" y=\"-510.8\" font-family=\"Helvetica,sans-Serif\" font-size=\"14.00\" fill=\"#000000\">samples = 20</text>\n<text text-anchor=\"start\" x=\"1254.5\" y=\"-496.8\" font-family=\"Helvetica,sans-Serif\" font-size=\"14.00\" fill=\"#000000\">value = [10, 10]</text>\n</g>\n<!-- 30&#45;&gt;34 -->\n<g id=\"edge34\" class=\"edge\">\n<title>30&#45;&gt;34</title>\n<path fill=\"none\" stroke=\"#000000\" d=\"M1304.5,-588.8089C1304.5,-580.6906 1304.5,-571.8517 1304.5,-563.3186\"/>\n<polygon fill=\"#000000\" stroke=\"#000000\" points=\"1308.0001,-563.1307 1304.5,-553.1308 1301.0001,-563.1308 1308.0001,-563.1307\"/>\n</g>\n<!-- 32 -->\n<g id=\"node33\" class=\"node\">\n<title>32</title>\n<path fill=\"#399de5\" stroke=\"#000000\" d=\"M1047,-447.5C1047,-447.5 964,-447.5 964,-447.5 958,-447.5 952,-441.5 952,-435.5 952,-435.5 952,-406.5 952,-406.5 952,-400.5 958,-394.5 964,-394.5 964,-394.5 1047,-394.5 1047,-394.5 1053,-394.5 1059,-400.5 1059,-406.5 1059,-406.5 1059,-435.5 1059,-435.5 1059,-441.5 1053,-447.5 1047,-447.5\"/>\n<text text-anchor=\"start\" x=\"976\" y=\"-432.3\" font-family=\"Helvetica,sans-Serif\" font-size=\"14.00\" fill=\"#000000\">gini = 0.0</text>\n<text text-anchor=\"start\" x=\"961.5\" y=\"-417.3\" font-family=\"Helvetica,sans-Serif\" font-size=\"14.00\" fill=\"#000000\">samples = 13</text>\n<text text-anchor=\"start\" x=\"960\" y=\"-402.3\" font-family=\"Helvetica,sans-Serif\" font-size=\"14.00\" fill=\"#000000\">value = [0, 13]</text>\n</g>\n<!-- 31&#45;&gt;32 -->\n<g id=\"edge32\" class=\"edge\">\n<title>31&#45;&gt;32</title>\n<path fill=\"none\" stroke=\"#000000\" d=\"M1087.5488,-488.8089C1074.1504,-477.7359 1059.13,-465.3223 1045.6388,-454.1726\"/>\n<polygon fill=\"#000000\" stroke=\"#000000\" points=\"1047.8339,-451.4461 1037.896,-447.7735 1043.3746,-456.8419 1047.8339,-451.4461\"/>\n</g>\n<!-- 33 -->\n<g id=\"node34\" class=\"node\">\n<title>33</title>\n<path fill=\"#e58139\" stroke=\"#000000\" d=\"M1164,-447.5C1164,-447.5 1089,-447.5 1089,-447.5 1083,-447.5 1077,-441.5 1077,-435.5 1077,-435.5 1077,-406.5 1077,-406.5 1077,-400.5 1083,-394.5 1089,-394.5 1089,-394.5 1164,-394.5 1164,-394.5 1170,-394.5 1176,-400.5 1176,-406.5 1176,-406.5 1176,-435.5 1176,-435.5 1176,-441.5 1170,-447.5 1164,-447.5\"/>\n<text text-anchor=\"start\" x=\"1097\" y=\"-432.3\" font-family=\"Helvetica,sans-Serif\" font-size=\"14.00\" fill=\"#000000\">gini = 0.0</text>\n<text text-anchor=\"start\" x=\"1087\" y=\"-417.3\" font-family=\"Helvetica,sans-Serif\" font-size=\"14.00\" fill=\"#000000\">samples = 1</text>\n<text text-anchor=\"start\" x=\"1085\" y=\"-402.3\" font-family=\"Helvetica,sans-Serif\" font-size=\"14.00\" fill=\"#000000\">value = [1, 0]</text>\n</g>\n<!-- 31&#45;&gt;33 -->\n<g id=\"edge33\" class=\"edge\">\n<title>31&#45;&gt;33</title>\n<path fill=\"none\" stroke=\"#000000\" d=\"M1126.5,-488.8089C1126.5,-478.9777 1126.5,-468.0898 1126.5,-457.9679\"/>\n<polygon fill=\"#000000\" stroke=\"#000000\" points=\"1130.0001,-457.7735 1126.5,-447.7735 1123.0001,-457.7736 1130.0001,-457.7735\"/>\n</g>\n<!-- 35 -->\n<g id=\"node36\" class=\"node\">\n<title>35</title>\n<path fill=\"#ea9a61\" stroke=\"#000000\" d=\"M1281,-453C1281,-453 1206,-453 1206,-453 1200,-453 1194,-447 1194,-441 1194,-441 1194,-401 1194,-401 1194,-395 1200,-389 1206,-389 1206,-389 1281,-389 1281,-389 1287,-389 1293,-395 1293,-401 1293,-401 1293,-441 1293,-441 1293,-447 1287,-453 1281,-453\"/>\n<text text-anchor=\"start\" x=\"1217\" y=\"-438.8\" font-family=\"Helvetica,sans-Serif\" font-size=\"14.00\" fill=\"#000000\">X</text>\n<text text-anchor=\"start\" x=\"1227\" y=\"-438.8\" font-family=\"Helvetica,sans-Serif\" baseline-shift=\"sub\" font-size=\"14.00\" fill=\"#000000\">5</text>\n<text text-anchor=\"start\" x=\"1234\" y=\"-438.8\" font-family=\"Helvetica,sans-Serif\" font-size=\"14.00\" fill=\"#000000\"> ≤ 0.5</text>\n<text text-anchor=\"start\" x=\"1205.5\" y=\"-424.8\" font-family=\"Helvetica,sans-Serif\" font-size=\"14.00\" fill=\"#000000\">gini = 0.278</text>\n<text text-anchor=\"start\" x=\"1204\" y=\"-410.8\" font-family=\"Helvetica,sans-Serif\" font-size=\"14.00\" fill=\"#000000\">samples = 6</text>\n<text text-anchor=\"start\" x=\"1202\" y=\"-396.8\" font-family=\"Helvetica,sans-Serif\" font-size=\"14.00\" fill=\"#000000\">value = [5, 1]</text>\n</g>\n<!-- 34&#45;&gt;35 -->\n<g id=\"edge35\" class=\"edge\">\n<title>34&#45;&gt;35</title>\n<path fill=\"none\" stroke=\"#000000\" d=\"M1284.8634,-488.8089C1279.6392,-480.2445 1273.9257,-470.8782 1268.4582,-461.915\"/>\n<polygon fill=\"#000000\" stroke=\"#000000\" points=\"1271.2954,-459.8451 1263.0998,-453.1308 1265.3194,-463.4905 1271.2954,-459.8451\"/>\n</g>\n<!-- 38 -->\n<g id=\"node39\" class=\"node\">\n<title>38</title>\n<path fill=\"#a7d3f3\" stroke=\"#000000\" d=\"M1403.5,-453C1403.5,-453 1323.5,-453 1323.5,-453 1317.5,-453 1311.5,-447 1311.5,-441 1311.5,-441 1311.5,-401 1311.5,-401 1311.5,-395 1317.5,-389 1323.5,-389 1323.5,-389 1403.5,-389 1403.5,-389 1409.5,-389 1415.5,-395 1415.5,-401 1415.5,-401 1415.5,-441 1415.5,-441 1415.5,-447 1409.5,-453 1403.5,-453\"/>\n<text text-anchor=\"start\" x=\"1329\" y=\"-438.8\" font-family=\"Helvetica,sans-Serif\" font-size=\"14.00\" fill=\"#000000\">X</text>\n<text text-anchor=\"start\" x=\"1339\" y=\"-438.8\" font-family=\"Helvetica,sans-Serif\" baseline-shift=\"sub\" font-size=\"14.00\" fill=\"#000000\">4</text>\n<text text-anchor=\"start\" x=\"1346\" y=\"-438.8\" font-family=\"Helvetica,sans-Serif\" font-size=\"14.00\" fill=\"#000000\"> ≤ 224.5</text>\n<text text-anchor=\"start\" x=\"1325.5\" y=\"-424.8\" font-family=\"Helvetica,sans-Serif\" font-size=\"14.00\" fill=\"#000000\">gini = 0.459</text>\n<text text-anchor=\"start\" x=\"1319.5\" y=\"-410.8\" font-family=\"Helvetica,sans-Serif\" font-size=\"14.00\" fill=\"#000000\">samples = 14</text>\n<text text-anchor=\"start\" x=\"1322\" y=\"-396.8\" font-family=\"Helvetica,sans-Serif\" font-size=\"14.00\" fill=\"#000000\">value = [5, 9]</text>\n</g>\n<!-- 34&#45;&gt;38 -->\n<g id=\"edge38\" class=\"edge\">\n<title>34&#45;&gt;38</title>\n<path fill=\"none\" stroke=\"#000000\" d=\"M1323.4927,-488.8089C1328.5457,-480.2445 1334.0718,-470.8782 1339.3601,-461.915\"/>\n<polygon fill=\"#000000\" stroke=\"#000000\" points=\"1342.4758,-463.522 1344.5429,-453.1308 1336.4469,-459.9649 1342.4758,-463.522\"/>\n</g>\n<!-- 36 -->\n<g id=\"node37\" class=\"node\">\n<title>36</title>\n<path fill=\"#e58139\" stroke=\"#000000\" d=\"M1080,-347.5C1080,-347.5 1005,-347.5 1005,-347.5 999,-347.5 993,-341.5 993,-335.5 993,-335.5 993,-306.5 993,-306.5 993,-300.5 999,-294.5 1005,-294.5 1005,-294.5 1080,-294.5 1080,-294.5 1086,-294.5 1092,-300.5 1092,-306.5 1092,-306.5 1092,-335.5 1092,-335.5 1092,-341.5 1086,-347.5 1080,-347.5\"/>\n<text text-anchor=\"start\" x=\"1013\" y=\"-332.3\" font-family=\"Helvetica,sans-Serif\" font-size=\"14.00\" fill=\"#000000\">gini = 0.0</text>\n<text text-anchor=\"start\" x=\"1003\" y=\"-317.3\" font-family=\"Helvetica,sans-Serif\" font-size=\"14.00\" fill=\"#000000\">samples = 5</text>\n<text text-anchor=\"start\" x=\"1001\" y=\"-302.3\" font-family=\"Helvetica,sans-Serif\" font-size=\"14.00\" fill=\"#000000\">value = [5, 0]</text>\n</g>\n<!-- 35&#45;&gt;36 -->\n<g id=\"edge36\" class=\"edge\">\n<title>35&#45;&gt;36</title>\n<path fill=\"none\" stroke=\"#000000\" d=\"M1193.7741,-393.6127C1190.651,-392.0224 1187.5415,-390.4727 1184.5,-389 1147.9426,-371.2988 1136.9935,-370.8327 1100.5,-353 1099.9511,-352.7318 1099.4,-352.4609 1098.847,-352.1876\"/>\n<polygon fill=\"#000000\" stroke=\"#000000\" points=\"1100.278,-348.9889 1089.7768,-347.5836 1097.1097,-355.2309 1100.278,-348.9889\"/>\n</g>\n<!-- 37 -->\n<g id=\"node38\" class=\"node\">\n<title>37</title>\n<path fill=\"#399de5\" stroke=\"#000000\" d=\"M1197,-347.5C1197,-347.5 1122,-347.5 1122,-347.5 1116,-347.5 1110,-341.5 1110,-335.5 1110,-335.5 1110,-306.5 1110,-306.5 1110,-300.5 1116,-294.5 1122,-294.5 1122,-294.5 1197,-294.5 1197,-294.5 1203,-294.5 1209,-300.5 1209,-306.5 1209,-306.5 1209,-335.5 1209,-335.5 1209,-341.5 1203,-347.5 1197,-347.5\"/>\n<text text-anchor=\"start\" x=\"1130\" y=\"-332.3\" font-family=\"Helvetica,sans-Serif\" font-size=\"14.00\" fill=\"#000000\">gini = 0.0</text>\n<text text-anchor=\"start\" x=\"1120\" y=\"-317.3\" font-family=\"Helvetica,sans-Serif\" font-size=\"14.00\" fill=\"#000000\">samples = 1</text>\n<text text-anchor=\"start\" x=\"1118\" y=\"-302.3\" font-family=\"Helvetica,sans-Serif\" font-size=\"14.00\" fill=\"#000000\">value = [0, 1]</text>\n</g>\n<!-- 35&#45;&gt;37 -->\n<g id=\"edge37\" class=\"edge\">\n<title>35&#45;&gt;37</title>\n<path fill=\"none\" stroke=\"#000000\" d=\"M1216.4595,-388.8089C1207.5928,-378.2533 1197.7028,-366.4796 1188.6847,-355.7437\"/>\n<polygon fill=\"#000000\" stroke=\"#000000\" points=\"1191.1017,-353.1794 1181.9898,-347.7735 1185.7417,-357.6818 1191.1017,-353.1794\"/>\n</g>\n<!-- 39 -->\n<g id=\"node40\" class=\"node\">\n<title>39</title>\n<path fill=\"#399de5\" stroke=\"#000000\" d=\"M1314,-347.5C1314,-347.5 1239,-347.5 1239,-347.5 1233,-347.5 1227,-341.5 1227,-335.5 1227,-335.5 1227,-306.5 1227,-306.5 1227,-300.5 1233,-294.5 1239,-294.5 1239,-294.5 1314,-294.5 1314,-294.5 1320,-294.5 1326,-300.5 1326,-306.5 1326,-306.5 1326,-335.5 1326,-335.5 1326,-341.5 1320,-347.5 1314,-347.5\"/>\n<text text-anchor=\"start\" x=\"1247\" y=\"-332.3\" font-family=\"Helvetica,sans-Serif\" font-size=\"14.00\" fill=\"#000000\">gini = 0.0</text>\n<text text-anchor=\"start\" x=\"1237\" y=\"-317.3\" font-family=\"Helvetica,sans-Serif\" font-size=\"14.00\" fill=\"#000000\">samples = 5</text>\n<text text-anchor=\"start\" x=\"1235\" y=\"-302.3\" font-family=\"Helvetica,sans-Serif\" font-size=\"14.00\" fill=\"#000000\">value = [0, 5]</text>\n</g>\n<!-- 38&#45;&gt;39 -->\n<g id=\"edge39\" class=\"edge\">\n<title>38&#45;&gt;39</title>\n<path fill=\"none\" stroke=\"#000000\" d=\"M1335.4938,-388.8089C1326.2203,-378.1498 1315.8663,-366.2486 1306.4525,-355.4282\"/>\n<polygon fill=\"#000000\" stroke=\"#000000\" points=\"1308.9972,-353.0207 1299.793,-347.7735 1303.7161,-357.6153 1308.9972,-353.0207\"/>\n</g>\n<!-- 40 -->\n<g id=\"node41\" class=\"node\">\n<title>40</title>\n<path fill=\"#fae6d7\" stroke=\"#000000\" d=\"M1431,-353C1431,-353 1356,-353 1356,-353 1350,-353 1344,-347 1344,-341 1344,-341 1344,-301 1344,-301 1344,-295 1350,-289 1356,-289 1356,-289 1431,-289 1431,-289 1437,-289 1443,-295 1443,-301 1443,-301 1443,-341 1443,-341 1443,-347 1437,-353 1431,-353\"/>\n<text text-anchor=\"start\" x=\"1363\" y=\"-338.8\" font-family=\"Helvetica,sans-Serif\" font-size=\"14.00\" fill=\"#000000\">X</text>\n<text text-anchor=\"start\" x=\"1373\" y=\"-338.8\" font-family=\"Helvetica,sans-Serif\" baseline-shift=\"sub\" font-size=\"14.00\" fill=\"#000000\">9</text>\n<text text-anchor=\"start\" x=\"1380\" y=\"-338.8\" font-family=\"Helvetica,sans-Serif\" font-size=\"14.00\" fill=\"#000000\"> ≤ 0.35</text>\n<text text-anchor=\"start\" x=\"1355.5\" y=\"-324.8\" font-family=\"Helvetica,sans-Serif\" font-size=\"14.00\" fill=\"#000000\">gini = 0.494</text>\n<text text-anchor=\"start\" x=\"1354\" y=\"-310.8\" font-family=\"Helvetica,sans-Serif\" font-size=\"14.00\" fill=\"#000000\">samples = 9</text>\n<text text-anchor=\"start\" x=\"1352\" y=\"-296.8\" font-family=\"Helvetica,sans-Serif\" font-size=\"14.00\" fill=\"#000000\">value = [5, 4]</text>\n</g>\n<!-- 38&#45;&gt;40 -->\n<g id=\"edge40\" class=\"edge\">\n<title>38&#45;&gt;40</title>\n<path fill=\"none\" stroke=\"#000000\" d=\"M1373.1573,-388.8089C1375.6464,-380.5122 1378.3611,-371.4628 1380.9731,-362.7565\"/>\n<polygon fill=\"#000000\" stroke=\"#000000\" points=\"1384.3396,-363.7148 1383.8608,-353.1308 1377.6348,-361.7033 1384.3396,-363.7148\"/>\n</g>\n<!-- 41 -->\n<g id=\"node42\" class=\"node\">\n<title>41</title>\n<path fill=\"#e58139\" stroke=\"#000000\" d=\"M1373,-247.5C1373,-247.5 1298,-247.5 1298,-247.5 1292,-247.5 1286,-241.5 1286,-235.5 1286,-235.5 1286,-206.5 1286,-206.5 1286,-200.5 1292,-194.5 1298,-194.5 1298,-194.5 1373,-194.5 1373,-194.5 1379,-194.5 1385,-200.5 1385,-206.5 1385,-206.5 1385,-235.5 1385,-235.5 1385,-241.5 1379,-247.5 1373,-247.5\"/>\n<text text-anchor=\"start\" x=\"1306\" y=\"-232.3\" font-family=\"Helvetica,sans-Serif\" font-size=\"14.00\" fill=\"#000000\">gini = 0.0</text>\n<text text-anchor=\"start\" x=\"1296\" y=\"-217.3\" font-family=\"Helvetica,sans-Serif\" font-size=\"14.00\" fill=\"#000000\">samples = 2</text>\n<text text-anchor=\"start\" x=\"1294\" y=\"-202.3\" font-family=\"Helvetica,sans-Serif\" font-size=\"14.00\" fill=\"#000000\">value = [2, 0]</text>\n</g>\n<!-- 40&#45;&gt;41 -->\n<g id=\"edge41\" class=\"edge\">\n<title>40&#45;&gt;41</title>\n<path fill=\"none\" stroke=\"#000000\" d=\"M1374.8292,-288.8089C1368.887,-278.5638 1362.2792,-267.1711 1356.2023,-256.6936\"/>\n<polygon fill=\"#000000\" stroke=\"#000000\" points=\"1359.0735,-254.6678 1351.0286,-247.7735 1353.0183,-258.1799 1359.0735,-254.6678\"/>\n</g>\n<!-- 42 -->\n<g id=\"node43\" class=\"node\">\n<title>42</title>\n<path fill=\"#cee6f8\" stroke=\"#000000\" d=\"M1490,-253C1490,-253 1415,-253 1415,-253 1409,-253 1403,-247 1403,-241 1403,-241 1403,-201 1403,-201 1403,-195 1409,-189 1415,-189 1415,-189 1490,-189 1490,-189 1496,-189 1502,-195 1502,-201 1502,-201 1502,-241 1502,-241 1502,-247 1496,-253 1490,-253\"/>\n<text text-anchor=\"start\" x=\"1418\" y=\"-238.8\" font-family=\"Helvetica,sans-Serif\" font-size=\"14.00\" fill=\"#000000\">X</text>\n<text text-anchor=\"start\" x=\"1428\" y=\"-238.8\" font-family=\"Helvetica,sans-Serif\" baseline-shift=\"sub\" font-size=\"14.00\" fill=\"#000000\">3</text>\n<text text-anchor=\"start\" x=\"1435\" y=\"-238.8\" font-family=\"Helvetica,sans-Serif\" font-size=\"14.00\" fill=\"#000000\"> ≤ 126.5</text>\n<text text-anchor=\"start\" x=\"1419\" y=\"-224.8\" font-family=\"Helvetica,sans-Serif\" font-size=\"14.00\" fill=\"#000000\">gini = 0.49</text>\n<text text-anchor=\"start\" x=\"1413\" y=\"-210.8\" font-family=\"Helvetica,sans-Serif\" font-size=\"14.00\" fill=\"#000000\">samples = 7</text>\n<text text-anchor=\"start\" x=\"1411\" y=\"-196.8\" font-family=\"Helvetica,sans-Serif\" font-size=\"14.00\" fill=\"#000000\">value = [3, 4]</text>\n</g>\n<!-- 40&#45;&gt;42 -->\n<g id=\"edge42\" class=\"edge\">\n<title>40&#45;&gt;42</title>\n<path fill=\"none\" stroke=\"#000000\" d=\"M1412.4927,-288.8089C1417.5457,-280.2445 1423.0718,-270.8782 1428.3601,-261.915\"/>\n<polygon fill=\"#000000\" stroke=\"#000000\" points=\"1431.4758,-263.522 1433.5429,-253.1308 1425.4469,-259.9649 1431.4758,-263.522\"/>\n</g>\n<!-- 43 -->\n<g id=\"node44\" class=\"node\">\n<title>43</title>\n<path fill=\"#399de5\" stroke=\"#000000\" d=\"M1432,-147.5C1432,-147.5 1357,-147.5 1357,-147.5 1351,-147.5 1345,-141.5 1345,-135.5 1345,-135.5 1345,-106.5 1345,-106.5 1345,-100.5 1351,-94.5 1357,-94.5 1357,-94.5 1432,-94.5 1432,-94.5 1438,-94.5 1444,-100.5 1444,-106.5 1444,-106.5 1444,-135.5 1444,-135.5 1444,-141.5 1438,-147.5 1432,-147.5\"/>\n<text text-anchor=\"start\" x=\"1365\" y=\"-132.3\" font-family=\"Helvetica,sans-Serif\" font-size=\"14.00\" fill=\"#000000\">gini = 0.0</text>\n<text text-anchor=\"start\" x=\"1355\" y=\"-117.3\" font-family=\"Helvetica,sans-Serif\" font-size=\"14.00\" fill=\"#000000\">samples = 3</text>\n<text text-anchor=\"start\" x=\"1353\" y=\"-102.3\" font-family=\"Helvetica,sans-Serif\" font-size=\"14.00\" fill=\"#000000\">value = [0, 3]</text>\n</g>\n<!-- 42&#45;&gt;43 -->\n<g id=\"edge43\" class=\"edge\">\n<title>42&#45;&gt;43</title>\n<path fill=\"none\" stroke=\"#000000\" d=\"M1433.8292,-188.8089C1427.887,-178.5638 1421.2792,-167.1711 1415.2023,-156.6936\"/>\n<polygon fill=\"#000000\" stroke=\"#000000\" points=\"1418.0735,-154.6678 1410.0286,-147.7735 1412.0183,-158.1799 1418.0735,-154.6678\"/>\n</g>\n<!-- 44 -->\n<g id=\"node45\" class=\"node\">\n<title>44</title>\n<path fill=\"#eeab7b\" stroke=\"#000000\" d=\"M1549,-153C1549,-153 1474,-153 1474,-153 1468,-153 1462,-147 1462,-141 1462,-141 1462,-101 1462,-101 1462,-95 1468,-89 1474,-89 1474,-89 1549,-89 1549,-89 1555,-89 1561,-95 1561,-101 1561,-101 1561,-141 1561,-141 1561,-147 1555,-153 1549,-153\"/>\n<text text-anchor=\"start\" x=\"1485\" y=\"-138.8\" font-family=\"Helvetica,sans-Serif\" font-size=\"14.00\" fill=\"#000000\">X</text>\n<text text-anchor=\"start\" x=\"1495\" y=\"-138.8\" font-family=\"Helvetica,sans-Serif\" baseline-shift=\"sub\" font-size=\"14.00\" fill=\"#000000\">6</text>\n<text text-anchor=\"start\" x=\"1502\" y=\"-138.8\" font-family=\"Helvetica,sans-Serif\" font-size=\"14.00\" fill=\"#000000\"> ≤ 0.5</text>\n<text text-anchor=\"start\" x=\"1473.5\" y=\"-124.8\" font-family=\"Helvetica,sans-Serif\" font-size=\"14.00\" fill=\"#000000\">gini = 0.375</text>\n<text text-anchor=\"start\" x=\"1472\" y=\"-110.8\" font-family=\"Helvetica,sans-Serif\" font-size=\"14.00\" fill=\"#000000\">samples = 4</text>\n<text text-anchor=\"start\" x=\"1470\" y=\"-96.8\" font-family=\"Helvetica,sans-Serif\" font-size=\"14.00\" fill=\"#000000\">value = [3, 1]</text>\n</g>\n<!-- 42&#45;&gt;44 -->\n<g id=\"edge44\" class=\"edge\">\n<title>42&#45;&gt;44</title>\n<path fill=\"none\" stroke=\"#000000\" d=\"M1471.4927,-188.8089C1476.5457,-180.2445 1482.0718,-170.8782 1487.3601,-161.915\"/>\n<polygon fill=\"#000000\" stroke=\"#000000\" points=\"1490.4758,-163.522 1492.5429,-153.1308 1484.4469,-159.9649 1490.4758,-163.522\"/>\n</g>\n<!-- 45 -->\n<g id=\"node46\" class=\"node\">\n<title>45</title>\n<path fill=\"#e58139\" stroke=\"#000000\" d=\"M1490,-53C1490,-53 1415,-53 1415,-53 1409,-53 1403,-47 1403,-41 1403,-41 1403,-12 1403,-12 1403,-6 1409,0 1415,0 1415,0 1490,0 1490,0 1496,0 1502,-6 1502,-12 1502,-12 1502,-41 1502,-41 1502,-47 1496,-53 1490,-53\"/>\n<text text-anchor=\"start\" x=\"1423\" y=\"-37.8\" font-family=\"Helvetica,sans-Serif\" font-size=\"14.00\" fill=\"#000000\">gini = 0.0</text>\n<text text-anchor=\"start\" x=\"1413\" y=\"-22.8\" font-family=\"Helvetica,sans-Serif\" font-size=\"14.00\" fill=\"#000000\">samples = 3</text>\n<text text-anchor=\"start\" x=\"1411\" y=\"-7.8\" font-family=\"Helvetica,sans-Serif\" font-size=\"14.00\" fill=\"#000000\">value = [3, 0]</text>\n</g>\n<!-- 44&#45;&gt;45 -->\n<g id=\"edge45\" class=\"edge\">\n<title>44&#45;&gt;45</title>\n<path fill=\"none\" stroke=\"#000000\" d=\"M1491.3606,-88.7428C1485.9526,-80.0809 1480.0764,-70.669 1474.5697,-61.849\"/>\n<polygon fill=\"#000000\" stroke=\"#000000\" points=\"1477.4821,-59.9048 1469.2172,-53.2759 1471.5443,-63.612 1477.4821,-59.9048\"/>\n</g>\n<!-- 46 -->\n<g id=\"node47\" class=\"node\">\n<title>46</title>\n<path fill=\"#399de5\" stroke=\"#000000\" d=\"M1607,-53C1607,-53 1532,-53 1532,-53 1526,-53 1520,-47 1520,-41 1520,-41 1520,-12 1520,-12 1520,-6 1526,0 1532,0 1532,0 1607,0 1607,0 1613,0 1619,-6 1619,-12 1619,-12 1619,-41 1619,-41 1619,-47 1613,-53 1607,-53\"/>\n<text text-anchor=\"start\" x=\"1540\" y=\"-37.8\" font-family=\"Helvetica,sans-Serif\" font-size=\"14.00\" fill=\"#000000\">gini = 0.0</text>\n<text text-anchor=\"start\" x=\"1530\" y=\"-22.8\" font-family=\"Helvetica,sans-Serif\" font-size=\"14.00\" fill=\"#000000\">samples = 1</text>\n<text text-anchor=\"start\" x=\"1528\" y=\"-7.8\" font-family=\"Helvetica,sans-Serif\" font-size=\"14.00\" fill=\"#000000\">value = [0, 1]</text>\n</g>\n<!-- 44&#45;&gt;46 -->\n<g id=\"edge46\" class=\"edge\">\n<title>44&#45;&gt;46</title>\n<path fill=\"none\" stroke=\"#000000\" d=\"M1531.2981,-88.7428C1536.6144,-80.0809 1542.391,-70.669 1547.8043,-61.849\"/>\n<polygon fill=\"#000000\" stroke=\"#000000\" points=\"1550.8182,-63.6295 1553.0661,-53.2759 1544.8522,-59.9678 1550.8182,-63.6295\"/>\n</g>\n<!-- 48 -->\n<g id=\"node49\" class=\"node\">\n<title>48</title>\n<path fill=\"#40a0e6\" stroke=\"#000000\" d=\"M1582,-553C1582,-553 1499,-553 1499,-553 1493,-553 1487,-547 1487,-541 1487,-541 1487,-501 1487,-501 1487,-495 1493,-489 1499,-489 1499,-489 1582,-489 1582,-489 1588,-489 1594,-495 1594,-501 1594,-501 1594,-541 1594,-541 1594,-547 1588,-553 1582,-553\"/>\n<text text-anchor=\"start\" x=\"1510.5\" y=\"-538.8\" font-family=\"Helvetica,sans-Serif\" font-size=\"14.00\" fill=\"#000000\">X</text>\n<text text-anchor=\"start\" x=\"1520.5\" y=\"-538.8\" font-family=\"Helvetica,sans-Serif\" baseline-shift=\"sub\" font-size=\"14.00\" fill=\"#000000\">10</text>\n<text text-anchor=\"start\" x=\"1534.5\" y=\"-538.8\" font-family=\"Helvetica,sans-Serif\" font-size=\"14.00\" fill=\"#000000\"> ≤ 0.5</text>\n<text text-anchor=\"start\" x=\"1502.5\" y=\"-524.8\" font-family=\"Helvetica,sans-Serif\" font-size=\"14.00\" fill=\"#000000\">gini = 0.064</text>\n<text text-anchor=\"start\" x=\"1496.5\" y=\"-510.8\" font-family=\"Helvetica,sans-Serif\" font-size=\"14.00\" fill=\"#000000\">samples = 60</text>\n<text text-anchor=\"start\" x=\"1495\" y=\"-496.8\" font-family=\"Helvetica,sans-Serif\" font-size=\"14.00\" fill=\"#000000\">value = [2, 58]</text>\n</g>\n<!-- 47&#45;&gt;48 -->\n<g id=\"edge48\" class=\"edge\">\n<title>47&#45;&gt;48</title>\n<path fill=\"none\" stroke=\"#000000\" d=\"M1484.8967,-588.8089C1492.139,-579.9769 1500.0805,-570.2921 1507.6377,-561.0759\"/>\n<polygon fill=\"#000000\" stroke=\"#000000\" points=\"1510.5184,-563.0828 1514.1528,-553.1308 1505.1055,-558.6442 1510.5184,-563.0828\"/>\n</g>\n<!-- 57 -->\n<g id=\"node58\" class=\"node\">\n<title>57</title>\n<path fill=\"#9ccef2\" stroke=\"#000000\" d=\"M1848,-553C1848,-553 1773,-553 1773,-553 1767,-553 1761,-547 1761,-541 1761,-541 1761,-501 1761,-501 1761,-495 1767,-489 1773,-489 1773,-489 1848,-489 1848,-489 1854,-489 1860,-495 1860,-501 1860,-501 1860,-541 1860,-541 1860,-547 1854,-553 1848,-553\"/>\n<text text-anchor=\"start\" x=\"1784\" y=\"-538.8\" font-family=\"Helvetica,sans-Serif\" font-size=\"14.00\" fill=\"#000000\">X</text>\n<text text-anchor=\"start\" x=\"1794\" y=\"-538.8\" font-family=\"Helvetica,sans-Serif\" baseline-shift=\"sub\" font-size=\"14.00\" fill=\"#000000\">1</text>\n<text text-anchor=\"start\" x=\"1801\" y=\"-538.8\" font-family=\"Helvetica,sans-Serif\" font-size=\"14.00\" fill=\"#000000\"> ≤ 0.5</text>\n<text text-anchor=\"start\" x=\"1772.5\" y=\"-524.8\" font-family=\"Helvetica,sans-Serif\" font-size=\"14.00\" fill=\"#000000\">gini = 0.444</text>\n<text text-anchor=\"start\" x=\"1771\" y=\"-510.8\" font-family=\"Helvetica,sans-Serif\" font-size=\"14.00\" fill=\"#000000\">samples = 6</text>\n<text text-anchor=\"start\" x=\"1769\" y=\"-496.8\" font-family=\"Helvetica,sans-Serif\" font-size=\"14.00\" fill=\"#000000\">value = [2, 4]</text>\n</g>\n<!-- 47&#45;&gt;57 -->\n<g id=\"edge57\" class=\"edge\">\n<title>47&#45;&gt;57</title>\n<path fill=\"none\" stroke=\"#000000\" d=\"M1512.2473,-592.2699C1515.0115,-591.1048 1517.7725,-590.0061 1520.5,-589 1597.8952,-560.4504 1691.4404,-541.0772 1750.9566,-530.5298\"/>\n<polygon fill=\"#000000\" stroke=\"#000000\" points=\"1751.6854,-533.9556 1760.9344,-528.7878 1750.4815,-527.0599 1751.6854,-533.9556\"/>\n</g>\n<!-- 49 -->\n<g id=\"node50\" class=\"node\">\n<title>49</title>\n<path fill=\"#ffffff\" stroke=\"#000000\" d=\"M1578,-453C1578,-453 1503,-453 1503,-453 1497,-453 1491,-447 1491,-441 1491,-441 1491,-401 1491,-401 1491,-395 1497,-389 1503,-389 1503,-389 1578,-389 1578,-389 1584,-389 1590,-395 1590,-401 1590,-401 1590,-441 1590,-441 1590,-447 1584,-453 1578,-453\"/>\n<text text-anchor=\"start\" x=\"1506\" y=\"-438.8\" font-family=\"Helvetica,sans-Serif\" font-size=\"14.00\" fill=\"#000000\">X</text>\n<text text-anchor=\"start\" x=\"1516\" y=\"-438.8\" font-family=\"Helvetica,sans-Serif\" baseline-shift=\"sub\" font-size=\"14.00\" fill=\"#000000\">7</text>\n<text text-anchor=\"start\" x=\"1523\" y=\"-438.8\" font-family=\"Helvetica,sans-Serif\" font-size=\"14.00\" fill=\"#000000\"> ≤ 164.0</text>\n<text text-anchor=\"start\" x=\"1511\" y=\"-424.8\" font-family=\"Helvetica,sans-Serif\" font-size=\"14.00\" fill=\"#000000\">gini = 0.5</text>\n<text text-anchor=\"start\" x=\"1501\" y=\"-410.8\" font-family=\"Helvetica,sans-Serif\" font-size=\"14.00\" fill=\"#000000\">samples = 2</text>\n<text text-anchor=\"start\" x=\"1499\" y=\"-396.8\" font-family=\"Helvetica,sans-Serif\" font-size=\"14.00\" fill=\"#000000\">value = [1, 1]</text>\n</g>\n<!-- 48&#45;&gt;49 -->\n<g id=\"edge49\" class=\"edge\">\n<title>48&#45;&gt;49</title>\n<path fill=\"none\" stroke=\"#000000\" d=\"M1540.5,-488.8089C1540.5,-480.6906 1540.5,-471.8517 1540.5,-463.3186\"/>\n<polygon fill=\"#000000\" stroke=\"#000000\" points=\"1544.0001,-463.1307 1540.5,-453.1308 1537.0001,-463.1308 1544.0001,-463.1307\"/>\n</g>\n<!-- 52 -->\n<g id=\"node53\" class=\"node\">\n<title>52</title>\n<path fill=\"#3c9fe5\" stroke=\"#000000\" d=\"M1731,-453C1731,-453 1648,-453 1648,-453 1642,-453 1636,-447 1636,-441 1636,-441 1636,-401 1636,-401 1636,-395 1642,-389 1648,-389 1648,-389 1731,-389 1731,-389 1737,-389 1743,-395 1743,-401 1743,-401 1743,-441 1743,-441 1743,-447 1737,-453 1731,-453\"/>\n<text text-anchor=\"start\" x=\"1663\" y=\"-438.8\" font-family=\"Helvetica,sans-Serif\" font-size=\"14.00\" fill=\"#000000\">X</text>\n<text text-anchor=\"start\" x=\"1673\" y=\"-438.8\" font-family=\"Helvetica,sans-Serif\" baseline-shift=\"sub\" font-size=\"14.00\" fill=\"#000000\">9</text>\n<text text-anchor=\"start\" x=\"1680\" y=\"-438.8\" font-family=\"Helvetica,sans-Serif\" font-size=\"14.00\" fill=\"#000000\"> ≤ 1.7</text>\n<text text-anchor=\"start\" x=\"1651.5\" y=\"-424.8\" font-family=\"Helvetica,sans-Serif\" font-size=\"14.00\" fill=\"#000000\">gini = 0.034</text>\n<text text-anchor=\"start\" x=\"1645.5\" y=\"-410.8\" font-family=\"Helvetica,sans-Serif\" font-size=\"14.00\" fill=\"#000000\">samples = 58</text>\n<text text-anchor=\"start\" x=\"1644\" y=\"-396.8\" font-family=\"Helvetica,sans-Serif\" font-size=\"14.00\" fill=\"#000000\">value = [1, 57]</text>\n</g>\n<!-- 48&#45;&gt;52 -->\n<g id=\"edge52\" class=\"edge\">\n<title>48&#45;&gt;52</title>\n<path fill=\"none\" stroke=\"#000000\" d=\"M1588.4647,-488.8089C1602.6879,-479.2632 1618.3953,-468.7213 1633.1011,-458.8516\"/>\n<polygon fill=\"#000000\" stroke=\"#000000\" points=\"1635.2723,-461.6097 1641.6252,-453.1308 1631.3714,-455.7973 1635.2723,-461.6097\"/>\n</g>\n<!-- 50 -->\n<g id=\"node51\" class=\"node\">\n<title>50</title>\n<path fill=\"#399de5\" stroke=\"#000000\" d=\"M1548,-347.5C1548,-347.5 1473,-347.5 1473,-347.5 1467,-347.5 1461,-341.5 1461,-335.5 1461,-335.5 1461,-306.5 1461,-306.5 1461,-300.5 1467,-294.5 1473,-294.5 1473,-294.5 1548,-294.5 1548,-294.5 1554,-294.5 1560,-300.5 1560,-306.5 1560,-306.5 1560,-335.5 1560,-335.5 1560,-341.5 1554,-347.5 1548,-347.5\"/>\n<text text-anchor=\"start\" x=\"1481\" y=\"-332.3\" font-family=\"Helvetica,sans-Serif\" font-size=\"14.00\" fill=\"#000000\">gini = 0.0</text>\n<text text-anchor=\"start\" x=\"1471\" y=\"-317.3\" font-family=\"Helvetica,sans-Serif\" font-size=\"14.00\" fill=\"#000000\">samples = 1</text>\n<text text-anchor=\"start\" x=\"1469\" y=\"-302.3\" font-family=\"Helvetica,sans-Serif\" font-size=\"14.00\" fill=\"#000000\">value = [0, 1]</text>\n</g>\n<!-- 49&#45;&gt;50 -->\n<g id=\"edge50\" class=\"edge\">\n<title>49&#45;&gt;50</title>\n<path fill=\"none\" stroke=\"#000000\" d=\"M1530.8427,-388.8089C1527.8623,-378.8742 1524.5581,-367.8605 1521.4946,-357.6485\"/>\n<polygon fill=\"#000000\" stroke=\"#000000\" points=\"1524.758,-356.346 1518.5321,-347.7735 1518.0532,-358.3575 1524.758,-356.346\"/>\n</g>\n<!-- 51 -->\n<g id=\"node52\" class=\"node\">\n<title>51</title>\n<path fill=\"#e58139\" stroke=\"#000000\" d=\"M1665,-347.5C1665,-347.5 1590,-347.5 1590,-347.5 1584,-347.5 1578,-341.5 1578,-335.5 1578,-335.5 1578,-306.5 1578,-306.5 1578,-300.5 1584,-294.5 1590,-294.5 1590,-294.5 1665,-294.5 1665,-294.5 1671,-294.5 1677,-300.5 1677,-306.5 1677,-306.5 1677,-335.5 1677,-335.5 1677,-341.5 1671,-347.5 1665,-347.5\"/>\n<text text-anchor=\"start\" x=\"1598\" y=\"-332.3\" font-family=\"Helvetica,sans-Serif\" font-size=\"14.00\" fill=\"#000000\">gini = 0.0</text>\n<text text-anchor=\"start\" x=\"1588\" y=\"-317.3\" font-family=\"Helvetica,sans-Serif\" font-size=\"14.00\" fill=\"#000000\">samples = 1</text>\n<text text-anchor=\"start\" x=\"1586\" y=\"-302.3\" font-family=\"Helvetica,sans-Serif\" font-size=\"14.00\" fill=\"#000000\">value = [1, 0]</text>\n</g>\n<!-- 49&#45;&gt;51 -->\n<g id=\"edge51\" class=\"edge\">\n<title>49&#45;&gt;51</title>\n<path fill=\"none\" stroke=\"#000000\" d=\"M1568.5062,-388.8089C1577.7797,-378.1498 1588.1337,-366.2486 1597.5475,-355.4282\"/>\n<polygon fill=\"#000000\" stroke=\"#000000\" points=\"1600.2839,-357.6153 1604.207,-347.7735 1595.0028,-353.0207 1600.2839,-357.6153\"/>\n</g>\n<!-- 53 -->\n<g id=\"node54\" class=\"node\">\n<title>53</title>\n<path fill=\"#399de5\" stroke=\"#000000\" d=\"M1790,-347.5C1790,-347.5 1707,-347.5 1707,-347.5 1701,-347.5 1695,-341.5 1695,-335.5 1695,-335.5 1695,-306.5 1695,-306.5 1695,-300.5 1701,-294.5 1707,-294.5 1707,-294.5 1790,-294.5 1790,-294.5 1796,-294.5 1802,-300.5 1802,-306.5 1802,-306.5 1802,-335.5 1802,-335.5 1802,-341.5 1796,-347.5 1790,-347.5\"/>\n<text text-anchor=\"start\" x=\"1719\" y=\"-332.3\" font-family=\"Helvetica,sans-Serif\" font-size=\"14.00\" fill=\"#000000\">gini = 0.0</text>\n<text text-anchor=\"start\" x=\"1704.5\" y=\"-317.3\" font-family=\"Helvetica,sans-Serif\" font-size=\"14.00\" fill=\"#000000\">samples = 55</text>\n<text text-anchor=\"start\" x=\"1703\" y=\"-302.3\" font-family=\"Helvetica,sans-Serif\" font-size=\"14.00\" fill=\"#000000\">value = [0, 55]</text>\n</g>\n<!-- 52&#45;&gt;53 -->\n<g id=\"edge53\" class=\"edge\">\n<title>52&#45;&gt;53</title>\n<path fill=\"none\" stroke=\"#000000\" d=\"M1708.4927,-388.8089C1714.5374,-378.5638 1721.2591,-367.1711 1727.4408,-356.6936\"/>\n<polygon fill=\"#000000\" stroke=\"#000000\" points=\"1730.6365,-358.1648 1732.7036,-347.7735 1724.6076,-354.6077 1730.6365,-358.1648\"/>\n</g>\n<!-- 54 -->\n<g id=\"node55\" class=\"node\">\n<title>54</title>\n<path fill=\"#9ccef2\" stroke=\"#000000\" d=\"M1907,-353C1907,-353 1832,-353 1832,-353 1826,-353 1820,-347 1820,-341 1820,-341 1820,-301 1820,-301 1820,-295 1826,-289 1832,-289 1832,-289 1907,-289 1907,-289 1913,-289 1919,-295 1919,-301 1919,-301 1919,-341 1919,-341 1919,-347 1913,-353 1907,-353\"/>\n<text text-anchor=\"start\" x=\"1839\" y=\"-338.8\" font-family=\"Helvetica,sans-Serif\" font-size=\"14.00\" fill=\"#000000\">X</text>\n<text text-anchor=\"start\" x=\"1849\" y=\"-338.8\" font-family=\"Helvetica,sans-Serif\" baseline-shift=\"sub\" font-size=\"14.00\" fill=\"#000000\">0</text>\n<text text-anchor=\"start\" x=\"1856\" y=\"-338.8\" font-family=\"Helvetica,sans-Serif\" font-size=\"14.00\" fill=\"#000000\"> ≤ 57.0</text>\n<text text-anchor=\"start\" x=\"1831.5\" y=\"-324.8\" font-family=\"Helvetica,sans-Serif\" font-size=\"14.00\" fill=\"#000000\">gini = 0.444</text>\n<text text-anchor=\"start\" x=\"1830\" y=\"-310.8\" font-family=\"Helvetica,sans-Serif\" font-size=\"14.00\" fill=\"#000000\">samples = 3</text>\n<text text-anchor=\"start\" x=\"1828\" y=\"-296.8\" font-family=\"Helvetica,sans-Serif\" font-size=\"14.00\" fill=\"#000000\">value = [1, 2]</text>\n</g>\n<!-- 52&#45;&gt;54 -->\n<g id=\"edge54\" class=\"edge\">\n<title>52&#45;&gt;54</title>\n<path fill=\"none\" stroke=\"#000000\" d=\"M1743.0186,-391.2675C1764.4229,-379.3762 1789.1409,-365.6439 1811.016,-353.4911\"/>\n<polygon fill=\"#000000\" stroke=\"#000000\" points=\"1812.8378,-356.4829 1819.8797,-348.5669 1809.4383,-350.3638 1812.8378,-356.4829\"/>\n</g>\n<!-- 55 -->\n<g id=\"node56\" class=\"node\">\n<title>55</title>\n<path fill=\"#399de5\" stroke=\"#000000\" d=\"M1848,-247.5C1848,-247.5 1773,-247.5 1773,-247.5 1767,-247.5 1761,-241.5 1761,-235.5 1761,-235.5 1761,-206.5 1761,-206.5 1761,-200.5 1767,-194.5 1773,-194.5 1773,-194.5 1848,-194.5 1848,-194.5 1854,-194.5 1860,-200.5 1860,-206.5 1860,-206.5 1860,-235.5 1860,-235.5 1860,-241.5 1854,-247.5 1848,-247.5\"/>\n<text text-anchor=\"start\" x=\"1781\" y=\"-232.3\" font-family=\"Helvetica,sans-Serif\" font-size=\"14.00\" fill=\"#000000\">gini = 0.0</text>\n<text text-anchor=\"start\" x=\"1771\" y=\"-217.3\" font-family=\"Helvetica,sans-Serif\" font-size=\"14.00\" fill=\"#000000\">samples = 2</text>\n<text text-anchor=\"start\" x=\"1769\" y=\"-202.3\" font-family=\"Helvetica,sans-Serif\" font-size=\"14.00\" fill=\"#000000\">value = [0, 2]</text>\n</g>\n<!-- 54&#45;&gt;55 -->\n<g id=\"edge55\" class=\"edge\">\n<title>54&#45;&gt;55</title>\n<path fill=\"none\" stroke=\"#000000\" d=\"M1850.5073,-288.8089C1844.4626,-278.5638 1837.7409,-267.1711 1831.5592,-256.6936\"/>\n<polygon fill=\"#000000\" stroke=\"#000000\" points=\"1834.3924,-254.6077 1826.2964,-247.7735 1828.3635,-258.1648 1834.3924,-254.6077\"/>\n</g>\n<!-- 56 -->\n<g id=\"node57\" class=\"node\">\n<title>56</title>\n<path fill=\"#e58139\" stroke=\"#000000\" d=\"M1965,-247.5C1965,-247.5 1890,-247.5 1890,-247.5 1884,-247.5 1878,-241.5 1878,-235.5 1878,-235.5 1878,-206.5 1878,-206.5 1878,-200.5 1884,-194.5 1890,-194.5 1890,-194.5 1965,-194.5 1965,-194.5 1971,-194.5 1977,-200.5 1977,-206.5 1977,-206.5 1977,-235.5 1977,-235.5 1977,-241.5 1971,-247.5 1965,-247.5\"/>\n<text text-anchor=\"start\" x=\"1898\" y=\"-232.3\" font-family=\"Helvetica,sans-Serif\" font-size=\"14.00\" fill=\"#000000\">gini = 0.0</text>\n<text text-anchor=\"start\" x=\"1888\" y=\"-217.3\" font-family=\"Helvetica,sans-Serif\" font-size=\"14.00\" fill=\"#000000\">samples = 1</text>\n<text text-anchor=\"start\" x=\"1886\" y=\"-202.3\" font-family=\"Helvetica,sans-Serif\" font-size=\"14.00\" fill=\"#000000\">value = [1, 0]</text>\n</g>\n<!-- 54&#45;&gt;56 -->\n<g id=\"edge56\" class=\"edge\">\n<title>54&#45;&gt;56</title>\n<path fill=\"none\" stroke=\"#000000\" d=\"M1888.1708,-288.8089C1894.113,-278.5638 1900.7208,-267.1711 1906.7977,-256.6936\"/>\n<polygon fill=\"#000000\" stroke=\"#000000\" points=\"1909.9817,-258.1799 1911.9714,-247.7735 1903.9265,-254.6678 1909.9817,-258.1799\"/>\n</g>\n<!-- 58 -->\n<g id=\"node59\" class=\"node\">\n<title>58</title>\n<path fill=\"#399de5\" stroke=\"#000000\" d=\"M1848,-447.5C1848,-447.5 1773,-447.5 1773,-447.5 1767,-447.5 1761,-441.5 1761,-435.5 1761,-435.5 1761,-406.5 1761,-406.5 1761,-400.5 1767,-394.5 1773,-394.5 1773,-394.5 1848,-394.5 1848,-394.5 1854,-394.5 1860,-400.5 1860,-406.5 1860,-406.5 1860,-435.5 1860,-435.5 1860,-441.5 1854,-447.5 1848,-447.5\"/>\n<text text-anchor=\"start\" x=\"1781\" y=\"-432.3\" font-family=\"Helvetica,sans-Serif\" font-size=\"14.00\" fill=\"#000000\">gini = 0.0</text>\n<text text-anchor=\"start\" x=\"1771\" y=\"-417.3\" font-family=\"Helvetica,sans-Serif\" font-size=\"14.00\" fill=\"#000000\">samples = 4</text>\n<text text-anchor=\"start\" x=\"1769\" y=\"-402.3\" font-family=\"Helvetica,sans-Serif\" font-size=\"14.00\" fill=\"#000000\">value = [0, 4]</text>\n</g>\n<!-- 57&#45;&gt;58 -->\n<g id=\"edge58\" class=\"edge\">\n<title>57&#45;&gt;58</title>\n<path fill=\"none\" stroke=\"#000000\" d=\"M1810.5,-488.8089C1810.5,-478.9777 1810.5,-468.0898 1810.5,-457.9679\"/>\n<polygon fill=\"#000000\" stroke=\"#000000\" points=\"1814.0001,-457.7735 1810.5,-447.7735 1807.0001,-457.7736 1814.0001,-457.7735\"/>\n</g>\n<!-- 59 -->\n<g id=\"node60\" class=\"node\">\n<title>59</title>\n<path fill=\"#e58139\" stroke=\"#000000\" d=\"M1965,-447.5C1965,-447.5 1890,-447.5 1890,-447.5 1884,-447.5 1878,-441.5 1878,-435.5 1878,-435.5 1878,-406.5 1878,-406.5 1878,-400.5 1884,-394.5 1890,-394.5 1890,-394.5 1965,-394.5 1965,-394.5 1971,-394.5 1977,-400.5 1977,-406.5 1977,-406.5 1977,-435.5 1977,-435.5 1977,-441.5 1971,-447.5 1965,-447.5\"/>\n<text text-anchor=\"start\" x=\"1898\" y=\"-432.3\" font-family=\"Helvetica,sans-Serif\" font-size=\"14.00\" fill=\"#000000\">gini = 0.0</text>\n<text text-anchor=\"start\" x=\"1888\" y=\"-417.3\" font-family=\"Helvetica,sans-Serif\" font-size=\"14.00\" fill=\"#000000\">samples = 2</text>\n<text text-anchor=\"start\" x=\"1886\" y=\"-402.3\" font-family=\"Helvetica,sans-Serif\" font-size=\"14.00\" fill=\"#000000\">value = [2, 0]</text>\n</g>\n<!-- 57&#45;&gt;59 -->\n<g id=\"edge59\" class=\"edge\">\n<title>57&#45;&gt;59</title>\n<path fill=\"none\" stroke=\"#000000\" d=\"M1848.1636,-488.8089C1860.998,-477.8393 1875.3715,-465.5543 1888.3219,-454.4855\"/>\n<polygon fill=\"#000000\" stroke=\"#000000\" points=\"1890.8473,-456.9314 1896.175,-447.7735 1886.2992,-451.6101 1890.8473,-456.9314\"/>\n</g>\n<!-- 61 -->\n<g id=\"node62\" class=\"node\">\n<title>61</title>\n<path fill=\"#399de5\" stroke=\"#000000\" d=\"M1617,-647.5C1617,-647.5 1542,-647.5 1542,-647.5 1536,-647.5 1530,-641.5 1530,-635.5 1530,-635.5 1530,-606.5 1530,-606.5 1530,-600.5 1536,-594.5 1542,-594.5 1542,-594.5 1617,-594.5 1617,-594.5 1623,-594.5 1629,-600.5 1629,-606.5 1629,-606.5 1629,-635.5 1629,-635.5 1629,-641.5 1623,-647.5 1617,-647.5\"/>\n<text text-anchor=\"start\" x=\"1550\" y=\"-632.3\" font-family=\"Helvetica,sans-Serif\" font-size=\"14.00\" fill=\"#000000\">gini = 0.0</text>\n<text text-anchor=\"start\" x=\"1540\" y=\"-617.3\" font-family=\"Helvetica,sans-Serif\" font-size=\"14.00\" fill=\"#000000\">samples = 3</text>\n<text text-anchor=\"start\" x=\"1538\" y=\"-602.3\" font-family=\"Helvetica,sans-Serif\" font-size=\"14.00\" fill=\"#000000\">value = [0, 3]</text>\n</g>\n<!-- 60&#45;&gt;61 -->\n<g id=\"edge61\" class=\"edge\">\n<title>60&#45;&gt;61</title>\n<path fill=\"none\" stroke=\"#000000\" d=\"M1579.5,-688.8089C1579.5,-678.9777 1579.5,-668.0898 1579.5,-657.9679\"/>\n<polygon fill=\"#000000\" stroke=\"#000000\" points=\"1583.0001,-657.7735 1579.5,-647.7735 1576.0001,-657.7736 1583.0001,-657.7735\"/>\n</g>\n<!-- 62 -->\n<g id=\"node63\" class=\"node\">\n<title>62</title>\n<path fill=\"#e58139\" stroke=\"#000000\" d=\"M1734,-647.5C1734,-647.5 1659,-647.5 1659,-647.5 1653,-647.5 1647,-641.5 1647,-635.5 1647,-635.5 1647,-606.5 1647,-606.5 1647,-600.5 1653,-594.5 1659,-594.5 1659,-594.5 1734,-594.5 1734,-594.5 1740,-594.5 1746,-600.5 1746,-606.5 1746,-606.5 1746,-635.5 1746,-635.5 1746,-641.5 1740,-647.5 1734,-647.5\"/>\n<text text-anchor=\"start\" x=\"1667\" y=\"-632.3\" font-family=\"Helvetica,sans-Serif\" font-size=\"14.00\" fill=\"#000000\">gini = 0.0</text>\n<text text-anchor=\"start\" x=\"1657\" y=\"-617.3\" font-family=\"Helvetica,sans-Serif\" font-size=\"14.00\" fill=\"#000000\">samples = 7</text>\n<text text-anchor=\"start\" x=\"1655\" y=\"-602.3\" font-family=\"Helvetica,sans-Serif\" font-size=\"14.00\" fill=\"#000000\">value = [7, 0]</text>\n</g>\n<!-- 60&#45;&gt;62 -->\n<g id=\"edge62\" class=\"edge\">\n<title>60&#45;&gt;62</title>\n<path fill=\"none\" stroke=\"#000000\" d=\"M1617.1636,-688.8089C1629.998,-677.8393 1644.3715,-665.5543 1657.3219,-654.4855\"/>\n<polygon fill=\"#000000\" stroke=\"#000000\" points=\"1659.8473,-656.9314 1665.175,-647.7735 1655.2992,-651.6101 1659.8473,-656.9314\"/>\n</g>\n</g>\n</svg>\n"
          },
          "metadata": {
            "tags": []
          },
          "execution_count": 148
        }
      ]
    },
    {
      "cell_type": "markdown",
      "metadata": {
        "id": "0WcljfZGl-Xg",
        "colab_type": "text"
      },
      "source": [
        "# **E) Random Forest**"
      ]
    },
    {
      "cell_type": "code",
      "metadata": {
        "id": "SB23f0f0mFmZ",
        "colab_type": "code",
        "colab": {}
      },
      "source": [
        "from sklearn.ensemble import RandomForestClassifier\n",
        "\n",
        "rf = RandomForestClassifier(max_depth = 10,n_estimators = 100)"
      ],
      "execution_count": 0,
      "outputs": []
    },
    {
      "cell_type": "code",
      "metadata": {
        "id": "edObCL2CnAn4",
        "colab_type": "code",
        "outputId": "ea005724-e618-445c-ff8f-e831405749cf",
        "colab": {
          "base_uri": "https://localhost:8080/",
          "height": 211
        }
      },
      "source": [
        "rf.fit(x_train,y_train)"
      ],
      "execution_count": 0,
      "outputs": [
        {
          "output_type": "stream",
          "text": [
            "/usr/local/lib/python3.6/dist-packages/ipykernel_launcher.py:1: DataConversionWarning: A column-vector y was passed when a 1d array was expected. Please change the shape of y to (n_samples,), for example using ravel().\n",
            "  \"\"\"Entry point for launching an IPython kernel.\n"
          ],
          "name": "stderr"
        },
        {
          "output_type": "execute_result",
          "data": {
            "text/plain": [
              "RandomForestClassifier(bootstrap=True, ccp_alpha=0.0, class_weight=None,\n",
              "                       criterion='gini', max_depth=10, max_features='auto',\n",
              "                       max_leaf_nodes=None, max_samples=None,\n",
              "                       min_impurity_decrease=0.0, min_impurity_split=None,\n",
              "                       min_samples_leaf=1, min_samples_split=2,\n",
              "                       min_weight_fraction_leaf=0.0, n_estimators=100,\n",
              "                       n_jobs=None, oob_score=False, random_state=None,\n",
              "                       verbose=0, warm_start=False)"
            ]
          },
          "metadata": {
            "tags": []
          },
          "execution_count": 150
        }
      ]
    },
    {
      "cell_type": "code",
      "metadata": {
        "id": "GnIyc-8EnM-b",
        "colab_type": "code",
        "colab": {}
      },
      "source": [
        "rf_y_pred = rf.predict(x_test)"
      ],
      "execution_count": 0,
      "outputs": []
    },
    {
      "cell_type": "code",
      "metadata": {
        "id": "NGYNYGiNnZE2",
        "colab_type": "code",
        "outputId": "1de71959-64fc-416f-9ec4-0394772de659",
        "colab": {
          "base_uri": "https://localhost:8080/",
          "height": 35
        }
      },
      "source": [
        "rf_accuracy  = accuracy_score(y_test,rf_y_pred)\n",
        "\n",
        "rf_accuracy"
      ],
      "execution_count": 0,
      "outputs": [
        {
          "output_type": "execute_result",
          "data": {
            "text/plain": [
              "0.8241758241758241"
            ]
          },
          "metadata": {
            "tags": []
          },
          "execution_count": 154
        }
      ]
    },
    {
      "cell_type": "code",
      "metadata": {
        "id": "Y-kflTE4nsye",
        "colab_type": "code",
        "outputId": "38b1609f-7735-451f-b4d7-2d958fbc38de",
        "colab": {
          "base_uri": "https://localhost:8080/",
          "height": 52
        }
      },
      "source": [
        "rf_cm = confusion_matrix(y_test,rf_y_pred)\n",
        "\n",
        "rf_cm"
      ],
      "execution_count": 0,
      "outputs": [
        {
          "output_type": "execute_result",
          "data": {
            "text/plain": [
              "array([[32, 12],\n",
              "       [ 4, 43]])"
            ]
          },
          "metadata": {
            "tags": []
          },
          "execution_count": 156
        }
      ]
    },
    {
      "cell_type": "code",
      "metadata": {
        "id": "EXDAwjGnoF4T",
        "colab_type": "code",
        "colab": {}
      },
      "source": [
        "estimator = rf.estimators_[5]\n",
        "dot_data_rf = tree.export_graphviz(estimator, out_file=None,filled=True, rounded=True,special_characters=True) \n",
        "\n",
        "rf_graph = graphviz.Source(dot_data_rf) "
      ],
      "execution_count": 0,
      "outputs": []
    },
    {
      "cell_type": "code",
      "metadata": {
        "id": "Q5jfvRrxqRjE",
        "colab_type": "code",
        "outputId": "ba3d01f1-dbfe-4d6a-a070-ba20bd95f159",
        "colab": {
          "base_uri": "https://localhost:8080/",
          "height": 1000
        }
      },
      "source": [
        "rf_graph"
      ],
      "execution_count": 0,
      "outputs": [
        {
          "output_type": "execute_result",
          "data": {
            "text/plain": [
              "<graphviz.files.Source at 0x7fc0984a6978>"
            ],
            "image/svg+xml": "<?xml version=\"1.0\" encoding=\"UTF-8\" standalone=\"no\"?>\n<!DOCTYPE svg PUBLIC \"-//W3C//DTD SVG 1.1//EN\"\n \"http://www.w3.org/Graphics/SVG/1.1/DTD/svg11.dtd\">\n<!-- Generated by graphviz version 2.40.1 (20161225.0304)\n -->\n<!-- Title: Tree Pages: 1 -->\n<svg width=\"1676pt\" height=\"761pt\"\n viewBox=\"0.00 0.00 1676.00 761.00\" xmlns=\"http://www.w3.org/2000/svg\" xmlns:xlink=\"http://www.w3.org/1999/xlink\">\n<g id=\"graph0\" class=\"graph\" transform=\"scale(1 1) rotate(0) translate(4 757)\">\n<title>Tree</title>\n<polygon fill=\"#ffffff\" stroke=\"transparent\" points=\"-4,4 -4,-757 1672,-757 1672,4 -4,4\"/>\n<!-- 0 -->\n<g id=\"node1\" class=\"node\">\n<title>0</title>\n<path fill=\"#c3e1f7\" stroke=\"#000000\" d=\"M950.5,-753C950.5,-753 850.5,-753 850.5,-753 844.5,-753 838.5,-747 838.5,-741 838.5,-741 838.5,-701 838.5,-701 838.5,-695 844.5,-689 850.5,-689 850.5,-689 950.5,-689 950.5,-689 956.5,-689 962.5,-695 962.5,-701 962.5,-701 962.5,-741 962.5,-741 962.5,-747 956.5,-753 950.5,-753\"/>\n<text text-anchor=\"start\" x=\"870.5\" y=\"-738.8\" font-family=\"Helvetica,sans-Serif\" font-size=\"14.00\" fill=\"#000000\">X</text>\n<text text-anchor=\"start\" x=\"880.5\" y=\"-738.8\" font-family=\"Helvetica,sans-Serif\" baseline-shift=\"sub\" font-size=\"14.00\" fill=\"#000000\">11</text>\n<text text-anchor=\"start\" x=\"894.5\" y=\"-738.8\" font-family=\"Helvetica,sans-Serif\" font-size=\"14.00\" fill=\"#000000\"> ≤ 0.5</text>\n<text text-anchor=\"start\" x=\"862.5\" y=\"-724.8\" font-family=\"Helvetica,sans-Serif\" font-size=\"14.00\" fill=\"#000000\">gini = 0.484</text>\n<text text-anchor=\"start\" x=\"852.5\" y=\"-710.8\" font-family=\"Helvetica,sans-Serif\" font-size=\"14.00\" fill=\"#000000\">samples = 131</text>\n<text text-anchor=\"start\" x=\"846.5\" y=\"-696.8\" font-family=\"Helvetica,sans-Serif\" font-size=\"14.00\" fill=\"#000000\">value = [87, 125]</text>\n</g>\n<!-- 1 -->\n<g id=\"node2\" class=\"node\">\n<title>1</title>\n<path fill=\"#7abded\" stroke=\"#000000\" d=\"M764.5,-653C764.5,-653 672.5,-653 672.5,-653 666.5,-653 660.5,-647 660.5,-641 660.5,-641 660.5,-601 660.5,-601 660.5,-595 666.5,-589 672.5,-589 672.5,-589 764.5,-589 764.5,-589 770.5,-589 776.5,-595 776.5,-601 776.5,-601 776.5,-641 776.5,-641 776.5,-647 770.5,-653 764.5,-653\"/>\n<text text-anchor=\"start\" x=\"692\" y=\"-638.8\" font-family=\"Helvetica,sans-Serif\" font-size=\"14.00\" fill=\"#000000\">X</text>\n<text text-anchor=\"start\" x=\"702\" y=\"-638.8\" font-family=\"Helvetica,sans-Serif\" baseline-shift=\"sub\" font-size=\"14.00\" fill=\"#000000\">8</text>\n<text text-anchor=\"start\" x=\"709\" y=\"-638.8\" font-family=\"Helvetica,sans-Serif\" font-size=\"14.00\" fill=\"#000000\"> ≤ 0.5</text>\n<text text-anchor=\"start\" x=\"680.5\" y=\"-624.8\" font-family=\"Helvetica,sans-Serif\" font-size=\"14.00\" fill=\"#000000\">gini = 0.371</text>\n<text text-anchor=\"start\" x=\"674.5\" y=\"-610.8\" font-family=\"Helvetica,sans-Serif\" font-size=\"14.00\" fill=\"#000000\">samples = 76</text>\n<text text-anchor=\"start\" x=\"668.5\" y=\"-596.8\" font-family=\"Helvetica,sans-Serif\" font-size=\"14.00\" fill=\"#000000\">value = [31, 95]</text>\n</g>\n<!-- 0&#45;&gt;1 -->\n<g id=\"edge1\" class=\"edge\">\n<title>0&#45;&gt;1</title>\n<path fill=\"none\" stroke=\"#000000\" d=\"M842.1631,-688.9467C824.114,-679.0297 804.0883,-668.0265 785.5012,-657.8138\"/>\n<polygon fill=\"#000000\" stroke=\"#000000\" points=\"786.9567,-654.6201 776.5071,-652.872 783.5859,-660.755 786.9567,-654.6201\"/>\n<text text-anchor=\"middle\" x=\"783.4875\" y=\"-673.1777\" font-family=\"Helvetica,sans-Serif\" font-size=\"14.00\" fill=\"#000000\">True</text>\n</g>\n<!-- 34 -->\n<g id=\"node35\" class=\"node\">\n<title>34</title>\n<path fill=\"#f3c4a3\" stroke=\"#000000\" d=\"M1098.5,-653C1098.5,-653 1006.5,-653 1006.5,-653 1000.5,-653 994.5,-647 994.5,-641 994.5,-641 994.5,-601 994.5,-601 994.5,-595 1000.5,-589 1006.5,-589 1006.5,-589 1098.5,-589 1098.5,-589 1104.5,-589 1110.5,-595 1110.5,-601 1110.5,-601 1110.5,-641 1110.5,-641 1110.5,-647 1104.5,-653 1098.5,-653\"/>\n<text text-anchor=\"start\" x=\"1026\" y=\"-638.8\" font-family=\"Helvetica,sans-Serif\" font-size=\"14.00\" fill=\"#000000\">X</text>\n<text text-anchor=\"start\" x=\"1036\" y=\"-638.8\" font-family=\"Helvetica,sans-Serif\" baseline-shift=\"sub\" font-size=\"14.00\" fill=\"#000000\">2</text>\n<text text-anchor=\"start\" x=\"1043\" y=\"-638.8\" font-family=\"Helvetica,sans-Serif\" font-size=\"14.00\" fill=\"#000000\"> ≤ 0.5</text>\n<text text-anchor=\"start\" x=\"1014.5\" y=\"-624.8\" font-family=\"Helvetica,sans-Serif\" font-size=\"14.00\" fill=\"#000000\">gini = 0.454</text>\n<text text-anchor=\"start\" x=\"1008.5\" y=\"-610.8\" font-family=\"Helvetica,sans-Serif\" font-size=\"14.00\" fill=\"#000000\">samples = 55</text>\n<text text-anchor=\"start\" x=\"1002.5\" y=\"-596.8\" font-family=\"Helvetica,sans-Serif\" font-size=\"14.00\" fill=\"#000000\">value = [56, 30]</text>\n</g>\n<!-- 0&#45;&gt;34 -->\n<g id=\"edge34\" class=\"edge\">\n<title>0&#45;&gt;34</title>\n<path fill=\"none\" stroke=\"#000000\" d=\"M949.4304,-688.8089C963.94,-679.2632 979.9637,-668.7213 994.9656,-658.8516\"/>\n<polygon fill=\"#000000\" stroke=\"#000000\" points=\"997.2307,-661.5509 1003.6612,-653.1308 993.3834,-655.703 997.2307,-661.5509\"/>\n<text text-anchor=\"middle\" x=\"998.609\" y=\"-673.9149\" font-family=\"Helvetica,sans-Serif\" font-size=\"14.00\" fill=\"#000000\">False</text>\n</g>\n<!-- 2 -->\n<g id=\"node3\" class=\"node\">\n<title>2</title>\n<path fill=\"#50a8e8\" stroke=\"#000000\" d=\"M406,-553C406,-553 323,-553 323,-553 317,-553 311,-547 311,-541 311,-541 311,-501 311,-501 311,-495 317,-489 323,-489 323,-489 406,-489 406,-489 412,-489 418,-495 418,-501 418,-501 418,-541 418,-541 418,-547 412,-553 406,-553\"/>\n<text text-anchor=\"start\" x=\"330\" y=\"-538.8\" font-family=\"Helvetica,sans-Serif\" font-size=\"14.00\" fill=\"#000000\">X</text>\n<text text-anchor=\"start\" x=\"340\" y=\"-538.8\" font-family=\"Helvetica,sans-Serif\" baseline-shift=\"sub\" font-size=\"14.00\" fill=\"#000000\">4</text>\n<text text-anchor=\"start\" x=\"347\" y=\"-538.8\" font-family=\"Helvetica,sans-Serif\" font-size=\"14.00\" fill=\"#000000\"> ≤ 271.0</text>\n<text text-anchor=\"start\" x=\"326.5\" y=\"-524.8\" font-family=\"Helvetica,sans-Serif\" font-size=\"14.00\" fill=\"#000000\">gini = 0.184</text>\n<text text-anchor=\"start\" x=\"320.5\" y=\"-510.8\" font-family=\"Helvetica,sans-Serif\" font-size=\"14.00\" fill=\"#000000\">samples = 54</text>\n<text text-anchor=\"start\" x=\"319\" y=\"-496.8\" font-family=\"Helvetica,sans-Serif\" font-size=\"14.00\" fill=\"#000000\">value = [9, 79]</text>\n</g>\n<!-- 1&#45;&gt;2 -->\n<g id=\"edge2\" class=\"edge\">\n<title>1&#45;&gt;2</title>\n<path fill=\"none\" stroke=\"#000000\" d=\"M660.4405,-604.599C596.5394,-586.5479 494.1436,-557.6225 428.1108,-538.9691\"/>\n<polygon fill=\"#000000\" stroke=\"#000000\" points=\"428.8139,-535.5309 418.2391,-536.1805 426.911,-542.2673 428.8139,-535.5309\"/>\n</g>\n<!-- 19 -->\n<g id=\"node20\" class=\"node\">\n<title>19</title>\n<path fill=\"#f8ddc9\" stroke=\"#000000\" d=\"M764.5,-553C764.5,-553 672.5,-553 672.5,-553 666.5,-553 660.5,-547 660.5,-541 660.5,-541 660.5,-501 660.5,-501 660.5,-495 666.5,-489 672.5,-489 672.5,-489 764.5,-489 764.5,-489 770.5,-489 776.5,-495 776.5,-501 776.5,-501 776.5,-541 776.5,-541 776.5,-547 770.5,-553 764.5,-553\"/>\n<text text-anchor=\"start\" x=\"692\" y=\"-538.8\" font-family=\"Helvetica,sans-Serif\" font-size=\"14.00\" fill=\"#000000\">X</text>\n<text text-anchor=\"start\" x=\"702\" y=\"-538.8\" font-family=\"Helvetica,sans-Serif\" baseline-shift=\"sub\" font-size=\"14.00\" fill=\"#000000\">1</text>\n<text text-anchor=\"start\" x=\"709\" y=\"-538.8\" font-family=\"Helvetica,sans-Serif\" font-size=\"14.00\" fill=\"#000000\"> ≤ 0.5</text>\n<text text-anchor=\"start\" x=\"680.5\" y=\"-524.8\" font-family=\"Helvetica,sans-Serif\" font-size=\"14.00\" fill=\"#000000\">gini = 0.488</text>\n<text text-anchor=\"start\" x=\"674.5\" y=\"-510.8\" font-family=\"Helvetica,sans-Serif\" font-size=\"14.00\" fill=\"#000000\">samples = 22</text>\n<text text-anchor=\"start\" x=\"668.5\" y=\"-496.8\" font-family=\"Helvetica,sans-Serif\" font-size=\"14.00\" fill=\"#000000\">value = [22, 16]</text>\n</g>\n<!-- 1&#45;&gt;19 -->\n<g id=\"edge19\" class=\"edge\">\n<title>1&#45;&gt;19</title>\n<path fill=\"none\" stroke=\"#000000\" d=\"M718.5,-588.8089C718.5,-580.6906 718.5,-571.8517 718.5,-563.3186\"/>\n<polygon fill=\"#000000\" stroke=\"#000000\" points=\"722.0001,-563.1307 718.5,-553.1308 715.0001,-563.1308 722.0001,-563.1307\"/>\n</g>\n<!-- 3 -->\n<g id=\"node4\" class=\"node\">\n<title>3</title>\n<path fill=\"#42a2e6\" stroke=\"#000000\" d=\"M220,-453C220,-453 137,-453 137,-453 131,-453 125,-447 125,-441 125,-441 125,-401 125,-401 125,-395 131,-389 137,-389 137,-389 220,-389 220,-389 226,-389 232,-395 232,-401 232,-401 232,-441 232,-441 232,-447 226,-453 220,-453\"/>\n<text text-anchor=\"start\" x=\"144\" y=\"-438.8\" font-family=\"Helvetica,sans-Serif\" font-size=\"14.00\" fill=\"#000000\">X</text>\n<text text-anchor=\"start\" x=\"154\" y=\"-438.8\" font-family=\"Helvetica,sans-Serif\" baseline-shift=\"sub\" font-size=\"14.00\" fill=\"#000000\">4</text>\n<text text-anchor=\"start\" x=\"161\" y=\"-438.8\" font-family=\"Helvetica,sans-Serif\" font-size=\"14.00\" fill=\"#000000\"> ≤ 222.5</text>\n<text text-anchor=\"start\" x=\"140.5\" y=\"-424.8\" font-family=\"Helvetica,sans-Serif\" font-size=\"14.00\" fill=\"#000000\">gini = 0.086</text>\n<text text-anchor=\"start\" x=\"134.5\" y=\"-410.8\" font-family=\"Helvetica,sans-Serif\" font-size=\"14.00\" fill=\"#000000\">samples = 40</text>\n<text text-anchor=\"start\" x=\"133\" y=\"-396.8\" font-family=\"Helvetica,sans-Serif\" font-size=\"14.00\" fill=\"#000000\">value = [3, 64]</text>\n</g>\n<!-- 2&#45;&gt;3 -->\n<g id=\"edge3\" class=\"edge\">\n<title>2&#45;&gt;3</title>\n<path fill=\"none\" stroke=\"#000000\" d=\"M310.7011,-492.0759C288.916,-480.3635 263.6182,-466.7625 241.02,-454.6129\"/>\n<polygon fill=\"#000000\" stroke=\"#000000\" points=\"242.6431,-451.5118 232.178,-449.8591 239.3284,-457.6773 242.6431,-451.5118\"/>\n</g>\n<!-- 12 -->\n<g id=\"node13\" class=\"node\">\n<title>12</title>\n<path fill=\"#88c4ef\" stroke=\"#000000\" d=\"M406,-453C406,-453 323,-453 323,-453 317,-453 311,-447 311,-441 311,-441 311,-401 311,-401 311,-395 317,-389 323,-389 323,-389 406,-389 406,-389 412,-389 418,-395 418,-401 418,-401 418,-441 418,-441 418,-447 412,-453 406,-453\"/>\n<text text-anchor=\"start\" x=\"334\" y=\"-438.8\" font-family=\"Helvetica,sans-Serif\" font-size=\"14.00\" fill=\"#000000\">X</text>\n<text text-anchor=\"start\" x=\"344\" y=\"-438.8\" font-family=\"Helvetica,sans-Serif\" baseline-shift=\"sub\" font-size=\"14.00\" fill=\"#000000\">0</text>\n<text text-anchor=\"start\" x=\"351\" y=\"-438.8\" font-family=\"Helvetica,sans-Serif\" font-size=\"14.00\" fill=\"#000000\"> ≤ 57.0</text>\n<text text-anchor=\"start\" x=\"326.5\" y=\"-424.8\" font-family=\"Helvetica,sans-Serif\" font-size=\"14.00\" fill=\"#000000\">gini = 0.408</text>\n<text text-anchor=\"start\" x=\"320.5\" y=\"-410.8\" font-family=\"Helvetica,sans-Serif\" font-size=\"14.00\" fill=\"#000000\">samples = 14</text>\n<text text-anchor=\"start\" x=\"319\" y=\"-396.8\" font-family=\"Helvetica,sans-Serif\" font-size=\"14.00\" fill=\"#000000\">value = [6, 15]</text>\n</g>\n<!-- 2&#45;&gt;12 -->\n<g id=\"edge12\" class=\"edge\">\n<title>2&#45;&gt;12</title>\n<path fill=\"none\" stroke=\"#000000\" d=\"M364.5,-488.8089C364.5,-480.6906 364.5,-471.8517 364.5,-463.3186\"/>\n<polygon fill=\"#000000\" stroke=\"#000000\" points=\"368.0001,-463.1307 364.5,-453.1308 361.0001,-463.1308 368.0001,-463.1307\"/>\n</g>\n<!-- 4 -->\n<g id=\"node5\" class=\"node\">\n<title>4</title>\n<path fill=\"#399de5\" stroke=\"#000000\" d=\"M95,-347.5C95,-347.5 12,-347.5 12,-347.5 6,-347.5 0,-341.5 0,-335.5 0,-335.5 0,-306.5 0,-306.5 0,-300.5 6,-294.5 12,-294.5 12,-294.5 95,-294.5 95,-294.5 101,-294.5 107,-300.5 107,-306.5 107,-306.5 107,-335.5 107,-335.5 107,-341.5 101,-347.5 95,-347.5\"/>\n<text text-anchor=\"start\" x=\"24\" y=\"-332.3\" font-family=\"Helvetica,sans-Serif\" font-size=\"14.00\" fill=\"#000000\">gini = 0.0</text>\n<text text-anchor=\"start\" x=\"9.5\" y=\"-317.3\" font-family=\"Helvetica,sans-Serif\" font-size=\"14.00\" fill=\"#000000\">samples = 22</text>\n<text text-anchor=\"start\" x=\"8\" y=\"-302.3\" font-family=\"Helvetica,sans-Serif\" font-size=\"14.00\" fill=\"#000000\">value = [0, 35]</text>\n</g>\n<!-- 3&#45;&gt;4 -->\n<g id=\"edge4\" class=\"edge\">\n<title>3&#45;&gt;4</title>\n<path fill=\"none\" stroke=\"#000000\" d=\"M138.2612,-388.8089C124.4198,-377.7359 108.9029,-365.3223 94.9658,-354.1726\"/>\n<polygon fill=\"#000000\" stroke=\"#000000\" points=\"96.9621,-351.2875 86.9669,-347.7735 92.5892,-356.7536 96.9621,-351.2875\"/>\n</g>\n<!-- 5 -->\n<g id=\"node6\" class=\"node\">\n<title>5</title>\n<path fill=\"#4da7e8\" stroke=\"#000000\" d=\"M220,-353C220,-353 137,-353 137,-353 131,-353 125,-347 125,-341 125,-341 125,-301 125,-301 125,-295 131,-289 137,-289 137,-289 220,-289 220,-289 226,-289 232,-295 232,-301 232,-301 232,-341 232,-341 232,-347 226,-353 220,-353\"/>\n<text text-anchor=\"start\" x=\"144\" y=\"-338.8\" font-family=\"Helvetica,sans-Serif\" font-size=\"14.00\" fill=\"#000000\">X</text>\n<text text-anchor=\"start\" x=\"154\" y=\"-338.8\" font-family=\"Helvetica,sans-Serif\" baseline-shift=\"sub\" font-size=\"14.00\" fill=\"#000000\">7</text>\n<text text-anchor=\"start\" x=\"161\" y=\"-338.8\" font-family=\"Helvetica,sans-Serif\" font-size=\"14.00\" fill=\"#000000\"> ≤ 135.0</text>\n<text text-anchor=\"start\" x=\"145\" y=\"-324.8\" font-family=\"Helvetica,sans-Serif\" font-size=\"14.00\" fill=\"#000000\">gini = 0.17</text>\n<text text-anchor=\"start\" x=\"134.5\" y=\"-310.8\" font-family=\"Helvetica,sans-Serif\" font-size=\"14.00\" fill=\"#000000\">samples = 18</text>\n<text text-anchor=\"start\" x=\"133\" y=\"-296.8\" font-family=\"Helvetica,sans-Serif\" font-size=\"14.00\" fill=\"#000000\">value = [3, 29]</text>\n</g>\n<!-- 3&#45;&gt;5 -->\n<g id=\"edge5\" class=\"edge\">\n<title>3&#45;&gt;5</title>\n<path fill=\"none\" stroke=\"#000000\" d=\"M178.5,-388.8089C178.5,-380.6906 178.5,-371.8517 178.5,-363.3186\"/>\n<polygon fill=\"#000000\" stroke=\"#000000\" points=\"182.0001,-363.1307 178.5,-353.1308 175.0001,-363.1308 182.0001,-363.1307\"/>\n</g>\n<!-- 6 -->\n<g id=\"node7\" class=\"node\">\n<title>6</title>\n<path fill=\"#e58139\" stroke=\"#000000\" d=\"M97,-247.5C97,-247.5 22,-247.5 22,-247.5 16,-247.5 10,-241.5 10,-235.5 10,-235.5 10,-206.5 10,-206.5 10,-200.5 16,-194.5 22,-194.5 22,-194.5 97,-194.5 97,-194.5 103,-194.5 109,-200.5 109,-206.5 109,-206.5 109,-235.5 109,-235.5 109,-241.5 103,-247.5 97,-247.5\"/>\n<text text-anchor=\"start\" x=\"30\" y=\"-232.3\" font-family=\"Helvetica,sans-Serif\" font-size=\"14.00\" fill=\"#000000\">gini = 0.0</text>\n<text text-anchor=\"start\" x=\"20\" y=\"-217.3\" font-family=\"Helvetica,sans-Serif\" font-size=\"14.00\" fill=\"#000000\">samples = 1</text>\n<text text-anchor=\"start\" x=\"18\" y=\"-202.3\" font-family=\"Helvetica,sans-Serif\" font-size=\"14.00\" fill=\"#000000\">value = [1, 0]</text>\n</g>\n<!-- 5&#45;&gt;6 -->\n<g id=\"edge6\" class=\"edge\">\n<title>5&#45;&gt;6</title>\n<path fill=\"none\" stroke=\"#000000\" d=\"M140.1926,-288.8089C127.1388,-277.8393 112.5196,-265.5543 99.3478,-254.4855\"/>\n<polygon fill=\"#000000\" stroke=\"#000000\" points=\"101.268,-251.5275 91.3605,-247.7735 96.7646,-256.8865 101.268,-251.5275\"/>\n</g>\n<!-- 7 -->\n<g id=\"node8\" class=\"node\">\n<title>7</title>\n<path fill=\"#47a4e7\" stroke=\"#000000\" d=\"M222,-253C222,-253 139,-253 139,-253 133,-253 127,-247 127,-241 127,-241 127,-201 127,-201 127,-195 133,-189 139,-189 139,-189 222,-189 222,-189 228,-189 234,-195 234,-201 234,-201 234,-241 234,-241 234,-247 228,-253 222,-253\"/>\n<text text-anchor=\"start\" x=\"146\" y=\"-238.8\" font-family=\"Helvetica,sans-Serif\" font-size=\"14.00\" fill=\"#000000\">X</text>\n<text text-anchor=\"start\" x=\"156\" y=\"-238.8\" font-family=\"Helvetica,sans-Serif\" baseline-shift=\"sub\" font-size=\"14.00\" fill=\"#000000\">7</text>\n<text text-anchor=\"start\" x=\"163\" y=\"-238.8\" font-family=\"Helvetica,sans-Serif\" font-size=\"14.00\" fill=\"#000000\"> ≤ 167.5</text>\n<text text-anchor=\"start\" x=\"142.5\" y=\"-224.8\" font-family=\"Helvetica,sans-Serif\" font-size=\"14.00\" fill=\"#000000\">gini = 0.121</text>\n<text text-anchor=\"start\" x=\"136.5\" y=\"-210.8\" font-family=\"Helvetica,sans-Serif\" font-size=\"14.00\" fill=\"#000000\">samples = 17</text>\n<text text-anchor=\"start\" x=\"135\" y=\"-196.8\" font-family=\"Helvetica,sans-Serif\" font-size=\"14.00\" fill=\"#000000\">value = [2, 29]</text>\n</g>\n<!-- 5&#45;&gt;7 -->\n<g id=\"edge7\" class=\"edge\">\n<title>5&#45;&gt;7</title>\n<path fill=\"none\" stroke=\"#000000\" d=\"M179.1438,-288.8089C179.3062,-280.6906 179.483,-271.8517 179.6536,-263.3186\"/>\n<polygon fill=\"#000000\" stroke=\"#000000\" points=\"183.1566,-263.1988 179.8574,-253.1308 176.158,-263.0587 183.1566,-263.1988\"/>\n</g>\n<!-- 8 -->\n<g id=\"node9\" class=\"node\">\n<title>8</title>\n<path fill=\"#399de5\" stroke=\"#000000\" d=\"M98,-147.5C98,-147.5 15,-147.5 15,-147.5 9,-147.5 3,-141.5 3,-135.5 3,-135.5 3,-106.5 3,-106.5 3,-100.5 9,-94.5 15,-94.5 15,-94.5 98,-94.5 98,-94.5 104,-94.5 110,-100.5 110,-106.5 110,-106.5 110,-135.5 110,-135.5 110,-141.5 104,-147.5 98,-147.5\"/>\n<text text-anchor=\"start\" x=\"27\" y=\"-132.3\" font-family=\"Helvetica,sans-Serif\" font-size=\"14.00\" fill=\"#000000\">gini = 0.0</text>\n<text text-anchor=\"start\" x=\"17\" y=\"-117.3\" font-family=\"Helvetica,sans-Serif\" font-size=\"14.00\" fill=\"#000000\">samples = 8</text>\n<text text-anchor=\"start\" x=\"11\" y=\"-102.3\" font-family=\"Helvetica,sans-Serif\" font-size=\"14.00\" fill=\"#000000\">value = [0, 15]</text>\n</g>\n<!-- 7&#45;&gt;8 -->\n<g id=\"edge8\" class=\"edge\">\n<title>7&#45;&gt;8</title>\n<path fill=\"none\" stroke=\"#000000\" d=\"M140.5831,-188.8089C126.8525,-177.7359 111.4597,-165.3223 97.634,-154.1726\"/>\n<polygon fill=\"#000000\" stroke=\"#000000\" points=\"99.6805,-151.3266 89.6992,-147.7735 95.2862,-156.7755 99.6805,-151.3266\"/>\n</g>\n<!-- 9 -->\n<g id=\"node10\" class=\"node\">\n<title>9</title>\n<path fill=\"#55abe9\" stroke=\"#000000\" d=\"M223,-153C223,-153 140,-153 140,-153 134,-153 128,-147 128,-141 128,-141 128,-101 128,-101 128,-95 134,-89 140,-89 140,-89 223,-89 223,-89 229,-89 235,-95 235,-101 235,-101 235,-141 235,-141 235,-147 229,-153 223,-153\"/>\n<text text-anchor=\"start\" x=\"151.5\" y=\"-138.8\" font-family=\"Helvetica,sans-Serif\" font-size=\"14.00\" fill=\"#000000\">X</text>\n<text text-anchor=\"start\" x=\"161.5\" y=\"-138.8\" font-family=\"Helvetica,sans-Serif\" baseline-shift=\"sub\" font-size=\"14.00\" fill=\"#000000\">12</text>\n<text text-anchor=\"start\" x=\"175.5\" y=\"-138.8\" font-family=\"Helvetica,sans-Serif\" font-size=\"14.00\" fill=\"#000000\"> ≤ 2.5</text>\n<text text-anchor=\"start\" x=\"143.5\" y=\"-124.8\" font-family=\"Helvetica,sans-Serif\" font-size=\"14.00\" fill=\"#000000\">gini = 0.219</text>\n<text text-anchor=\"start\" x=\"142\" y=\"-110.8\" font-family=\"Helvetica,sans-Serif\" font-size=\"14.00\" fill=\"#000000\">samples = 9</text>\n<text text-anchor=\"start\" x=\"136\" y=\"-96.8\" font-family=\"Helvetica,sans-Serif\" font-size=\"14.00\" fill=\"#000000\">value = [2, 14]</text>\n</g>\n<!-- 7&#45;&gt;9 -->\n<g id=\"edge9\" class=\"edge\">\n<title>7&#45;&gt;9</title>\n<path fill=\"none\" stroke=\"#000000\" d=\"M180.8219,-188.8089C180.9031,-180.6906 180.9915,-171.8517 181.0768,-163.3186\"/>\n<polygon fill=\"#000000\" stroke=\"#000000\" points=\"184.5784,-163.1653 181.1787,-153.1308 177.5788,-163.0952 184.5784,-163.1653\"/>\n</g>\n<!-- 10 -->\n<g id=\"node11\" class=\"node\">\n<title>10</title>\n<path fill=\"#399de5\" stroke=\"#000000\" d=\"M162,-53C162,-53 79,-53 79,-53 73,-53 67,-47 67,-41 67,-41 67,-12 67,-12 67,-6 73,0 79,0 79,0 162,0 162,0 168,0 174,-6 174,-12 174,-12 174,-41 174,-41 174,-47 168,-53 162,-53\"/>\n<text text-anchor=\"start\" x=\"91\" y=\"-37.8\" font-family=\"Helvetica,sans-Serif\" font-size=\"14.00\" fill=\"#000000\">gini = 0.0</text>\n<text text-anchor=\"start\" x=\"81\" y=\"-22.8\" font-family=\"Helvetica,sans-Serif\" font-size=\"14.00\" fill=\"#000000\">samples = 7</text>\n<text text-anchor=\"start\" x=\"75\" y=\"-7.8\" font-family=\"Helvetica,sans-Serif\" font-size=\"14.00\" fill=\"#000000\">value = [0, 14]</text>\n</g>\n<!-- 9&#45;&gt;10 -->\n<g id=\"edge10\" class=\"edge\">\n<title>9&#45;&gt;10</title>\n<path fill=\"none\" stroke=\"#000000\" d=\"M160.6779,-88.7428C155.0866,-80.0809 149.0112,-70.669 143.3178,-61.849\"/>\n<polygon fill=\"#000000\" stroke=\"#000000\" points=\"146.1478,-59.7794 137.7839,-53.2759 140.2666,-63.5757 146.1478,-59.7794\"/>\n</g>\n<!-- 11 -->\n<g id=\"node12\" class=\"node\">\n<title>11</title>\n<path fill=\"#e58139\" stroke=\"#000000\" d=\"M279,-53C279,-53 204,-53 204,-53 198,-53 192,-47 192,-41 192,-41 192,-12 192,-12 192,-6 198,0 204,0 204,0 279,0 279,0 285,0 291,-6 291,-12 291,-12 291,-41 291,-41 291,-47 285,-53 279,-53\"/>\n<text text-anchor=\"start\" x=\"212\" y=\"-37.8\" font-family=\"Helvetica,sans-Serif\" font-size=\"14.00\" fill=\"#000000\">gini = 0.0</text>\n<text text-anchor=\"start\" x=\"202\" y=\"-22.8\" font-family=\"Helvetica,sans-Serif\" font-size=\"14.00\" fill=\"#000000\">samples = 2</text>\n<text text-anchor=\"start\" x=\"200\" y=\"-7.8\" font-family=\"Helvetica,sans-Serif\" font-size=\"14.00\" fill=\"#000000\">value = [2, 0]</text>\n</g>\n<!-- 9&#45;&gt;11 -->\n<g id=\"edge11\" class=\"edge\">\n<title>9&#45;&gt;11</title>\n<path fill=\"none\" stroke=\"#000000\" d=\"M201.9808,-88.7428C207.4804,-80.0809 213.4562,-70.669 219.0562,-61.849\"/>\n<polygon fill=\"#000000\" stroke=\"#000000\" points=\"222.0941,-63.5941 224.4995,-53.2759 216.1846,-59.842 222.0941,-63.5941\"/>\n</g>\n<!-- 13 -->\n<g id=\"node14\" class=\"node\">\n<title>13</title>\n<path fill=\"#399de5\" stroke=\"#000000\" d=\"M345,-347.5C345,-347.5 262,-347.5 262,-347.5 256,-347.5 250,-341.5 250,-335.5 250,-335.5 250,-306.5 250,-306.5 250,-300.5 256,-294.5 262,-294.5 262,-294.5 345,-294.5 345,-294.5 351,-294.5 357,-300.5 357,-306.5 357,-306.5 357,-335.5 357,-335.5 357,-341.5 351,-347.5 345,-347.5\"/>\n<text text-anchor=\"start\" x=\"274\" y=\"-332.3\" font-family=\"Helvetica,sans-Serif\" font-size=\"14.00\" fill=\"#000000\">gini = 0.0</text>\n<text text-anchor=\"start\" x=\"264\" y=\"-317.3\" font-family=\"Helvetica,sans-Serif\" font-size=\"14.00\" fill=\"#000000\">samples = 8</text>\n<text text-anchor=\"start\" x=\"258\" y=\"-302.3\" font-family=\"Helvetica,sans-Serif\" font-size=\"14.00\" fill=\"#000000\">value = [0, 11]</text>\n</g>\n<!-- 12&#45;&gt;13 -->\n<g id=\"edge13\" class=\"edge\">\n<title>12&#45;&gt;13</title>\n<path fill=\"none\" stroke=\"#000000\" d=\"M344.8634,-388.8089C338.5508,-378.4603 331.5239,-366.9408 325.0796,-356.3764\"/>\n<polygon fill=\"#000000\" stroke=\"#000000\" points=\"328.0275,-354.4879 319.8318,-347.7735 322.0515,-358.1332 328.0275,-354.4879\"/>\n</g>\n<!-- 14 -->\n<g id=\"node15\" class=\"node\">\n<title>14</title>\n<path fill=\"#f6d5bd\" stroke=\"#000000\" d=\"M462,-353C462,-353 387,-353 387,-353 381,-353 375,-347 375,-341 375,-341 375,-301 375,-301 375,-295 381,-289 387,-289 387,-289 462,-289 462,-289 468,-289 474,-295 474,-301 474,-301 474,-341 474,-341 474,-347 468,-353 462,-353\"/>\n<text text-anchor=\"start\" x=\"390\" y=\"-338.8\" font-family=\"Helvetica,sans-Serif\" font-size=\"14.00\" fill=\"#000000\">X</text>\n<text text-anchor=\"start\" x=\"400\" y=\"-338.8\" font-family=\"Helvetica,sans-Serif\" baseline-shift=\"sub\" font-size=\"14.00\" fill=\"#000000\">4</text>\n<text text-anchor=\"start\" x=\"407\" y=\"-338.8\" font-family=\"Helvetica,sans-Serif\" font-size=\"14.00\" fill=\"#000000\"> ≤ 337.5</text>\n<text text-anchor=\"start\" x=\"391\" y=\"-324.8\" font-family=\"Helvetica,sans-Serif\" font-size=\"14.00\" fill=\"#000000\">gini = 0.48</text>\n<text text-anchor=\"start\" x=\"385\" y=\"-310.8\" font-family=\"Helvetica,sans-Serif\" font-size=\"14.00\" fill=\"#000000\">samples = 6</text>\n<text text-anchor=\"start\" x=\"383\" y=\"-296.8\" font-family=\"Helvetica,sans-Serif\" font-size=\"14.00\" fill=\"#000000\">value = [6, 4]</text>\n</g>\n<!-- 12&#45;&gt;14 -->\n<g id=\"edge14\" class=\"edge\">\n<title>12&#45;&gt;14</title>\n<path fill=\"none\" stroke=\"#000000\" d=\"M383.8146,-388.8089C388.9533,-380.2445 394.5731,-370.8782 399.951,-361.915\"/>\n<polygon fill=\"#000000\" stroke=\"#000000\" points=\"403.0778,-363.5065 405.2215,-353.1308 397.0753,-359.905 403.0778,-363.5065\"/>\n</g>\n<!-- 15 -->\n<g id=\"node16\" class=\"node\">\n<title>15</title>\n<path fill=\"#e9965a\" stroke=\"#000000\" d=\"M345,-253C345,-253 270,-253 270,-253 264,-253 258,-247 258,-241 258,-241 258,-201 258,-201 258,-195 264,-189 270,-189 270,-189 345,-189 345,-189 351,-189 357,-195 357,-201 357,-201 357,-241 357,-241 357,-247 351,-253 345,-253\"/>\n<text text-anchor=\"start\" x=\"281\" y=\"-238.8\" font-family=\"Helvetica,sans-Serif\" font-size=\"14.00\" fill=\"#000000\">X</text>\n<text text-anchor=\"start\" x=\"291\" y=\"-238.8\" font-family=\"Helvetica,sans-Serif\" baseline-shift=\"sub\" font-size=\"14.00\" fill=\"#000000\">5</text>\n<text text-anchor=\"start\" x=\"298\" y=\"-238.8\" font-family=\"Helvetica,sans-Serif\" font-size=\"14.00\" fill=\"#000000\"> ≤ 0.5</text>\n<text text-anchor=\"start\" x=\"269.5\" y=\"-224.8\" font-family=\"Helvetica,sans-Serif\" font-size=\"14.00\" fill=\"#000000\">gini = 0.245</text>\n<text text-anchor=\"start\" x=\"268\" y=\"-210.8\" font-family=\"Helvetica,sans-Serif\" font-size=\"14.00\" fill=\"#000000\">samples = 4</text>\n<text text-anchor=\"start\" x=\"266\" y=\"-196.8\" font-family=\"Helvetica,sans-Serif\" font-size=\"14.00\" fill=\"#000000\">value = [6, 1]</text>\n</g>\n<!-- 14&#45;&gt;15 -->\n<g id=\"edge15\" class=\"edge\">\n<title>14&#45;&gt;15</title>\n<path fill=\"none\" stroke=\"#000000\" d=\"M386.8364,-288.8089C375.9811,-279.5308 364.0246,-269.3116 352.7595,-259.6833\"/>\n<polygon fill=\"#000000\" stroke=\"#000000\" points=\"354.9688,-256.9674 345.093,-253.1308 350.4207,-262.2886 354.9688,-256.9674\"/>\n</g>\n<!-- 18 -->\n<g id=\"node19\" class=\"node\">\n<title>18</title>\n<path fill=\"#399de5\" stroke=\"#000000\" d=\"M462,-247.5C462,-247.5 387,-247.5 387,-247.5 381,-247.5 375,-241.5 375,-235.5 375,-235.5 375,-206.5 375,-206.5 375,-200.5 381,-194.5 387,-194.5 387,-194.5 462,-194.5 462,-194.5 468,-194.5 474,-200.5 474,-206.5 474,-206.5 474,-235.5 474,-235.5 474,-241.5 468,-247.5 462,-247.5\"/>\n<text text-anchor=\"start\" x=\"395\" y=\"-232.3\" font-family=\"Helvetica,sans-Serif\" font-size=\"14.00\" fill=\"#000000\">gini = 0.0</text>\n<text text-anchor=\"start\" x=\"385\" y=\"-217.3\" font-family=\"Helvetica,sans-Serif\" font-size=\"14.00\" fill=\"#000000\">samples = 2</text>\n<text text-anchor=\"start\" x=\"383\" y=\"-202.3\" font-family=\"Helvetica,sans-Serif\" font-size=\"14.00\" fill=\"#000000\">value = [0, 3]</text>\n</g>\n<!-- 14&#45;&gt;18 -->\n<g id=\"edge18\" class=\"edge\">\n<title>14&#45;&gt;18</title>\n<path fill=\"none\" stroke=\"#000000\" d=\"M424.5,-288.8089C424.5,-278.9777 424.5,-268.0898 424.5,-257.9679\"/>\n<polygon fill=\"#000000\" stroke=\"#000000\" points=\"428.0001,-257.7735 424.5,-247.7735 421.0001,-257.7736 428.0001,-257.7735\"/>\n</g>\n<!-- 16 -->\n<g id=\"node17\" class=\"node\">\n<title>16</title>\n<path fill=\"#e58139\" stroke=\"#000000\" d=\"M344,-147.5C344,-147.5 269,-147.5 269,-147.5 263,-147.5 257,-141.5 257,-135.5 257,-135.5 257,-106.5 257,-106.5 257,-100.5 263,-94.5 269,-94.5 269,-94.5 344,-94.5 344,-94.5 350,-94.5 356,-100.5 356,-106.5 356,-106.5 356,-135.5 356,-135.5 356,-141.5 350,-147.5 344,-147.5\"/>\n<text text-anchor=\"start\" x=\"277\" y=\"-132.3\" font-family=\"Helvetica,sans-Serif\" font-size=\"14.00\" fill=\"#000000\">gini = 0.0</text>\n<text text-anchor=\"start\" x=\"267\" y=\"-117.3\" font-family=\"Helvetica,sans-Serif\" font-size=\"14.00\" fill=\"#000000\">samples = 3</text>\n<text text-anchor=\"start\" x=\"265\" y=\"-102.3\" font-family=\"Helvetica,sans-Serif\" font-size=\"14.00\" fill=\"#000000\">value = [6, 0]</text>\n</g>\n<!-- 15&#45;&gt;16 -->\n<g id=\"edge16\" class=\"edge\">\n<title>15&#45;&gt;16</title>\n<path fill=\"none\" stroke=\"#000000\" d=\"M307.1781,-188.8089C307.0798,-178.9777 306.9709,-168.0898 306.8697,-157.9679\"/>\n<polygon fill=\"#000000\" stroke=\"#000000\" points=\"310.3677,-157.738 306.7677,-147.7735 303.368,-157.8081 310.3677,-157.738\"/>\n</g>\n<!-- 17 -->\n<g id=\"node18\" class=\"node\">\n<title>17</title>\n<path fill=\"#399de5\" stroke=\"#000000\" d=\"M461,-147.5C461,-147.5 386,-147.5 386,-147.5 380,-147.5 374,-141.5 374,-135.5 374,-135.5 374,-106.5 374,-106.5 374,-100.5 380,-94.5 386,-94.5 386,-94.5 461,-94.5 461,-94.5 467,-94.5 473,-100.5 473,-106.5 473,-106.5 473,-135.5 473,-135.5 473,-141.5 467,-147.5 461,-147.5\"/>\n<text text-anchor=\"start\" x=\"394\" y=\"-132.3\" font-family=\"Helvetica,sans-Serif\" font-size=\"14.00\" fill=\"#000000\">gini = 0.0</text>\n<text text-anchor=\"start\" x=\"384\" y=\"-117.3\" font-family=\"Helvetica,sans-Serif\" font-size=\"14.00\" fill=\"#000000\">samples = 1</text>\n<text text-anchor=\"start\" x=\"382\" y=\"-102.3\" font-family=\"Helvetica,sans-Serif\" font-size=\"14.00\" fill=\"#000000\">value = [0, 1]</text>\n</g>\n<!-- 15&#45;&gt;17 -->\n<g id=\"edge17\" class=\"edge\">\n<title>15&#45;&gt;17</title>\n<path fill=\"none\" stroke=\"#000000\" d=\"M344.8416,-188.8089C357.5664,-177.8393 371.8171,-165.5543 384.6568,-154.4855\"/>\n<polygon fill=\"#000000\" stroke=\"#000000\" points=\"387.1539,-156.9539 392.4427,-147.7735 382.5833,-151.652 387.1539,-156.9539\"/>\n</g>\n<!-- 20 -->\n<g id=\"node21\" class=\"node\">\n<title>20</title>\n<path fill=\"#f0b78e\" stroke=\"#000000\" d=\"M693,-453C693,-453 618,-453 618,-453 612,-453 606,-447 606,-441 606,-441 606,-401 606,-401 606,-395 612,-389 618,-389 618,-389 693,-389 693,-389 699,-389 705,-395 705,-401 705,-401 705,-441 705,-441 705,-447 699,-453 693,-453\"/>\n<text text-anchor=\"start\" x=\"621\" y=\"-438.8\" font-family=\"Helvetica,sans-Serif\" font-size=\"14.00\" fill=\"#000000\">X</text>\n<text text-anchor=\"start\" x=\"631\" y=\"-438.8\" font-family=\"Helvetica,sans-Serif\" baseline-shift=\"sub\" font-size=\"14.00\" fill=\"#000000\">3</text>\n<text text-anchor=\"start\" x=\"638\" y=\"-438.8\" font-family=\"Helvetica,sans-Serif\" font-size=\"14.00\" fill=\"#000000\"> ≤ 139.0</text>\n<text text-anchor=\"start\" x=\"622\" y=\"-424.8\" font-family=\"Helvetica,sans-Serif\" font-size=\"14.00\" fill=\"#000000\">gini = 0.42</text>\n<text text-anchor=\"start\" x=\"616\" y=\"-410.8\" font-family=\"Helvetica,sans-Serif\" font-size=\"14.00\" fill=\"#000000\">samples = 6</text>\n<text text-anchor=\"start\" x=\"614\" y=\"-396.8\" font-family=\"Helvetica,sans-Serif\" font-size=\"14.00\" fill=\"#000000\">value = [7, 3]</text>\n</g>\n<!-- 19&#45;&gt;20 -->\n<g id=\"edge20\" class=\"edge\">\n<title>19&#45;&gt;20</title>\n<path fill=\"none\" stroke=\"#000000\" d=\"M698.2196,-488.8089C692.7678,-480.1553 686.8003,-470.683 681.1001,-461.635\"/>\n<polygon fill=\"#000000\" stroke=\"#000000\" points=\"684.0341,-459.726 675.7424,-453.1308 678.1115,-463.4573 684.0341,-459.726\"/>\n</g>\n<!-- 25 -->\n<g id=\"node26\" class=\"node\">\n<title>25</title>\n<path fill=\"#fceee5\" stroke=\"#000000\" d=\"M827.5,-453C827.5,-453 735.5,-453 735.5,-453 729.5,-453 723.5,-447 723.5,-441 723.5,-441 723.5,-401 723.5,-401 723.5,-395 729.5,-389 735.5,-389 735.5,-389 827.5,-389 827.5,-389 833.5,-389 839.5,-395 839.5,-401 839.5,-401 839.5,-441 839.5,-441 839.5,-447 833.5,-453 827.5,-453\"/>\n<text text-anchor=\"start\" x=\"747\" y=\"-438.8\" font-family=\"Helvetica,sans-Serif\" font-size=\"14.00\" fill=\"#000000\">X</text>\n<text text-anchor=\"start\" x=\"757\" y=\"-438.8\" font-family=\"Helvetica,sans-Serif\" baseline-shift=\"sub\" font-size=\"14.00\" fill=\"#000000\">4</text>\n<text text-anchor=\"start\" x=\"764\" y=\"-438.8\" font-family=\"Helvetica,sans-Serif\" font-size=\"14.00\" fill=\"#000000\"> ≤ 255.0</text>\n<text text-anchor=\"start\" x=\"743.5\" y=\"-424.8\" font-family=\"Helvetica,sans-Serif\" font-size=\"14.00\" fill=\"#000000\">gini = 0.497</text>\n<text text-anchor=\"start\" x=\"737.5\" y=\"-410.8\" font-family=\"Helvetica,sans-Serif\" font-size=\"14.00\" fill=\"#000000\">samples = 16</text>\n<text text-anchor=\"start\" x=\"731.5\" y=\"-396.8\" font-family=\"Helvetica,sans-Serif\" font-size=\"14.00\" fill=\"#000000\">value = [15, 13]</text>\n</g>\n<!-- 19&#45;&gt;25 -->\n<g id=\"edge25\" class=\"edge\">\n<title>19&#45;&gt;25</title>\n<path fill=\"none\" stroke=\"#000000\" d=\"M738.7804,-488.8089C744.2322,-480.1553 750.1997,-470.683 755.8999,-461.635\"/>\n<polygon fill=\"#000000\" stroke=\"#000000\" points=\"758.8885,-463.4573 761.2576,-453.1308 752.9659,-459.726 758.8885,-463.4573\"/>\n</g>\n<!-- 21 -->\n<g id=\"node22\" class=\"node\">\n<title>21</title>\n<path fill=\"#7bbeee\" stroke=\"#000000\" d=\"M579,-353C579,-353 504,-353 504,-353 498,-353 492,-347 492,-341 492,-341 492,-301 492,-301 492,-295 498,-289 504,-289 504,-289 579,-289 579,-289 585,-289 591,-295 591,-301 591,-301 591,-341 591,-341 591,-347 585,-353 579,-353\"/>\n<text text-anchor=\"start\" x=\"511.5\" y=\"-338.8\" font-family=\"Helvetica,sans-Serif\" font-size=\"14.00\" fill=\"#000000\">X</text>\n<text text-anchor=\"start\" x=\"521.5\" y=\"-338.8\" font-family=\"Helvetica,sans-Serif\" baseline-shift=\"sub\" font-size=\"14.00\" fill=\"#000000\">12</text>\n<text text-anchor=\"start\" x=\"535.5\" y=\"-338.8\" font-family=\"Helvetica,sans-Serif\" font-size=\"14.00\" fill=\"#000000\"> ≤ 2.5</text>\n<text text-anchor=\"start\" x=\"503.5\" y=\"-324.8\" font-family=\"Helvetica,sans-Serif\" font-size=\"14.00\" fill=\"#000000\">gini = 0.375</text>\n<text text-anchor=\"start\" x=\"502\" y=\"-310.8\" font-family=\"Helvetica,sans-Serif\" font-size=\"14.00\" fill=\"#000000\">samples = 3</text>\n<text text-anchor=\"start\" x=\"500\" y=\"-296.8\" font-family=\"Helvetica,sans-Serif\" font-size=\"14.00\" fill=\"#000000\">value = [1, 3]</text>\n</g>\n<!-- 20&#45;&gt;21 -->\n<g id=\"edge21\" class=\"edge\">\n<title>20&#45;&gt;21</title>\n<path fill=\"none\" stroke=\"#000000\" d=\"M618.8022,-388.8089C608.3268,-379.62 596.7992,-369.508 585.9158,-359.9612\"/>\n<polygon fill=\"#000000\" stroke=\"#000000\" points=\"587.9547,-357.094 578.1291,-353.1308 583.3386,-362.3563 587.9547,-357.094\"/>\n</g>\n<!-- 24 -->\n<g id=\"node25\" class=\"node\">\n<title>24</title>\n<path fill=\"#e58139\" stroke=\"#000000\" d=\"M696,-347.5C696,-347.5 621,-347.5 621,-347.5 615,-347.5 609,-341.5 609,-335.5 609,-335.5 609,-306.5 609,-306.5 609,-300.5 615,-294.5 621,-294.5 621,-294.5 696,-294.5 696,-294.5 702,-294.5 708,-300.5 708,-306.5 708,-306.5 708,-335.5 708,-335.5 708,-341.5 702,-347.5 696,-347.5\"/>\n<text text-anchor=\"start\" x=\"629\" y=\"-332.3\" font-family=\"Helvetica,sans-Serif\" font-size=\"14.00\" fill=\"#000000\">gini = 0.0</text>\n<text text-anchor=\"start\" x=\"619\" y=\"-317.3\" font-family=\"Helvetica,sans-Serif\" font-size=\"14.00\" fill=\"#000000\">samples = 3</text>\n<text text-anchor=\"start\" x=\"617\" y=\"-302.3\" font-family=\"Helvetica,sans-Serif\" font-size=\"14.00\" fill=\"#000000\">value = [6, 0]</text>\n</g>\n<!-- 20&#45;&gt;24 -->\n<g id=\"edge24\" class=\"edge\">\n<title>20&#45;&gt;24</title>\n<path fill=\"none\" stroke=\"#000000\" d=\"M656.4657,-388.8089C656.7607,-378.9777 657.0873,-368.0898 657.391,-357.9679\"/>\n<polygon fill=\"#000000\" stroke=\"#000000\" points=\"660.8953,-357.874 657.6968,-347.7735 653.8984,-357.664 660.8953,-357.874\"/>\n</g>\n<!-- 22 -->\n<g id=\"node23\" class=\"node\">\n<title>22</title>\n<path fill=\"#399de5\" stroke=\"#000000\" d=\"M579,-247.5C579,-247.5 504,-247.5 504,-247.5 498,-247.5 492,-241.5 492,-235.5 492,-235.5 492,-206.5 492,-206.5 492,-200.5 498,-194.5 504,-194.5 504,-194.5 579,-194.5 579,-194.5 585,-194.5 591,-200.5 591,-206.5 591,-206.5 591,-235.5 591,-235.5 591,-241.5 585,-247.5 579,-247.5\"/>\n<text text-anchor=\"start\" x=\"512\" y=\"-232.3\" font-family=\"Helvetica,sans-Serif\" font-size=\"14.00\" fill=\"#000000\">gini = 0.0</text>\n<text text-anchor=\"start\" x=\"502\" y=\"-217.3\" font-family=\"Helvetica,sans-Serif\" font-size=\"14.00\" fill=\"#000000\">samples = 2</text>\n<text text-anchor=\"start\" x=\"500\" y=\"-202.3\" font-family=\"Helvetica,sans-Serif\" font-size=\"14.00\" fill=\"#000000\">value = [0, 3]</text>\n</g>\n<!-- 21&#45;&gt;22 -->\n<g id=\"edge22\" class=\"edge\">\n<title>21&#45;&gt;22</title>\n<path fill=\"none\" stroke=\"#000000\" d=\"M541.5,-288.8089C541.5,-278.9777 541.5,-268.0898 541.5,-257.9679\"/>\n<polygon fill=\"#000000\" stroke=\"#000000\" points=\"545.0001,-257.7735 541.5,-247.7735 538.0001,-257.7736 545.0001,-257.7735\"/>\n</g>\n<!-- 23 -->\n<g id=\"node24\" class=\"node\">\n<title>23</title>\n<path fill=\"#e58139\" stroke=\"#000000\" d=\"M696,-247.5C696,-247.5 621,-247.5 621,-247.5 615,-247.5 609,-241.5 609,-235.5 609,-235.5 609,-206.5 609,-206.5 609,-200.5 615,-194.5 621,-194.5 621,-194.5 696,-194.5 696,-194.5 702,-194.5 708,-200.5 708,-206.5 708,-206.5 708,-235.5 708,-235.5 708,-241.5 702,-247.5 696,-247.5\"/>\n<text text-anchor=\"start\" x=\"629\" y=\"-232.3\" font-family=\"Helvetica,sans-Serif\" font-size=\"14.00\" fill=\"#000000\">gini = 0.0</text>\n<text text-anchor=\"start\" x=\"619\" y=\"-217.3\" font-family=\"Helvetica,sans-Serif\" font-size=\"14.00\" fill=\"#000000\">samples = 1</text>\n<text text-anchor=\"start\" x=\"617\" y=\"-202.3\" font-family=\"Helvetica,sans-Serif\" font-size=\"14.00\" fill=\"#000000\">value = [1, 0]</text>\n</g>\n<!-- 21&#45;&gt;23 -->\n<g id=\"edge23\" class=\"edge\">\n<title>21&#45;&gt;23</title>\n<path fill=\"none\" stroke=\"#000000\" d=\"M579.1636,-288.8089C591.998,-277.8393 606.3715,-265.5543 619.3219,-254.4855\"/>\n<polygon fill=\"#000000\" stroke=\"#000000\" points=\"621.8473,-256.9314 627.175,-247.7735 617.2992,-251.6101 621.8473,-256.9314\"/>\n</g>\n<!-- 26 -->\n<g id=\"node27\" class=\"node\">\n<title>26</title>\n<path fill=\"#67b4eb\" stroke=\"#000000\" d=\"M821,-353C821,-353 738,-353 738,-353 732,-353 726,-347 726,-341 726,-341 726,-301 726,-301 726,-295 732,-289 738,-289 738,-289 821,-289 821,-289 827,-289 833,-295 833,-301 833,-301 833,-341 833,-341 833,-347 827,-353 821,-353\"/>\n<text text-anchor=\"start\" x=\"749.5\" y=\"-338.8\" font-family=\"Helvetica,sans-Serif\" font-size=\"14.00\" fill=\"#000000\">X</text>\n<text text-anchor=\"start\" x=\"759.5\" y=\"-338.8\" font-family=\"Helvetica,sans-Serif\" baseline-shift=\"sub\" font-size=\"14.00\" fill=\"#000000\">12</text>\n<text text-anchor=\"start\" x=\"773.5\" y=\"-338.8\" font-family=\"Helvetica,sans-Serif\" font-size=\"14.00\" fill=\"#000000\"> ≤ 2.5</text>\n<text text-anchor=\"start\" x=\"741.5\" y=\"-324.8\" font-family=\"Helvetica,sans-Serif\" font-size=\"14.00\" fill=\"#000000\">gini = 0.305</text>\n<text text-anchor=\"start\" x=\"735.5\" y=\"-310.8\" font-family=\"Helvetica,sans-Serif\" font-size=\"14.00\" fill=\"#000000\">samples = 10</text>\n<text text-anchor=\"start\" x=\"734\" y=\"-296.8\" font-family=\"Helvetica,sans-Serif\" font-size=\"14.00\" fill=\"#000000\">value = [3, 13]</text>\n</g>\n<!-- 25&#45;&gt;26 -->\n<g id=\"edge26\" class=\"edge\">\n<title>25&#45;&gt;26</title>\n<path fill=\"none\" stroke=\"#000000\" d=\"M780.8562,-388.8089C780.6938,-380.6906 780.517,-371.8517 780.3464,-363.3186\"/>\n<polygon fill=\"#000000\" stroke=\"#000000\" points=\"783.842,-363.0587 780.1426,-353.1308 776.8434,-363.1988 783.842,-363.0587\"/>\n</g>\n<!-- 33 -->\n<g id=\"node34\" class=\"node\">\n<title>33</title>\n<path fill=\"#e58139\" stroke=\"#000000\" d=\"M946,-347.5C946,-347.5 863,-347.5 863,-347.5 857,-347.5 851,-341.5 851,-335.5 851,-335.5 851,-306.5 851,-306.5 851,-300.5 857,-294.5 863,-294.5 863,-294.5 946,-294.5 946,-294.5 952,-294.5 958,-300.5 958,-306.5 958,-306.5 958,-335.5 958,-335.5 958,-341.5 952,-347.5 946,-347.5\"/>\n<text text-anchor=\"start\" x=\"875\" y=\"-332.3\" font-family=\"Helvetica,sans-Serif\" font-size=\"14.00\" fill=\"#000000\">gini = 0.0</text>\n<text text-anchor=\"start\" x=\"865\" y=\"-317.3\" font-family=\"Helvetica,sans-Serif\" font-size=\"14.00\" fill=\"#000000\">samples = 6</text>\n<text text-anchor=\"start\" x=\"859\" y=\"-302.3\" font-family=\"Helvetica,sans-Serif\" font-size=\"14.00\" fill=\"#000000\">value = [12, 0]</text>\n</g>\n<!-- 25&#45;&gt;33 -->\n<g id=\"edge33\" class=\"edge\">\n<title>25&#45;&gt;33</title>\n<path fill=\"none\" stroke=\"#000000\" d=\"M821.095,-388.8089C834.7149,-377.7359 849.9835,-365.3223 863.6977,-354.1726\"/>\n<polygon fill=\"#000000\" stroke=\"#000000\" points=\"866.0173,-356.7976 871.5686,-347.7735 861.6014,-351.3661 866.0173,-356.7976\"/>\n</g>\n<!-- 27 -->\n<g id=\"node28\" class=\"node\">\n<title>27</title>\n<path fill=\"#399de5\" stroke=\"#000000\" d=\"M815,-247.5C815,-247.5 740,-247.5 740,-247.5 734,-247.5 728,-241.5 728,-235.5 728,-235.5 728,-206.5 728,-206.5 728,-200.5 734,-194.5 740,-194.5 740,-194.5 815,-194.5 815,-194.5 821,-194.5 827,-200.5 827,-206.5 827,-206.5 827,-235.5 827,-235.5 827,-241.5 821,-247.5 815,-247.5\"/>\n<text text-anchor=\"start\" x=\"748\" y=\"-232.3\" font-family=\"Helvetica,sans-Serif\" font-size=\"14.00\" fill=\"#000000\">gini = 0.0</text>\n<text text-anchor=\"start\" x=\"738\" y=\"-217.3\" font-family=\"Helvetica,sans-Serif\" font-size=\"14.00\" fill=\"#000000\">samples = 4</text>\n<text text-anchor=\"start\" x=\"736\" y=\"-202.3\" font-family=\"Helvetica,sans-Serif\" font-size=\"14.00\" fill=\"#000000\">value = [0, 8]</text>\n</g>\n<!-- 26&#45;&gt;27 -->\n<g id=\"edge27\" class=\"edge\">\n<title>26&#45;&gt;27</title>\n<path fill=\"none\" stroke=\"#000000\" d=\"M778.8562,-288.8089C778.6596,-278.9777 778.4418,-268.0898 778.2394,-257.9679\"/>\n<polygon fill=\"#000000\" stroke=\"#000000\" points=\"781.7348,-257.7015 778.0355,-247.7735 774.7362,-257.8415 781.7348,-257.7015\"/>\n</g>\n<!-- 28 -->\n<g id=\"node29\" class=\"node\">\n<title>28</title>\n<path fill=\"#b0d8f5\" stroke=\"#000000\" d=\"M932,-253C932,-253 857,-253 857,-253 851,-253 845,-247 845,-241 845,-241 845,-201 845,-201 845,-195 851,-189 857,-189 857,-189 932,-189 932,-189 938,-189 944,-195 944,-201 944,-201 944,-241 944,-241 944,-247 938,-253 932,-253\"/>\n<text text-anchor=\"start\" x=\"860\" y=\"-238.8\" font-family=\"Helvetica,sans-Serif\" font-size=\"14.00\" fill=\"#000000\">X</text>\n<text text-anchor=\"start\" x=\"870\" y=\"-238.8\" font-family=\"Helvetica,sans-Serif\" baseline-shift=\"sub\" font-size=\"14.00\" fill=\"#000000\">4</text>\n<text text-anchor=\"start\" x=\"877\" y=\"-238.8\" font-family=\"Helvetica,sans-Serif\" font-size=\"14.00\" fill=\"#000000\"> ≤ 212.0</text>\n<text text-anchor=\"start\" x=\"856.5\" y=\"-224.8\" font-family=\"Helvetica,sans-Serif\" font-size=\"14.00\" fill=\"#000000\">gini = 0.469</text>\n<text text-anchor=\"start\" x=\"855\" y=\"-210.8\" font-family=\"Helvetica,sans-Serif\" font-size=\"14.00\" fill=\"#000000\">samples = 6</text>\n<text text-anchor=\"start\" x=\"853\" y=\"-196.8\" font-family=\"Helvetica,sans-Serif\" font-size=\"14.00\" fill=\"#000000\">value = [3, 5]</text>\n</g>\n<!-- 26&#45;&gt;28 -->\n<g id=\"edge28\" class=\"edge\">\n<title>26&#45;&gt;28</title>\n<path fill=\"none\" stroke=\"#000000\" d=\"M816.5197,-288.8089C827.087,-279.62 838.7157,-269.508 849.6946,-259.9612\"/>\n<polygon fill=\"#000000\" stroke=\"#000000\" points=\"852.3002,-262.3337 857.5496,-253.1308 847.7069,-257.0515 852.3002,-262.3337\"/>\n</g>\n<!-- 29 -->\n<g id=\"node30\" class=\"node\">\n<title>29</title>\n<path fill=\"#399de5\" stroke=\"#000000\" d=\"M829,-147.5C829,-147.5 754,-147.5 754,-147.5 748,-147.5 742,-141.5 742,-135.5 742,-135.5 742,-106.5 742,-106.5 742,-100.5 748,-94.5 754,-94.5 754,-94.5 829,-94.5 829,-94.5 835,-94.5 841,-100.5 841,-106.5 841,-106.5 841,-135.5 841,-135.5 841,-141.5 835,-147.5 829,-147.5\"/>\n<text text-anchor=\"start\" x=\"762\" y=\"-132.3\" font-family=\"Helvetica,sans-Serif\" font-size=\"14.00\" fill=\"#000000\">gini = 0.0</text>\n<text text-anchor=\"start\" x=\"752\" y=\"-117.3\" font-family=\"Helvetica,sans-Serif\" font-size=\"14.00\" fill=\"#000000\">samples = 2</text>\n<text text-anchor=\"start\" x=\"750\" y=\"-102.3\" font-family=\"Helvetica,sans-Serif\" font-size=\"14.00\" fill=\"#000000\">value = [0, 3]</text>\n</g>\n<!-- 28&#45;&gt;29 -->\n<g id=\"edge29\" class=\"edge\">\n<title>28&#45;&gt;29</title>\n<path fill=\"none\" stroke=\"#000000\" d=\"M861.3432,-188.8089C850.1511,-177.9428 837.6295,-165.7859 826.3131,-154.7991\"/>\n<polygon fill=\"#000000\" stroke=\"#000000\" points=\"828.6896,-152.2282 819.0767,-147.7735 823.8135,-157.2505 828.6896,-152.2282\"/>\n</g>\n<!-- 30 -->\n<g id=\"node31\" class=\"node\">\n<title>30</title>\n<path fill=\"#f6d5bd\" stroke=\"#000000\" d=\"M946,-153C946,-153 871,-153 871,-153 865,-153 859,-147 859,-141 859,-141 859,-101 859,-101 859,-95 865,-89 871,-89 871,-89 946,-89 946,-89 952,-89 958,-95 958,-101 958,-101 958,-141 958,-141 958,-147 952,-153 946,-153\"/>\n<text text-anchor=\"start\" x=\"882\" y=\"-138.8\" font-family=\"Helvetica,sans-Serif\" font-size=\"14.00\" fill=\"#000000\">X</text>\n<text text-anchor=\"start\" x=\"892\" y=\"-138.8\" font-family=\"Helvetica,sans-Serif\" baseline-shift=\"sub\" font-size=\"14.00\" fill=\"#000000\">6</text>\n<text text-anchor=\"start\" x=\"899\" y=\"-138.8\" font-family=\"Helvetica,sans-Serif\" font-size=\"14.00\" fill=\"#000000\"> ≤ 0.5</text>\n<text text-anchor=\"start\" x=\"875\" y=\"-124.8\" font-family=\"Helvetica,sans-Serif\" font-size=\"14.00\" fill=\"#000000\">gini = 0.48</text>\n<text text-anchor=\"start\" x=\"869\" y=\"-110.8\" font-family=\"Helvetica,sans-Serif\" font-size=\"14.00\" fill=\"#000000\">samples = 4</text>\n<text text-anchor=\"start\" x=\"867\" y=\"-96.8\" font-family=\"Helvetica,sans-Serif\" font-size=\"14.00\" fill=\"#000000\">value = [3, 2]</text>\n</g>\n<!-- 28&#45;&gt;30 -->\n<g id=\"edge30\" class=\"edge\">\n<title>28&#45;&gt;30</title>\n<path fill=\"none\" stroke=\"#000000\" d=\"M899.0068,-188.8089C900.1558,-180.6014 901.408,-171.6574 902.6148,-163.0374\"/>\n<polygon fill=\"#000000\" stroke=\"#000000\" points=\"906.0813,-163.5195 904.0017,-153.1308 899.1489,-162.5489 906.0813,-163.5195\"/>\n</g>\n<!-- 31 -->\n<g id=\"node32\" class=\"node\">\n<title>31</title>\n<path fill=\"#399de5\" stroke=\"#000000\" d=\"M887,-53C887,-53 812,-53 812,-53 806,-53 800,-47 800,-41 800,-41 800,-12 800,-12 800,-6 806,0 812,0 812,0 887,0 887,0 893,0 899,-6 899,-12 899,-12 899,-41 899,-41 899,-47 893,-53 887,-53\"/>\n<text text-anchor=\"start\" x=\"820\" y=\"-37.8\" font-family=\"Helvetica,sans-Serif\" font-size=\"14.00\" fill=\"#000000\">gini = 0.0</text>\n<text text-anchor=\"start\" x=\"810\" y=\"-22.8\" font-family=\"Helvetica,sans-Serif\" font-size=\"14.00\" fill=\"#000000\">samples = 2</text>\n<text text-anchor=\"start\" x=\"808\" y=\"-7.8\" font-family=\"Helvetica,sans-Serif\" font-size=\"14.00\" fill=\"#000000\">value = [0, 2]</text>\n</g>\n<!-- 30&#45;&gt;31 -->\n<g id=\"edge31\" class=\"edge\">\n<title>30&#45;&gt;31</title>\n<path fill=\"none\" stroke=\"#000000\" d=\"M888.3606,-88.7428C882.9526,-80.0809 877.0764,-70.669 871.5697,-61.849\"/>\n<polygon fill=\"#000000\" stroke=\"#000000\" points=\"874.4821,-59.9048 866.2172,-53.2759 868.5443,-63.612 874.4821,-59.9048\"/>\n</g>\n<!-- 32 -->\n<g id=\"node33\" class=\"node\">\n<title>32</title>\n<path fill=\"#e58139\" stroke=\"#000000\" d=\"M1004,-53C1004,-53 929,-53 929,-53 923,-53 917,-47 917,-41 917,-41 917,-12 917,-12 917,-6 923,0 929,0 929,0 1004,0 1004,0 1010,0 1016,-6 1016,-12 1016,-12 1016,-41 1016,-41 1016,-47 1010,-53 1004,-53\"/>\n<text text-anchor=\"start\" x=\"937\" y=\"-37.8\" font-family=\"Helvetica,sans-Serif\" font-size=\"14.00\" fill=\"#000000\">gini = 0.0</text>\n<text text-anchor=\"start\" x=\"927\" y=\"-22.8\" font-family=\"Helvetica,sans-Serif\" font-size=\"14.00\" fill=\"#000000\">samples = 2</text>\n<text text-anchor=\"start\" x=\"925\" y=\"-7.8\" font-family=\"Helvetica,sans-Serif\" font-size=\"14.00\" fill=\"#000000\">value = [3, 0]</text>\n</g>\n<!-- 30&#45;&gt;32 -->\n<g id=\"edge32\" class=\"edge\">\n<title>30&#45;&gt;32</title>\n<path fill=\"none\" stroke=\"#000000\" d=\"M928.2981,-88.7428C933.6144,-80.0809 939.391,-70.669 944.8043,-61.849\"/>\n<polygon fill=\"#000000\" stroke=\"#000000\" points=\"947.8182,-63.6295 950.0661,-53.2759 941.8522,-59.9678 947.8182,-63.6295\"/>\n</g>\n<!-- 35 -->\n<g id=\"node36\" class=\"node\">\n<title>35</title>\n<path fill=\"#ea985d\" stroke=\"#000000\" d=\"M1094,-553C1094,-553 1011,-553 1011,-553 1005,-553 999,-547 999,-541 999,-541 999,-501 999,-501 999,-495 1005,-489 1011,-489 1011,-489 1094,-489 1094,-489 1100,-489 1106,-495 1106,-501 1106,-501 1106,-541 1106,-541 1106,-547 1100,-553 1094,-553\"/>\n<text text-anchor=\"start\" x=\"1022\" y=\"-538.8\" font-family=\"Helvetica,sans-Serif\" font-size=\"14.00\" fill=\"#000000\">X</text>\n<text text-anchor=\"start\" x=\"1032\" y=\"-538.8\" font-family=\"Helvetica,sans-Serif\" baseline-shift=\"sub\" font-size=\"14.00\" fill=\"#000000\">0</text>\n<text text-anchor=\"start\" x=\"1039\" y=\"-538.8\" font-family=\"Helvetica,sans-Serif\" font-size=\"14.00\" fill=\"#000000\"> ≤ 63.5</text>\n<text text-anchor=\"start\" x=\"1019\" y=\"-524.8\" font-family=\"Helvetica,sans-Serif\" font-size=\"14.00\" fill=\"#000000\">gini = 0.26</text>\n<text text-anchor=\"start\" x=\"1008.5\" y=\"-510.8\" font-family=\"Helvetica,sans-Serif\" font-size=\"14.00\" fill=\"#000000\">samples = 34</text>\n<text text-anchor=\"start\" x=\"1007\" y=\"-496.8\" font-family=\"Helvetica,sans-Serif\" font-size=\"14.00\" fill=\"#000000\">value = [44, 8]</text>\n</g>\n<!-- 34&#45;&gt;35 -->\n<g id=\"edge35\" class=\"edge\">\n<title>34&#45;&gt;35</title>\n<path fill=\"none\" stroke=\"#000000\" d=\"M1052.5,-588.8089C1052.5,-580.6906 1052.5,-571.8517 1052.5,-563.3186\"/>\n<polygon fill=\"#000000\" stroke=\"#000000\" points=\"1056.0001,-563.1307 1052.5,-553.1308 1049.0001,-563.1308 1056.0001,-563.1307\"/>\n</g>\n<!-- 44 -->\n<g id=\"node45\" class=\"node\">\n<title>44</title>\n<path fill=\"#a5d2f3\" stroke=\"#000000\" d=\"M1334.5,-553C1334.5,-553 1242.5,-553 1242.5,-553 1236.5,-553 1230.5,-547 1230.5,-541 1230.5,-541 1230.5,-501 1230.5,-501 1230.5,-495 1236.5,-489 1242.5,-489 1242.5,-489 1334.5,-489 1334.5,-489 1340.5,-489 1346.5,-495 1346.5,-501 1346.5,-501 1346.5,-541 1346.5,-541 1346.5,-547 1340.5,-553 1334.5,-553\"/>\n<text text-anchor=\"start\" x=\"1258.5\" y=\"-538.8\" font-family=\"Helvetica,sans-Serif\" font-size=\"14.00\" fill=\"#000000\">X</text>\n<text text-anchor=\"start\" x=\"1268.5\" y=\"-538.8\" font-family=\"Helvetica,sans-Serif\" baseline-shift=\"sub\" font-size=\"14.00\" fill=\"#000000\">11</text>\n<text text-anchor=\"start\" x=\"1282.5\" y=\"-538.8\" font-family=\"Helvetica,sans-Serif\" font-size=\"14.00\" fill=\"#000000\"> ≤ 2.5</text>\n<text text-anchor=\"start\" x=\"1250.5\" y=\"-524.8\" font-family=\"Helvetica,sans-Serif\" font-size=\"14.00\" fill=\"#000000\">gini = 0.457</text>\n<text text-anchor=\"start\" x=\"1244.5\" y=\"-510.8\" font-family=\"Helvetica,sans-Serif\" font-size=\"14.00\" fill=\"#000000\">samples = 21</text>\n<text text-anchor=\"start\" x=\"1238.5\" y=\"-496.8\" font-family=\"Helvetica,sans-Serif\" font-size=\"14.00\" fill=\"#000000\">value = [12, 22]</text>\n</g>\n<!-- 34&#45;&gt;44 -->\n<g id=\"edge44\" class=\"edge\">\n<title>34&#45;&gt;44</title>\n<path fill=\"none\" stroke=\"#000000\" d=\"M1110.5344,-596.4092C1143.8428,-582.2954 1185.8332,-564.5029 1220.6606,-549.7455\"/>\n<polygon fill=\"#000000\" stroke=\"#000000\" points=\"1222.4386,-552.7934 1230.2806,-545.6692 1219.7076,-546.3481 1222.4386,-552.7934\"/>\n</g>\n<!-- 36 -->\n<g id=\"node37\" class=\"node\">\n<title>36</title>\n<path fill=\"#e58139\" stroke=\"#000000\" d=\"M1034,-447.5C1034,-447.5 951,-447.5 951,-447.5 945,-447.5 939,-441.5 939,-435.5 939,-435.5 939,-406.5 939,-406.5 939,-400.5 945,-394.5 951,-394.5 951,-394.5 1034,-394.5 1034,-394.5 1040,-394.5 1046,-400.5 1046,-406.5 1046,-406.5 1046,-435.5 1046,-435.5 1046,-441.5 1040,-447.5 1034,-447.5\"/>\n<text text-anchor=\"start\" x=\"963\" y=\"-432.3\" font-family=\"Helvetica,sans-Serif\" font-size=\"14.00\" fill=\"#000000\">gini = 0.0</text>\n<text text-anchor=\"start\" x=\"948.5\" y=\"-417.3\" font-family=\"Helvetica,sans-Serif\" font-size=\"14.00\" fill=\"#000000\">samples = 26</text>\n<text text-anchor=\"start\" x=\"947\" y=\"-402.3\" font-family=\"Helvetica,sans-Serif\" font-size=\"14.00\" fill=\"#000000\">value = [35, 0]</text>\n</g>\n<!-- 35&#45;&gt;36 -->\n<g id=\"edge36\" class=\"edge\">\n<title>35&#45;&gt;36</title>\n<path fill=\"none\" stroke=\"#000000\" d=\"M1033.1854,-488.8089C1026.9762,-478.4603 1020.0645,-466.9408 1013.7258,-456.3764\"/>\n<polygon fill=\"#000000\" stroke=\"#000000\" points=\"1016.7103,-454.5477 1008.5641,-447.7735 1010.7079,-458.1492 1016.7103,-454.5477\"/>\n</g>\n<!-- 37 -->\n<g id=\"node38\" class=\"node\">\n<title>37</title>\n<path fill=\"#fcf1e9\" stroke=\"#000000\" d=\"M1151,-453C1151,-453 1076,-453 1076,-453 1070,-453 1064,-447 1064,-441 1064,-441 1064,-401 1064,-401 1064,-395 1070,-389 1076,-389 1076,-389 1151,-389 1151,-389 1157,-389 1163,-395 1163,-401 1163,-401 1163,-441 1163,-441 1163,-447 1157,-453 1151,-453\"/>\n<text text-anchor=\"start\" x=\"1083\" y=\"-438.8\" font-family=\"Helvetica,sans-Serif\" font-size=\"14.00\" fill=\"#000000\">X</text>\n<text text-anchor=\"start\" x=\"1093\" y=\"-438.8\" font-family=\"Helvetica,sans-Serif\" baseline-shift=\"sub\" font-size=\"14.00\" fill=\"#000000\">0</text>\n<text text-anchor=\"start\" x=\"1100\" y=\"-438.8\" font-family=\"Helvetica,sans-Serif\" font-size=\"14.00\" fill=\"#000000\"> ≤ 64.5</text>\n<text text-anchor=\"start\" x=\"1075.5\" y=\"-424.8\" font-family=\"Helvetica,sans-Serif\" font-size=\"14.00\" fill=\"#000000\">gini = 0.498</text>\n<text text-anchor=\"start\" x=\"1074\" y=\"-410.8\" font-family=\"Helvetica,sans-Serif\" font-size=\"14.00\" fill=\"#000000\">samples = 8</text>\n<text text-anchor=\"start\" x=\"1072\" y=\"-396.8\" font-family=\"Helvetica,sans-Serif\" font-size=\"14.00\" fill=\"#000000\">value = [9, 8]</text>\n</g>\n<!-- 35&#45;&gt;37 -->\n<g id=\"edge37\" class=\"edge\">\n<title>35&#45;&gt;37</title>\n<path fill=\"none\" stroke=\"#000000\" d=\"M1072.1366,-488.8089C1077.3608,-480.2445 1083.0743,-470.8782 1088.5418,-461.915\"/>\n<polygon fill=\"#000000\" stroke=\"#000000\" points=\"1091.6806,-463.4905 1093.9002,-453.1308 1085.7046,-459.8451 1091.6806,-463.4905\"/>\n</g>\n<!-- 38 -->\n<g id=\"node39\" class=\"node\">\n<title>38</title>\n<path fill=\"#399de5\" stroke=\"#000000\" d=\"M1063,-347.5C1063,-347.5 988,-347.5 988,-347.5 982,-347.5 976,-341.5 976,-335.5 976,-335.5 976,-306.5 976,-306.5 976,-300.5 982,-294.5 988,-294.5 988,-294.5 1063,-294.5 1063,-294.5 1069,-294.5 1075,-300.5 1075,-306.5 1075,-306.5 1075,-335.5 1075,-335.5 1075,-341.5 1069,-347.5 1063,-347.5\"/>\n<text text-anchor=\"start\" x=\"996\" y=\"-332.3\" font-family=\"Helvetica,sans-Serif\" font-size=\"14.00\" fill=\"#000000\">gini = 0.0</text>\n<text text-anchor=\"start\" x=\"986\" y=\"-317.3\" font-family=\"Helvetica,sans-Serif\" font-size=\"14.00\" fill=\"#000000\">samples = 2</text>\n<text text-anchor=\"start\" x=\"984\" y=\"-302.3\" font-family=\"Helvetica,sans-Serif\" font-size=\"14.00\" fill=\"#000000\">value = [0, 4]</text>\n</g>\n<!-- 37&#45;&gt;38 -->\n<g id=\"edge38\" class=\"edge\">\n<title>37&#45;&gt;38</title>\n<path fill=\"none\" stroke=\"#000000\" d=\"M1085.1719,-388.8089C1075.7918,-378.1498 1065.3188,-366.2486 1055.7968,-355.4282\"/>\n<polygon fill=\"#000000\" stroke=\"#000000\" points=\"1058.2945,-352.9685 1049.0607,-347.7735 1053.0395,-357.5929 1058.2945,-352.9685\"/>\n</g>\n<!-- 39 -->\n<g id=\"node40\" class=\"node\">\n<title>39</title>\n<path fill=\"#f1b991\" stroke=\"#000000\" d=\"M1180,-353C1180,-353 1105,-353 1105,-353 1099,-353 1093,-347 1093,-341 1093,-341 1093,-301 1093,-301 1093,-295 1099,-289 1105,-289 1105,-289 1180,-289 1180,-289 1186,-289 1192,-295 1192,-301 1192,-301 1192,-341 1192,-341 1192,-347 1186,-353 1180,-353\"/>\n<text text-anchor=\"start\" x=\"1112\" y=\"-338.8\" font-family=\"Helvetica,sans-Serif\" font-size=\"14.00\" fill=\"#000000\">X</text>\n<text text-anchor=\"start\" x=\"1122\" y=\"-338.8\" font-family=\"Helvetica,sans-Serif\" baseline-shift=\"sub\" font-size=\"14.00\" fill=\"#000000\">0</text>\n<text text-anchor=\"start\" x=\"1129\" y=\"-338.8\" font-family=\"Helvetica,sans-Serif\" font-size=\"14.00\" fill=\"#000000\"> ≤ 66.5</text>\n<text text-anchor=\"start\" x=\"1104.5\" y=\"-324.8\" font-family=\"Helvetica,sans-Serif\" font-size=\"14.00\" fill=\"#000000\">gini = 0.426</text>\n<text text-anchor=\"start\" x=\"1103\" y=\"-310.8\" font-family=\"Helvetica,sans-Serif\" font-size=\"14.00\" fill=\"#000000\">samples = 6</text>\n<text text-anchor=\"start\" x=\"1101\" y=\"-296.8\" font-family=\"Helvetica,sans-Serif\" font-size=\"14.00\" fill=\"#000000\">value = [9, 4]</text>\n</g>\n<!-- 37&#45;&gt;39 -->\n<g id=\"edge39\" class=\"edge\">\n<title>37&#45;&gt;39</title>\n<path fill=\"none\" stroke=\"#000000\" d=\"M1122.8354,-388.8089C1125.2415,-380.5122 1127.8658,-371.4628 1130.3906,-362.7565\"/>\n<polygon fill=\"#000000\" stroke=\"#000000\" points=\"1133.7583,-363.7099 1133.1821,-353.1308 1127.0353,-361.7602 1133.7583,-363.7099\"/>\n</g>\n<!-- 40 -->\n<g id=\"node41\" class=\"node\">\n<title>40</title>\n<path fill=\"#e58139\" stroke=\"#000000\" d=\"M1078,-247.5C1078,-247.5 1003,-247.5 1003,-247.5 997,-247.5 991,-241.5 991,-235.5 991,-235.5 991,-206.5 991,-206.5 991,-200.5 997,-194.5 1003,-194.5 1003,-194.5 1078,-194.5 1078,-194.5 1084,-194.5 1090,-200.5 1090,-206.5 1090,-206.5 1090,-235.5 1090,-235.5 1090,-241.5 1084,-247.5 1078,-247.5\"/>\n<text text-anchor=\"start\" x=\"1011\" y=\"-232.3\" font-family=\"Helvetica,sans-Serif\" font-size=\"14.00\" fill=\"#000000\">gini = 0.0</text>\n<text text-anchor=\"start\" x=\"1001\" y=\"-217.3\" font-family=\"Helvetica,sans-Serif\" font-size=\"14.00\" fill=\"#000000\">samples = 3</text>\n<text text-anchor=\"start\" x=\"999\" y=\"-202.3\" font-family=\"Helvetica,sans-Serif\" font-size=\"14.00\" fill=\"#000000\">value = [7, 0]</text>\n</g>\n<!-- 39&#45;&gt;40 -->\n<g id=\"edge40\" class=\"edge\">\n<title>39&#45;&gt;40</title>\n<path fill=\"none\" stroke=\"#000000\" d=\"M1109.6651,-288.8089C1098.5817,-277.9428 1086.1817,-265.7859 1074.9751,-254.7991\"/>\n<polygon fill=\"#000000\" stroke=\"#000000\" points=\"1077.4,-252.275 1067.809,-247.7735 1072.4995,-257.2735 1077.4,-252.275\"/>\n</g>\n<!-- 41 -->\n<g id=\"node42\" class=\"node\">\n<title>41</title>\n<path fill=\"#9ccef2\" stroke=\"#000000\" d=\"M1195,-253C1195,-253 1120,-253 1120,-253 1114,-253 1108,-247 1108,-241 1108,-241 1108,-201 1108,-201 1108,-195 1114,-189 1120,-189 1120,-189 1195,-189 1195,-189 1201,-189 1207,-195 1207,-201 1207,-201 1207,-241 1207,-241 1207,-247 1201,-253 1195,-253\"/>\n<text text-anchor=\"start\" x=\"1123\" y=\"-238.8\" font-family=\"Helvetica,sans-Serif\" font-size=\"14.00\" fill=\"#000000\">X</text>\n<text text-anchor=\"start\" x=\"1133\" y=\"-238.8\" font-family=\"Helvetica,sans-Serif\" baseline-shift=\"sub\" font-size=\"14.00\" fill=\"#000000\">7</text>\n<text text-anchor=\"start\" x=\"1140\" y=\"-238.8\" font-family=\"Helvetica,sans-Serif\" font-size=\"14.00\" fill=\"#000000\"> ≤ 125.5</text>\n<text text-anchor=\"start\" x=\"1119.5\" y=\"-224.8\" font-family=\"Helvetica,sans-Serif\" font-size=\"14.00\" fill=\"#000000\">gini = 0.444</text>\n<text text-anchor=\"start\" x=\"1118\" y=\"-210.8\" font-family=\"Helvetica,sans-Serif\" font-size=\"14.00\" fill=\"#000000\">samples = 3</text>\n<text text-anchor=\"start\" x=\"1116\" y=\"-196.8\" font-family=\"Helvetica,sans-Serif\" font-size=\"14.00\" fill=\"#000000\">value = [2, 4]</text>\n</g>\n<!-- 39&#45;&gt;41 -->\n<g id=\"edge41\" class=\"edge\">\n<title>39&#45;&gt;41</title>\n<path fill=\"none\" stroke=\"#000000\" d=\"M1147.3287,-288.8089C1148.5598,-280.6014 1149.9014,-271.6574 1151.1944,-263.0374\"/>\n<polygon fill=\"#000000\" stroke=\"#000000\" points=\"1154.6582,-263.5393 1152.6804,-253.1308 1147.7356,-262.5009 1154.6582,-263.5393\"/>\n</g>\n<!-- 42 -->\n<g id=\"node43\" class=\"node\">\n<title>42</title>\n<path fill=\"#e58139\" stroke=\"#000000\" d=\"M1085,-147.5C1085,-147.5 1010,-147.5 1010,-147.5 1004,-147.5 998,-141.5 998,-135.5 998,-135.5 998,-106.5 998,-106.5 998,-100.5 1004,-94.5 1010,-94.5 1010,-94.5 1085,-94.5 1085,-94.5 1091,-94.5 1097,-100.5 1097,-106.5 1097,-106.5 1097,-135.5 1097,-135.5 1097,-141.5 1091,-147.5 1085,-147.5\"/>\n<text text-anchor=\"start\" x=\"1018\" y=\"-132.3\" font-family=\"Helvetica,sans-Serif\" font-size=\"14.00\" fill=\"#000000\">gini = 0.0</text>\n<text text-anchor=\"start\" x=\"1008\" y=\"-117.3\" font-family=\"Helvetica,sans-Serif\" font-size=\"14.00\" fill=\"#000000\">samples = 2</text>\n<text text-anchor=\"start\" x=\"1006\" y=\"-102.3\" font-family=\"Helvetica,sans-Serif\" font-size=\"14.00\" fill=\"#000000\">value = [2, 0]</text>\n</g>\n<!-- 41&#45;&gt;42 -->\n<g id=\"edge42\" class=\"edge\">\n<title>41&#45;&gt;42</title>\n<path fill=\"none\" stroke=\"#000000\" d=\"M1122.0898,-188.8089C1110.1371,-177.9428 1096.7645,-165.7859 1084.679,-154.7991\"/>\n<polygon fill=\"#000000\" stroke=\"#000000\" points=\"1086.7047,-151.9105 1076.9509,-147.7735 1081.9959,-157.0901 1086.7047,-151.9105\"/>\n</g>\n<!-- 43 -->\n<g id=\"node44\" class=\"node\">\n<title>43</title>\n<path fill=\"#399de5\" stroke=\"#000000\" d=\"M1202,-147.5C1202,-147.5 1127,-147.5 1127,-147.5 1121,-147.5 1115,-141.5 1115,-135.5 1115,-135.5 1115,-106.5 1115,-106.5 1115,-100.5 1121,-94.5 1127,-94.5 1127,-94.5 1202,-94.5 1202,-94.5 1208,-94.5 1214,-100.5 1214,-106.5 1214,-106.5 1214,-135.5 1214,-135.5 1214,-141.5 1208,-147.5 1202,-147.5\"/>\n<text text-anchor=\"start\" x=\"1135\" y=\"-132.3\" font-family=\"Helvetica,sans-Serif\" font-size=\"14.00\" fill=\"#000000\">gini = 0.0</text>\n<text text-anchor=\"start\" x=\"1125\" y=\"-117.3\" font-family=\"Helvetica,sans-Serif\" font-size=\"14.00\" fill=\"#000000\">samples = 1</text>\n<text text-anchor=\"start\" x=\"1123\" y=\"-102.3\" font-family=\"Helvetica,sans-Serif\" font-size=\"14.00\" fill=\"#000000\">value = [0, 4]</text>\n</g>\n<!-- 41&#45;&gt;43 -->\n<g id=\"edge43\" class=\"edge\">\n<title>41&#45;&gt;43</title>\n<path fill=\"none\" stroke=\"#000000\" d=\"M1159.7534,-188.8089C1160.4416,-178.9777 1161.2037,-168.0898 1161.9122,-157.9679\"/>\n<polygon fill=\"#000000\" stroke=\"#000000\" points=\"1165.4189,-157.9935 1162.6259,-147.7735 1158.436,-157.5047 1165.4189,-157.9935\"/>\n</g>\n<!-- 45 -->\n<g id=\"node46\" class=\"node\">\n<title>45</title>\n<path fill=\"#6ab6ec\" stroke=\"#000000\" d=\"M1330,-453C1330,-453 1247,-453 1247,-453 1241,-453 1235,-447 1235,-441 1235,-441 1235,-401 1235,-401 1235,-395 1241,-389 1247,-389 1247,-389 1330,-389 1330,-389 1336,-389 1342,-395 1342,-401 1342,-401 1342,-441 1342,-441 1342,-447 1336,-453 1330,-453\"/>\n<text text-anchor=\"start\" x=\"1258.5\" y=\"-438.8\" font-family=\"Helvetica,sans-Serif\" font-size=\"14.00\" fill=\"#000000\">X</text>\n<text text-anchor=\"start\" x=\"1268.5\" y=\"-438.8\" font-family=\"Helvetica,sans-Serif\" baseline-shift=\"sub\" font-size=\"14.00\" fill=\"#000000\">12</text>\n<text text-anchor=\"start\" x=\"1282.5\" y=\"-438.8\" font-family=\"Helvetica,sans-Serif\" font-size=\"14.00\" fill=\"#000000\"> ≤ 1.5</text>\n<text text-anchor=\"start\" x=\"1255\" y=\"-424.8\" font-family=\"Helvetica,sans-Serif\" font-size=\"14.00\" fill=\"#000000\">gini = 0.32</text>\n<text text-anchor=\"start\" x=\"1244.5\" y=\"-410.8\" font-family=\"Helvetica,sans-Serif\" font-size=\"14.00\" fill=\"#000000\">samples = 15</text>\n<text text-anchor=\"start\" x=\"1243\" y=\"-396.8\" font-family=\"Helvetica,sans-Serif\" font-size=\"14.00\" fill=\"#000000\">value = [5, 20]</text>\n</g>\n<!-- 44&#45;&gt;45 -->\n<g id=\"edge45\" class=\"edge\">\n<title>44&#45;&gt;45</title>\n<path fill=\"none\" stroke=\"#000000\" d=\"M1288.5,-488.8089C1288.5,-480.6906 1288.5,-471.8517 1288.5,-463.3186\"/>\n<polygon fill=\"#000000\" stroke=\"#000000\" points=\"1292.0001,-463.1307 1288.5,-453.1308 1285.0001,-463.1308 1292.0001,-463.1307\"/>\n</g>\n<!-- 54 -->\n<g id=\"node55\" class=\"node\">\n<title>54</title>\n<path fill=\"#eca572\" stroke=\"#000000\" d=\"M1539,-453C1539,-453 1464,-453 1464,-453 1458,-453 1452,-447 1452,-441 1452,-441 1452,-401 1452,-401 1452,-395 1458,-389 1464,-389 1464,-389 1539,-389 1539,-389 1545,-389 1551,-395 1551,-401 1551,-401 1551,-441 1551,-441 1551,-447 1545,-453 1539,-453\"/>\n<text text-anchor=\"start\" x=\"1471.5\" y=\"-438.8\" font-family=\"Helvetica,sans-Serif\" font-size=\"14.00\" fill=\"#000000\">X</text>\n<text text-anchor=\"start\" x=\"1481.5\" y=\"-438.8\" font-family=\"Helvetica,sans-Serif\" baseline-shift=\"sub\" font-size=\"14.00\" fill=\"#000000\">11</text>\n<text text-anchor=\"start\" x=\"1495.5\" y=\"-438.8\" font-family=\"Helvetica,sans-Serif\" font-size=\"14.00\" fill=\"#000000\"> ≤ 3.5</text>\n<text text-anchor=\"start\" x=\"1463.5\" y=\"-424.8\" font-family=\"Helvetica,sans-Serif\" font-size=\"14.00\" fill=\"#000000\">gini = 0.346</text>\n<text text-anchor=\"start\" x=\"1462\" y=\"-410.8\" font-family=\"Helvetica,sans-Serif\" font-size=\"14.00\" fill=\"#000000\">samples = 6</text>\n<text text-anchor=\"start\" x=\"1460\" y=\"-396.8\" font-family=\"Helvetica,sans-Serif\" font-size=\"14.00\" fill=\"#000000\">value = [7, 2]</text>\n</g>\n<!-- 44&#45;&gt;54 -->\n<g id=\"edge54\" class=\"edge\">\n<title>44&#45;&gt;54</title>\n<path fill=\"none\" stroke=\"#000000\" d=\"M1346.7032,-493.6746C1376.5076,-479.6819 1412.7144,-462.6834 1442.6155,-448.6453\"/>\n<polygon fill=\"#000000\" stroke=\"#000000\" points=\"1444.114,-451.8084 1451.6786,-444.3903 1441.1391,-445.4719 1444.114,-451.8084\"/>\n</g>\n<!-- 46 -->\n<g id=\"node47\" class=\"node\">\n<title>46</title>\n<path fill=\"#e58139\" stroke=\"#000000\" d=\"M1297,-347.5C1297,-347.5 1222,-347.5 1222,-347.5 1216,-347.5 1210,-341.5 1210,-335.5 1210,-335.5 1210,-306.5 1210,-306.5 1210,-300.5 1216,-294.5 1222,-294.5 1222,-294.5 1297,-294.5 1297,-294.5 1303,-294.5 1309,-300.5 1309,-306.5 1309,-306.5 1309,-335.5 1309,-335.5 1309,-341.5 1303,-347.5 1297,-347.5\"/>\n<text text-anchor=\"start\" x=\"1230\" y=\"-332.3\" font-family=\"Helvetica,sans-Serif\" font-size=\"14.00\" fill=\"#000000\">gini = 0.0</text>\n<text text-anchor=\"start\" x=\"1220\" y=\"-317.3\" font-family=\"Helvetica,sans-Serif\" font-size=\"14.00\" fill=\"#000000\">samples = 1</text>\n<text text-anchor=\"start\" x=\"1218\" y=\"-302.3\" font-family=\"Helvetica,sans-Serif\" font-size=\"14.00\" fill=\"#000000\">value = [1, 0]</text>\n</g>\n<!-- 45&#45;&gt;46 -->\n<g id=\"edge46\" class=\"edge\">\n<title>45&#45;&gt;46</title>\n<path fill=\"none\" stroke=\"#000000\" d=\"M1279.1646,-388.8089C1276.2835,-378.8742 1273.0895,-367.8605 1270.1281,-357.6485\"/>\n<polygon fill=\"#000000\" stroke=\"#000000\" points=\"1273.4111,-356.403 1267.2643,-347.7735 1266.6881,-358.3527 1273.4111,-356.403\"/>\n</g>\n<!-- 47 -->\n<g id=\"node48\" class=\"node\">\n<title>47</title>\n<path fill=\"#61b1ea\" stroke=\"#000000\" d=\"M1422,-353C1422,-353 1339,-353 1339,-353 1333,-353 1327,-347 1327,-341 1327,-341 1327,-301 1327,-301 1327,-295 1333,-289 1339,-289 1339,-289 1422,-289 1422,-289 1428,-289 1434,-295 1434,-301 1434,-301 1434,-341 1434,-341 1434,-347 1428,-353 1422,-353\"/>\n<text text-anchor=\"start\" x=\"1354\" y=\"-338.8\" font-family=\"Helvetica,sans-Serif\" font-size=\"14.00\" fill=\"#000000\">X</text>\n<text text-anchor=\"start\" x=\"1364\" y=\"-338.8\" font-family=\"Helvetica,sans-Serif\" baseline-shift=\"sub\" font-size=\"14.00\" fill=\"#000000\">9</text>\n<text text-anchor=\"start\" x=\"1371\" y=\"-338.8\" font-family=\"Helvetica,sans-Serif\" font-size=\"14.00\" fill=\"#000000\"> ≤ 2.2</text>\n<text text-anchor=\"start\" x=\"1342.5\" y=\"-324.8\" font-family=\"Helvetica,sans-Serif\" font-size=\"14.00\" fill=\"#000000\">gini = 0.278</text>\n<text text-anchor=\"start\" x=\"1336.5\" y=\"-310.8\" font-family=\"Helvetica,sans-Serif\" font-size=\"14.00\" fill=\"#000000\">samples = 14</text>\n<text text-anchor=\"start\" x=\"1335\" y=\"-296.8\" font-family=\"Helvetica,sans-Serif\" font-size=\"14.00\" fill=\"#000000\">value = [4, 20]</text>\n</g>\n<!-- 45&#45;&gt;47 -->\n<g id=\"edge47\" class=\"edge\">\n<title>45&#45;&gt;47</title>\n<path fill=\"none\" stroke=\"#000000\" d=\"M1318.1158,-388.8089C1326.4054,-379.7985 1335.5116,-369.9004 1344.1435,-360.518\"/>\n<polygon fill=\"#000000\" stroke=\"#000000\" points=\"1346.7449,-362.8598 1350.9397,-353.1308 1341.5933,-358.1204 1346.7449,-362.8598\"/>\n</g>\n<!-- 48 -->\n<g id=\"node49\" class=\"node\">\n<title>48</title>\n<path fill=\"#43a2e6\" stroke=\"#000000\" d=\"M1414,-253C1414,-253 1331,-253 1331,-253 1325,-253 1319,-247 1319,-241 1319,-241 1319,-201 1319,-201 1319,-195 1325,-189 1331,-189 1331,-189 1414,-189 1414,-189 1420,-189 1426,-195 1426,-201 1426,-201 1426,-241 1426,-241 1426,-247 1420,-253 1414,-253\"/>\n<text text-anchor=\"start\" x=\"1346\" y=\"-238.8\" font-family=\"Helvetica,sans-Serif\" font-size=\"14.00\" fill=\"#000000\">X</text>\n<text text-anchor=\"start\" x=\"1356\" y=\"-238.8\" font-family=\"Helvetica,sans-Serif\" baseline-shift=\"sub\" font-size=\"14.00\" fill=\"#000000\">5</text>\n<text text-anchor=\"start\" x=\"1363\" y=\"-238.8\" font-family=\"Helvetica,sans-Serif\" font-size=\"14.00\" fill=\"#000000\"> ≤ 0.5</text>\n<text text-anchor=\"start\" x=\"1334.5\" y=\"-224.8\" font-family=\"Helvetica,sans-Serif\" font-size=\"14.00\" fill=\"#000000\">gini = 0.091</text>\n<text text-anchor=\"start\" x=\"1328.5\" y=\"-210.8\" font-family=\"Helvetica,sans-Serif\" font-size=\"14.00\" fill=\"#000000\">samples = 12</text>\n<text text-anchor=\"start\" x=\"1327\" y=\"-196.8\" font-family=\"Helvetica,sans-Serif\" font-size=\"14.00\" fill=\"#000000\">value = [1, 20]</text>\n</g>\n<!-- 47&#45;&gt;48 -->\n<g id=\"edge48\" class=\"edge\">\n<title>47&#45;&gt;48</title>\n<path fill=\"none\" stroke=\"#000000\" d=\"M1377.9247,-288.8089C1377.2752,-280.6906 1376.5681,-271.8517 1375.8855,-263.3186\"/>\n<polygon fill=\"#000000\" stroke=\"#000000\" points=\"1379.3569,-262.8198 1375.0705,-253.1308 1372.3791,-263.3781 1379.3569,-262.8198\"/>\n</g>\n<!-- 53 -->\n<g id=\"node54\" class=\"node\">\n<title>53</title>\n<path fill=\"#e58139\" stroke=\"#000000\" d=\"M1531,-247.5C1531,-247.5 1456,-247.5 1456,-247.5 1450,-247.5 1444,-241.5 1444,-235.5 1444,-235.5 1444,-206.5 1444,-206.5 1444,-200.5 1450,-194.5 1456,-194.5 1456,-194.5 1531,-194.5 1531,-194.5 1537,-194.5 1543,-200.5 1543,-206.5 1543,-206.5 1543,-235.5 1543,-235.5 1543,-241.5 1537,-247.5 1531,-247.5\"/>\n<text text-anchor=\"start\" x=\"1464\" y=\"-232.3\" font-family=\"Helvetica,sans-Serif\" font-size=\"14.00\" fill=\"#000000\">gini = 0.0</text>\n<text text-anchor=\"start\" x=\"1454\" y=\"-217.3\" font-family=\"Helvetica,sans-Serif\" font-size=\"14.00\" fill=\"#000000\">samples = 2</text>\n<text text-anchor=\"start\" x=\"1452\" y=\"-202.3\" font-family=\"Helvetica,sans-Serif\" font-size=\"14.00\" fill=\"#000000\">value = [3, 0]</text>\n</g>\n<!-- 47&#45;&gt;53 -->\n<g id=\"edge53\" class=\"edge\">\n<title>47&#45;&gt;53</title>\n<path fill=\"none\" stroke=\"#000000\" d=\"M1416.8759,-288.8089C1429.2715,-277.8393 1443.1537,-265.5543 1455.6613,-254.4855\"/>\n<polygon fill=\"#000000\" stroke=\"#000000\" points=\"1458.0767,-257.0218 1463.2459,-247.7735 1453.4377,-251.7797 1458.0767,-257.0218\"/>\n</g>\n<!-- 49 -->\n<g id=\"node50\" class=\"node\">\n<title>49</title>\n<path fill=\"#399de5\" stroke=\"#000000\" d=\"M1356,-147.5C1356,-147.5 1273,-147.5 1273,-147.5 1267,-147.5 1261,-141.5 1261,-135.5 1261,-135.5 1261,-106.5 1261,-106.5 1261,-100.5 1267,-94.5 1273,-94.5 1273,-94.5 1356,-94.5 1356,-94.5 1362,-94.5 1368,-100.5 1368,-106.5 1368,-106.5 1368,-135.5 1368,-135.5 1368,-141.5 1362,-147.5 1356,-147.5\"/>\n<text text-anchor=\"start\" x=\"1285\" y=\"-132.3\" font-family=\"Helvetica,sans-Serif\" font-size=\"14.00\" fill=\"#000000\">gini = 0.0</text>\n<text text-anchor=\"start\" x=\"1275\" y=\"-117.3\" font-family=\"Helvetica,sans-Serif\" font-size=\"14.00\" fill=\"#000000\">samples = 9</text>\n<text text-anchor=\"start\" x=\"1269\" y=\"-102.3\" font-family=\"Helvetica,sans-Serif\" font-size=\"14.00\" fill=\"#000000\">value = [0, 17]</text>\n</g>\n<!-- 48&#45;&gt;49 -->\n<g id=\"edge49\" class=\"edge\">\n<title>48&#45;&gt;49</title>\n<path fill=\"none\" stroke=\"#000000\" d=\"M1353.8292,-188.8089C1347.887,-178.5638 1341.2792,-167.1711 1335.2023,-156.6936\"/>\n<polygon fill=\"#000000\" stroke=\"#000000\" points=\"1338.0735,-154.6678 1330.0286,-147.7735 1332.0183,-158.1799 1338.0735,-154.6678\"/>\n</g>\n<!-- 50 -->\n<g id=\"node51\" class=\"node\">\n<title>50</title>\n<path fill=\"#7bbeee\" stroke=\"#000000\" d=\"M1473,-153C1473,-153 1398,-153 1398,-153 1392,-153 1386,-147 1386,-141 1386,-141 1386,-101 1386,-101 1386,-95 1392,-89 1398,-89 1398,-89 1473,-89 1473,-89 1479,-89 1485,-95 1485,-101 1485,-101 1485,-141 1485,-141 1485,-147 1479,-153 1473,-153\"/>\n<text text-anchor=\"start\" x=\"1401\" y=\"-138.8\" font-family=\"Helvetica,sans-Serif\" font-size=\"14.00\" fill=\"#000000\">X</text>\n<text text-anchor=\"start\" x=\"1411\" y=\"-138.8\" font-family=\"Helvetica,sans-Serif\" baseline-shift=\"sub\" font-size=\"14.00\" fill=\"#000000\">7</text>\n<text text-anchor=\"start\" x=\"1418\" y=\"-138.8\" font-family=\"Helvetica,sans-Serif\" font-size=\"14.00\" fill=\"#000000\"> ≤ 165.5</text>\n<text text-anchor=\"start\" x=\"1397.5\" y=\"-124.8\" font-family=\"Helvetica,sans-Serif\" font-size=\"14.00\" fill=\"#000000\">gini = 0.375</text>\n<text text-anchor=\"start\" x=\"1396\" y=\"-110.8\" font-family=\"Helvetica,sans-Serif\" font-size=\"14.00\" fill=\"#000000\">samples = 3</text>\n<text text-anchor=\"start\" x=\"1394\" y=\"-96.8\" font-family=\"Helvetica,sans-Serif\" font-size=\"14.00\" fill=\"#000000\">value = [1, 3]</text>\n</g>\n<!-- 48&#45;&gt;50 -->\n<g id=\"edge50\" class=\"edge\">\n<title>48&#45;&gt;50</title>\n<path fill=\"none\" stroke=\"#000000\" d=\"M1392.7804,-188.8089C1398.2322,-180.1553 1404.1997,-170.683 1409.8999,-161.635\"/>\n<polygon fill=\"#000000\" stroke=\"#000000\" points=\"1412.8885,-163.4573 1415.2576,-153.1308 1406.9659,-159.726 1412.8885,-163.4573\"/>\n</g>\n<!-- 51 -->\n<g id=\"node52\" class=\"node\">\n<title>51</title>\n<path fill=\"#399de5\" stroke=\"#000000\" d=\"M1414,-53C1414,-53 1339,-53 1339,-53 1333,-53 1327,-47 1327,-41 1327,-41 1327,-12 1327,-12 1327,-6 1333,0 1339,0 1339,0 1414,0 1414,0 1420,0 1426,-6 1426,-12 1426,-12 1426,-41 1426,-41 1426,-47 1420,-53 1414,-53\"/>\n<text text-anchor=\"start\" x=\"1347\" y=\"-37.8\" font-family=\"Helvetica,sans-Serif\" font-size=\"14.00\" fill=\"#000000\">gini = 0.0</text>\n<text text-anchor=\"start\" x=\"1337\" y=\"-22.8\" font-family=\"Helvetica,sans-Serif\" font-size=\"14.00\" fill=\"#000000\">samples = 2</text>\n<text text-anchor=\"start\" x=\"1335\" y=\"-7.8\" font-family=\"Helvetica,sans-Serif\" font-size=\"14.00\" fill=\"#000000\">value = [0, 3]</text>\n</g>\n<!-- 50&#45;&gt;51 -->\n<g id=\"edge51\" class=\"edge\">\n<title>50&#45;&gt;51</title>\n<path fill=\"none\" stroke=\"#000000\" d=\"M1415.3606,-88.7428C1409.9526,-80.0809 1404.0764,-70.669 1398.5697,-61.849\"/>\n<polygon fill=\"#000000\" stroke=\"#000000\" points=\"1401.4821,-59.9048 1393.2172,-53.2759 1395.5443,-63.612 1401.4821,-59.9048\"/>\n</g>\n<!-- 52 -->\n<g id=\"node53\" class=\"node\">\n<title>52</title>\n<path fill=\"#e58139\" stroke=\"#000000\" d=\"M1531,-53C1531,-53 1456,-53 1456,-53 1450,-53 1444,-47 1444,-41 1444,-41 1444,-12 1444,-12 1444,-6 1450,0 1456,0 1456,0 1531,0 1531,0 1537,0 1543,-6 1543,-12 1543,-12 1543,-41 1543,-41 1543,-47 1537,-53 1531,-53\"/>\n<text text-anchor=\"start\" x=\"1464\" y=\"-37.8\" font-family=\"Helvetica,sans-Serif\" font-size=\"14.00\" fill=\"#000000\">gini = 0.0</text>\n<text text-anchor=\"start\" x=\"1454\" y=\"-22.8\" font-family=\"Helvetica,sans-Serif\" font-size=\"14.00\" fill=\"#000000\">samples = 1</text>\n<text text-anchor=\"start\" x=\"1452\" y=\"-7.8\" font-family=\"Helvetica,sans-Serif\" font-size=\"14.00\" fill=\"#000000\">value = [1, 0]</text>\n</g>\n<!-- 50&#45;&gt;52 -->\n<g id=\"edge52\" class=\"edge\">\n<title>50&#45;&gt;52</title>\n<path fill=\"none\" stroke=\"#000000\" d=\"M1455.2981,-88.7428C1460.6144,-80.0809 1466.391,-70.669 1471.8043,-61.849\"/>\n<polygon fill=\"#000000\" stroke=\"#000000\" points=\"1474.8182,-63.6295 1477.0661,-53.2759 1468.8522,-59.9678 1474.8182,-63.6295\"/>\n</g>\n<!-- 55 -->\n<g id=\"node56\" class=\"node\">\n<title>55</title>\n<path fill=\"#e58139\" stroke=\"#000000\" d=\"M1539,-347.5C1539,-347.5 1464,-347.5 1464,-347.5 1458,-347.5 1452,-341.5 1452,-335.5 1452,-335.5 1452,-306.5 1452,-306.5 1452,-300.5 1458,-294.5 1464,-294.5 1464,-294.5 1539,-294.5 1539,-294.5 1545,-294.5 1551,-300.5 1551,-306.5 1551,-306.5 1551,-335.5 1551,-335.5 1551,-341.5 1545,-347.5 1539,-347.5\"/>\n<text text-anchor=\"start\" x=\"1472\" y=\"-332.3\" font-family=\"Helvetica,sans-Serif\" font-size=\"14.00\" fill=\"#000000\">gini = 0.0</text>\n<text text-anchor=\"start\" x=\"1462\" y=\"-317.3\" font-family=\"Helvetica,sans-Serif\" font-size=\"14.00\" fill=\"#000000\">samples = 4</text>\n<text text-anchor=\"start\" x=\"1460\" y=\"-302.3\" font-family=\"Helvetica,sans-Serif\" font-size=\"14.00\" fill=\"#000000\">value = [7, 0]</text>\n</g>\n<!-- 54&#45;&gt;55 -->\n<g id=\"edge55\" class=\"edge\">\n<title>54&#45;&gt;55</title>\n<path fill=\"none\" stroke=\"#000000\" d=\"M1501.5,-388.8089C1501.5,-378.9777 1501.5,-368.0898 1501.5,-357.9679\"/>\n<polygon fill=\"#000000\" stroke=\"#000000\" points=\"1505.0001,-357.7735 1501.5,-347.7735 1498.0001,-357.7736 1505.0001,-357.7735\"/>\n</g>\n<!-- 56 -->\n<g id=\"node57\" class=\"node\">\n<title>56</title>\n<path fill=\"#399de5\" stroke=\"#000000\" d=\"M1656,-347.5C1656,-347.5 1581,-347.5 1581,-347.5 1575,-347.5 1569,-341.5 1569,-335.5 1569,-335.5 1569,-306.5 1569,-306.5 1569,-300.5 1575,-294.5 1581,-294.5 1581,-294.5 1656,-294.5 1656,-294.5 1662,-294.5 1668,-300.5 1668,-306.5 1668,-306.5 1668,-335.5 1668,-335.5 1668,-341.5 1662,-347.5 1656,-347.5\"/>\n<text text-anchor=\"start\" x=\"1589\" y=\"-332.3\" font-family=\"Helvetica,sans-Serif\" font-size=\"14.00\" fill=\"#000000\">gini = 0.0</text>\n<text text-anchor=\"start\" x=\"1579\" y=\"-317.3\" font-family=\"Helvetica,sans-Serif\" font-size=\"14.00\" fill=\"#000000\">samples = 2</text>\n<text text-anchor=\"start\" x=\"1577\" y=\"-302.3\" font-family=\"Helvetica,sans-Serif\" font-size=\"14.00\" fill=\"#000000\">value = [0, 2]</text>\n</g>\n<!-- 54&#45;&gt;56 -->\n<g id=\"edge56\" class=\"edge\">\n<title>54&#45;&gt;56</title>\n<path fill=\"none\" stroke=\"#000000\" d=\"M1539.1636,-388.8089C1551.998,-377.8393 1566.3715,-365.5543 1579.3219,-354.4855\"/>\n<polygon fill=\"#000000\" stroke=\"#000000\" points=\"1581.8473,-356.9314 1587.175,-347.7735 1577.2992,-351.6101 1581.8473,-356.9314\"/>\n</g>\n</g>\n</svg>\n"
          },
          "metadata": {
            "tags": []
          },
          "execution_count": 164
        }
      ]
    },
    {
      "cell_type": "markdown",
      "metadata": {
        "id": "9kgFFCjGq2YK",
        "colab_type": "text"
      },
      "source": [
        "**F) Selecting the best model**"
      ]
    },
    {
      "cell_type": "code",
      "metadata": {
        "id": "8kwSGEZSq5Pi",
        "colab_type": "code",
        "outputId": "a82f2f54-ad3d-4f4a-e63a-810a9856946d",
        "colab": {
          "base_uri": "https://localhost:8080/",
          "height": 110
        }
      },
      "source": [
        "# Confusion Matrix of Logistic Regression Algorithm \n",
        "\n",
        "pd.DataFrame(cm)"
      ],
      "execution_count": 0,
      "outputs": [
        {
          "output_type": "execute_result",
          "data": {
            "text/html": [
              "<div>\n",
              "<style scoped>\n",
              "    .dataframe tbody tr th:only-of-type {\n",
              "        vertical-align: middle;\n",
              "    }\n",
              "\n",
              "    .dataframe tbody tr th {\n",
              "        vertical-align: top;\n",
              "    }\n",
              "\n",
              "    .dataframe thead th {\n",
              "        text-align: right;\n",
              "    }\n",
              "</style>\n",
              "<table border=\"1\" class=\"dataframe\">\n",
              "  <thead>\n",
              "    <tr style=\"text-align: right;\">\n",
              "      <th></th>\n",
              "      <th>0</th>\n",
              "      <th>1</th>\n",
              "    </tr>\n",
              "  </thead>\n",
              "  <tbody>\n",
              "    <tr>\n",
              "      <th>0</th>\n",
              "      <td>32</td>\n",
              "      <td>12</td>\n",
              "    </tr>\n",
              "    <tr>\n",
              "      <th>1</th>\n",
              "      <td>5</td>\n",
              "      <td>42</td>\n",
              "    </tr>\n",
              "  </tbody>\n",
              "</table>\n",
              "</div>"
            ],
            "text/plain": [
              "    0   1\n",
              "0  32  12\n",
              "1   5  42"
            ]
          },
          "metadata": {
            "tags": []
          },
          "execution_count": 168
        }
      ]
    },
    {
      "cell_type": "code",
      "metadata": {
        "id": "1-Q79cRirnl5",
        "colab_type": "code",
        "outputId": "cc38f3f8-7cba-4df6-973c-176f7ea1b255",
        "colab": {
          "base_uri": "https://localhost:8080/",
          "height": 110
        }
      },
      "source": [
        "# Confusion Matrix of Decision Tree Algorithm \n",
        "\n",
        "pd.DataFrame(cf_dtree)"
      ],
      "execution_count": 0,
      "outputs": [
        {
          "output_type": "execute_result",
          "data": {
            "text/html": [
              "<div>\n",
              "<style scoped>\n",
              "    .dataframe tbody tr th:only-of-type {\n",
              "        vertical-align: middle;\n",
              "    }\n",
              "\n",
              "    .dataframe tbody tr th {\n",
              "        vertical-align: top;\n",
              "    }\n",
              "\n",
              "    .dataframe thead th {\n",
              "        text-align: right;\n",
              "    }\n",
              "</style>\n",
              "<table border=\"1\" class=\"dataframe\">\n",
              "  <thead>\n",
              "    <tr style=\"text-align: right;\">\n",
              "      <th></th>\n",
              "      <th>0</th>\n",
              "      <th>1</th>\n",
              "    </tr>\n",
              "  </thead>\n",
              "  <tbody>\n",
              "    <tr>\n",
              "      <th>0</th>\n",
              "      <td>32</td>\n",
              "      <td>12</td>\n",
              "    </tr>\n",
              "    <tr>\n",
              "      <th>1</th>\n",
              "      <td>13</td>\n",
              "      <td>34</td>\n",
              "    </tr>\n",
              "  </tbody>\n",
              "</table>\n",
              "</div>"
            ],
            "text/plain": [
              "    0   1\n",
              "0  32  12\n",
              "1  13  34"
            ]
          },
          "metadata": {
            "tags": []
          },
          "execution_count": 169
        }
      ]
    },
    {
      "cell_type": "code",
      "metadata": {
        "id": "VV8KhG7Ar-L0",
        "colab_type": "code",
        "outputId": "6f623c96-8fe6-453b-dd90-e79a70f68b37",
        "colab": {
          "base_uri": "https://localhost:8080/",
          "height": 110
        }
      },
      "source": [
        "# Confusion Matrix of Random Forest Algorithm \n",
        "\n",
        "pd.DataFrame(rf_cm)"
      ],
      "execution_count": 0,
      "outputs": [
        {
          "output_type": "execute_result",
          "data": {
            "text/html": [
              "<div>\n",
              "<style scoped>\n",
              "    .dataframe tbody tr th:only-of-type {\n",
              "        vertical-align: middle;\n",
              "    }\n",
              "\n",
              "    .dataframe tbody tr th {\n",
              "        vertical-align: top;\n",
              "    }\n",
              "\n",
              "    .dataframe thead th {\n",
              "        text-align: right;\n",
              "    }\n",
              "</style>\n",
              "<table border=\"1\" class=\"dataframe\">\n",
              "  <thead>\n",
              "    <tr style=\"text-align: right;\">\n",
              "      <th></th>\n",
              "      <th>0</th>\n",
              "      <th>1</th>\n",
              "    </tr>\n",
              "  </thead>\n",
              "  <tbody>\n",
              "    <tr>\n",
              "      <th>0</th>\n",
              "      <td>32</td>\n",
              "      <td>12</td>\n",
              "    </tr>\n",
              "    <tr>\n",
              "      <th>1</th>\n",
              "      <td>4</td>\n",
              "      <td>43</td>\n",
              "    </tr>\n",
              "  </tbody>\n",
              "</table>\n",
              "</div>"
            ],
            "text/plain": [
              "    0   1\n",
              "0  32  12\n",
              "1   4  43"
            ]
          },
          "metadata": {
            "tags": []
          },
          "execution_count": 170
        }
      ]
    },
    {
      "cell_type": "code",
      "metadata": {
        "id": "mzdLJ8UGsRQR",
        "colab_type": "code",
        "colab": {}
      },
      "source": [
        "# Classification reports of all classifiers\n",
        "\n",
        "\n",
        "from sklearn.metrics import classification_report\n",
        "target_names = [\"Not Having Heart Disease\",\"Having Heart Disease\"]\n",
        "\n",
        "lr_report = classification_report(y_test,y_pred,target_names=target_names)\n",
        "\n",
        "dtree_report = classification_report(y_test,dtree_y_pred,target_names=target_names)\n",
        "\n",
        "rf_report = classification_report(y_test,rf_y_pred,target_names=target_names)\n",
        "\n"
      ],
      "execution_count": 0,
      "outputs": []
    },
    {
      "cell_type": "code",
      "metadata": {
        "id": "09k99wYrubR7",
        "colab_type": "code",
        "outputId": "3c9c1947-2119-4bc5-8bf2-a62bad838777",
        "colab": {
          "base_uri": "https://localhost:8080/",
          "height": 589
        }
      },
      "source": [
        "print(\"=====================Classification Report Of Logistic Regression========================\\n\\n\",lr_report)\n",
        "print(\"=====================Classification Report Of Decision Tree===============================\\n\\n\",dtree_report)\n",
        "print(\"======================Classification Report Of Random Forest===============================\\n\\n\",rf_report)"
      ],
      "execution_count": 0,
      "outputs": [
        {
          "output_type": "stream",
          "text": [
            "=====================Classification Report Of Logistic Regression========================\n",
            "\n",
            "                           precision    recall  f1-score   support\n",
            "\n",
            "Not Having Heart Disease       0.86      0.73      0.79        44\n",
            "    Having Heart Disease       0.78      0.89      0.83        47\n",
            "\n",
            "                accuracy                           0.81        91\n",
            "               macro avg       0.82      0.81      0.81        91\n",
            "            weighted avg       0.82      0.81      0.81        91\n",
            "\n",
            "=====================Classification Report Of Decision Tree===============================\n",
            "\n",
            "                           precision    recall  f1-score   support\n",
            "\n",
            "Not Having Heart Disease       0.71      0.73      0.72        44\n",
            "    Having Heart Disease       0.74      0.72      0.73        47\n",
            "\n",
            "                accuracy                           0.73        91\n",
            "               macro avg       0.73      0.73      0.73        91\n",
            "            weighted avg       0.73      0.73      0.73        91\n",
            "\n",
            "======================Classification Report Of Random Forest===============================\n",
            "\n",
            "                           precision    recall  f1-score   support\n",
            "\n",
            "Not Having Heart Disease       0.89      0.73      0.80        44\n",
            "    Having Heart Disease       0.78      0.91      0.84        47\n",
            "\n",
            "                accuracy                           0.82        91\n",
            "               macro avg       0.84      0.82      0.82        91\n",
            "            weighted avg       0.83      0.82      0.82        91\n",
            "\n"
          ],
          "name": "stdout"
        }
      ]
    },
    {
      "cell_type": "code",
      "metadata": {
        "id": "BrI7qYpUuN7p",
        "colab_type": "code",
        "outputId": "3b6bcd9a-7f14-488c-c47f-764b365c1cb1",
        "colab": {
          "base_uri": "https://localhost:8080/",
          "height": 69
        }
      },
      "source": [
        "# Accuracies of all classifiers\n",
        "\n",
        "print(\"Logistic Regression Classifier : \",score*100,\"%\")\n",
        "print(\"Decision Tree Classifier : \", dtree_accuracy_score*100,\"%\")\n",
        "print(\"Random Forest Classifier : \",rf_accuracy*100,\"%\")"
      ],
      "execution_count": 0,
      "outputs": [
        {
          "output_type": "stream",
          "text": [
            "Logistic Regression Classifier :  81.31868131868131 %\n",
            "Decision Tree Classifier :  72.52747252747253 %\n",
            "Random Forest Classifier :  82.41758241758241 %\n"
          ],
          "name": "stdout"
        }
      ]
    },
    {
      "cell_type": "code",
      "metadata": {
        "id": "b3zIuhxryCvt",
        "colab_type": "code",
        "outputId": "c1ded505-043b-4ca8-cd66-8987865c2339",
        "colab": {
          "base_uri": "https://localhost:8080/",
          "height": 207
        }
      },
      "source": [
        "# Heatmaps of all the classifiers\n",
        "\n",
        "print(\"Heatmap of Logistic Regression Classifier\",print_heatmap(cm,score,figsize=(5,2)))\n",
        "\n"
      ],
      "execution_count": 0,
      "outputs": [
        {
          "output_type": "stream",
          "text": [
            "Heatmap of Logistic Regression Classifier None\n"
          ],
          "name": "stdout"
        },
        {
          "output_type": "display_data",
          "data": {
            "image/png": "[encoded data removed]",
            "text/plain": [
              "<Figure size 360x144 with 2 Axes>"
            ]
          },
          "metadata": {
            "tags": [],
            "needs_background": "light"
          }
        }
      ]
    },
    {
      "cell_type": "code",
      "metadata": {
        "id": "b_bJFMQgzFGy",
        "colab_type": "code",
        "outputId": "03593ccc-183d-4e4d-cc7c-71a142a47561",
        "colab": {
          "base_uri": "https://localhost:8080/",
          "height": 207
        }
      },
      "source": [
        "print(\"Decision Tree Classifier\",print_heatmap(cf_dtree,dtree_accuracy_score,figsize=(5,2)))\n"
      ],
      "execution_count": 0,
      "outputs": [
        {
          "output_type": "stream",
          "text": [
            "Decision Tree Classifier None\n"
          ],
          "name": "stdout"
        },
        {
          "output_type": "display_data",
          "data": {
            "image/png": "[encoded data removed]",
            "text/plain": [
              "<Figure size 360x144 with 2 Axes>"
            ]
          },
          "metadata": {
            "tags": [],
            "needs_background": "light"
          }
        }
      ]
    },
    {
      "cell_type": "code",
      "metadata": {
        "id": "ziyOInG4zLQR",
        "colab_type": "code",
        "outputId": "8a4f7582-3ec6-4a1b-bf49-389182719036",
        "colab": {
          "base_uri": "https://localhost:8080/",
          "height": 207
        }
      },
      "source": [
        "print(\"Random Forest Classifier\",print_heatmap(rf_cm,rf_accuracy,figsize=(5,2)))"
      ],
      "execution_count": 0,
      "outputs": [
        {
          "output_type": "stream",
          "text": [
            "Random Forest Classifier None\n"
          ],
          "name": "stdout"
        },
        {
          "output_type": "display_data",
          "data": {
            "image/png": "[encoded data removed]",
            "text/plain": [
              "<Figure size 360x144 with 2 Axes>"
            ]
          },
          "metadata": {
            "tags": [],
            "needs_background": "light"
          }
        }
      ]
    },
    {
      "cell_type": "code",
      "metadata": {
        "id": "dwzUanDc0FRw",
        "colab_type": "code",
        "colab": {}
      },
      "source": [
        "# Precision, Recall and F1 Score of all the classifiers\n",
        "\n",
        "from sklearn.metrics import recall_score\n",
        "from sklearn.metrics import precision_score\n",
        "from sklearn.metrics import f1_score\n"
      ],
      "execution_count": 0,
      "outputs": []
    },
    {
      "cell_type": "code",
      "metadata": {
        "id": "ISEncfTg0xPx",
        "colab_type": "code",
        "outputId": "ad931165-c56e-478a-eddc-863673e6c589",
        "colab": {
          "base_uri": "https://localhost:8080/",
          "height": 35
        }
      },
      "source": [
        "# RECALLS\n",
        "\n",
        "recall_lr = recall_score(y_test,y_pred)\n",
        "recall_dtree = recall_score(y_test,dtree_y_pred)\n",
        "recall_rf = recall_score(y_test,rf_y_pred)\n",
        "\n",
        "recalls = []\n",
        "recalls.append(recall_lr)\n",
        "recalls.append(recall_dtree)\n",
        "recalls.append(recall_rf)"
      ],
      "execution_count": 0,
      "outputs": [
        {
          "output_type": "execute_result",
          "data": {
            "text/plain": [
              "[0.8936170212765957, 0.723404255319149, 0.9148936170212766]"
            ]
          },
          "metadata": {
            "tags": []
          },
          "execution_count": 216
        }
      ]
    },
    {
      "cell_type": "code",
      "metadata": {
        "id": "bIA4HRXN10Yl",
        "colab_type": "code",
        "outputId": "792b2756-51b9-42cc-cc8a-29175c284c39",
        "colab": {
          "base_uri": "https://localhost:8080/",
          "height": 35
        }
      },
      "source": [
        "# PRECISIONS\n",
        "pre_lr = precision_score(y_test,y_pred)\n",
        "pre_dtree = precision_score(y_test,dtree_y_pred)\n",
        "pre_rf = precision_score(y_test,rf_y_pred)\n",
        "\n",
        "precisions = []\n",
        "precisions.append(pre_lr)\n",
        "precisions.append(pre_dtree)\n",
        "precisions.append(pre_rf)\n"
      ],
      "execution_count": 0,
      "outputs": [
        {
          "output_type": "execute_result",
          "data": {
            "text/plain": [
              "[0.7777777777777778, 0.7391304347826086, 0.7818181818181819]"
            ]
          },
          "metadata": {
            "tags": []
          },
          "execution_count": 219
        }
      ]
    },
    {
      "cell_type": "code",
      "metadata": {
        "id": "MMJxznXq2hOU",
        "colab_type": "code",
        "outputId": "bd2d8bc8-de59-47c0-8f50-5492d3b64426",
        "colab": {
          "base_uri": "https://localhost:8080/",
          "height": 35
        }
      },
      "source": [
        "#   F1-SCORES \n",
        "\n",
        "f1_lr = f1_score(y_test,y_pred)\n",
        "f1_dtree = f1_score(y_test,dtree_y_pred)\n",
        "f1_rf = f1_score(y_test,rf_y_pred)\n",
        "\n",
        "f1s = []\n",
        "\n",
        "f1s.append(f1_lr)\n",
        "f1s.append(f1_dtree)\n",
        "f1s.append(f1_rf)\n",
        "f1s"
      ],
      "execution_count": 0,
      "outputs": [
        {
          "output_type": "execute_result",
          "data": {
            "text/plain": [
              "[0.8316831683168316, 0.7311827956989247, 0.8431372549019609]"
            ]
          },
          "metadata": {
            "tags": []
          },
          "execution_count": 222
        }
      ]
    },
    {
      "cell_type": "code",
      "metadata": {
        "id": "29JwHqFc3QdO",
        "colab_type": "code",
        "outputId": "049e4b98-9d3c-4c05-9800-cae1e111dd6b",
        "colab": {
          "base_uri": "https://localhost:8080/",
          "height": 334
        }
      },
      "source": [
        "# BAR plot \n",
        "import matplotlib.pyplot as plt\n",
        "import numpy as np\n",
        "\n",
        "plt.figure(figsize=(10,5))\n",
        "barWidth = 0.25\n",
        "classifiers = [\"Logistic Regression\",\"Decision Tree\",\"Random Forest\"]\n",
        "\n",
        "r1 = np.arange(len(recalls))\n",
        "r2 = [x + barWidth for x in r1]\n",
        "r3 = [x + barWidth for x in r2]\n",
        "\n",
        "plt.bar(r1, recalls, color='blue', width=barWidth, edgecolor='white', label='Recall Score')\n",
        "plt.bar(r2, precisions, color='yellow', width=barWidth, edgecolor='white', label='Precison Score')\n",
        "plt.bar(r3, f1s, color='red', width=barWidth, edgecolor='white', label='F1-Score')\n",
        "\n",
        "plt.xlabel('Classifier Analysis Parameters ', fontweight='bold')\n",
        "plt.xticks([r + barWidth for r in range(len(recalls))], classifiers)\n",
        " \n",
        "plt.legend()\n",
        "\n",
        "\n",
        "plt.show()"
      ],
      "execution_count": 0,
      "outputs": [
        {
          "output_type": "display_data",
          "data": {
            "image/png": "[encoded data removed]",
            "text/plain": [
              "<Figure size 720x360 with 1 Axes>"
            ]
          },
          "metadata": {
            "tags": [],
            "needs_background": "light"
          }
        }
      ]
    },
    {
      "cell_type": "markdown",
      "metadata": {
        "id": "3woG46Oz6vRc",
        "colab_type": "text"
      },
      "source": [
        "**As the accuracy of the random forest classifier is better than the decison tree and the logistic regression hence for this example Random Forest is the Best Classifier**\n",
        "\n",
        "---\n",
        "\n",
        "\n",
        "\n",
        "---\n",
        "\n"
      ]
    }
  ]
}